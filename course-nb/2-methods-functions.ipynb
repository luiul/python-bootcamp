{
 "cells": [
  {
   "cell_type": "markdown",
   "id": "e737e14e-1cdc-40aa-b0ec-61d0b71ea405",
   "metadata": {},
   "source": [
    "# Methods and Functions"
   ]
  },
  {
   "cell_type": "code",
   "execution_count": 1,
   "id": "2dd2d0af-8940-4e89-b1a0-1796a4129475",
   "metadata": {},
   "outputs": [],
   "source": [
    "l = list(range(1,4))"
   ]
  },
  {
   "cell_type": "code",
   "execution_count": 2,
   "id": "e26088b2-7212-4d97-a9e6-3413aae04321",
   "metadata": {},
   "outputs": [],
   "source": [
    "l.append(4)"
   ]
  },
  {
   "cell_type": "code",
   "execution_count": 3,
   "id": "1ed31262-a647-4bd3-8d09-793699028338",
   "metadata": {},
   "outputs": [
    {
     "data": {
      "text/plain": [
       "[1, 2, 3, 4]"
      ]
     },
     "execution_count": 3,
     "metadata": {},
     "output_type": "execute_result"
    }
   ],
   "source": [
    "l"
   ]
  },
  {
   "cell_type": "code",
   "execution_count": 4,
   "id": "2a375262-65a4-4656-b133-3c6fc572319b",
   "metadata": {},
   "outputs": [
    {
     "data": {
      "text/plain": [
       "4"
      ]
     },
     "execution_count": 4,
     "metadata": {},
     "output_type": "execute_result"
    }
   ],
   "source": [
    "l.pop()"
   ]
  },
  {
   "cell_type": "code",
   "execution_count": 5,
   "id": "aef2aed6-4a03-4287-821e-f575fe0f148a",
   "metadata": {},
   "outputs": [
    {
     "data": {
      "text/plain": [
       "[1, 2, 3]"
      ]
     },
     "execution_count": 5,
     "metadata": {},
     "output_type": "execute_result"
    }
   ],
   "source": [
    "l"
   ]
  },
  {
   "cell_type": "markdown",
   "id": "897a240c-0f76-45e0-8fd0-d2bc3c4450f3",
   "metadata": {
    "tags": []
   },
   "source": [
    "## Basic Functions"
   ]
  },
  {
   "cell_type": "code",
   "execution_count": 7,
   "id": "573bf9ba-1ea9-4854-82fe-697f020ab61d",
   "metadata": {},
   "outputs": [],
   "source": [
    "def say_hello(): \n",
    "    '''\n",
    "    Print hello\n",
    "    '''\n",
    "    print('hello')"
   ]
  },
  {
   "cell_type": "code",
   "execution_count": 8,
   "id": "7bfcd00f-0d86-4811-a863-b2dc13946086",
   "metadata": {},
   "outputs": [
    {
     "name": "stdout",
     "output_type": "stream",
     "text": [
      "hello\n"
     ]
    }
   ],
   "source": [
    "say_hello()"
   ]
  },
  {
   "cell_type": "code",
   "execution_count": 9,
   "id": "1d62f836-c872-476b-8cb2-cebf80fa40bb",
   "metadata": {},
   "outputs": [
    {
     "data": {
      "text/plain": [
       "<function __main__.say_hello()>"
      ]
     },
     "execution_count": 9,
     "metadata": {},
     "output_type": "execute_result"
    }
   ],
   "source": [
    "say_hello"
   ]
  },
  {
   "cell_type": "code",
   "execution_count": 10,
   "id": "a2521fb1-9d4a-4e44-bf39-39af5c8e9acf",
   "metadata": {},
   "outputs": [
    {
     "name": "stdin",
     "output_type": "stream",
     "text": [
      " 2\n"
     ]
    },
    {
     "data": {
      "text/plain": [
       "'2'"
      ]
     },
     "execution_count": 10,
     "metadata": {},
     "output_type": "execute_result"
    }
   ],
   "source": [
    "input()"
   ]
  },
  {
   "cell_type": "code",
   "execution_count": 11,
   "id": "60ea954e-6752-400b-ac6f-5ff687dc1f97",
   "metadata": {},
   "outputs": [],
   "source": [
    "def say_hello(name): \n",
    "    '''\n",
    "    Print hello with a name\n",
    "    '''\n",
    "    print(f'Hello {name}')"
   ]
  },
  {
   "cell_type": "code",
   "execution_count": 12,
   "id": "2a23ed36-aa1d-429f-8dd7-39df533b2c98",
   "metadata": {},
   "outputs": [
    {
     "name": "stdout",
     "output_type": "stream",
     "text": [
      "Hello Luis\n"
     ]
    }
   ],
   "source": [
    "say_hello('Luis')"
   ]
  },
  {
   "cell_type": "code",
   "execution_count": 13,
   "id": "d99f5b51-17a7-47cb-8e53-069bd2105416",
   "metadata": {},
   "outputs": [
    {
     "ename": "TypeError",
     "evalue": "say_hello() missing 1 required positional argument: 'name'",
     "output_type": "error",
     "traceback": [
      "\u001b[0;31m---------------------------------------------------------------------------\u001b[0m",
      "\u001b[0;31mTypeError\u001b[0m                                 Traceback (most recent call last)",
      "\u001b[0;32m/var/folders/yq/lxkzwgxd39gbvyfxzc1vrvqr0000gn/T/ipykernel_57554/2814888808.py\u001b[0m in \u001b[0;36m<module>\u001b[0;34m\u001b[0m\n\u001b[0;32m----> 1\u001b[0;31m \u001b[0msay_hello\u001b[0m\u001b[0;34m(\u001b[0m\u001b[0;34m)\u001b[0m\u001b[0;34m\u001b[0m\u001b[0;34m\u001b[0m\u001b[0m\n\u001b[0m",
      "\u001b[0;31mTypeError\u001b[0m: say_hello() missing 1 required positional argument: 'name'"
     ]
    }
   ],
   "source": [
    "say_hello()\n",
    "# we can define a default value for name"
   ]
  },
  {
   "cell_type": "code",
   "execution_count": 14,
   "id": "037979e9-030d-4459-afa5-c4ce2c439ec7",
   "metadata": {},
   "outputs": [],
   "source": [
    "def say_hello(name='!'): \n",
    "    '''\n",
    "    Print hello with a name or ! by default. \n",
    "    '''\n",
    "    print(f'Hello {name}')"
   ]
  },
  {
   "cell_type": "code",
   "execution_count": 15,
   "id": "08a7c773-ca8a-464c-ba4e-11638d5968ea",
   "metadata": {},
   "outputs": [
    {
     "name": "stdout",
     "output_type": "stream",
     "text": [
      "Hello !\n"
     ]
    }
   ],
   "source": [
    "say_hello()"
   ]
  },
  {
   "cell_type": "code",
   "execution_count": 20,
   "id": "c8b3301a-8ce1-4b09-8d56-7977009241c2",
   "metadata": {},
   "outputs": [],
   "source": [
    "def return_res(x,y): \n",
    "    return x + y"
   ]
  },
  {
   "cell_type": "code",
   "execution_count": 21,
   "id": "fafd97f2-c07d-4546-8eb8-58023f9f15df",
   "metadata": {},
   "outputs": [
    {
     "data": {
      "text/plain": [
       "2"
      ]
     },
     "execution_count": 21,
     "metadata": {},
     "output_type": "execute_result"
    }
   ],
   "source": [
    "res = return_res(1,1)\n",
    "res"
   ]
  },
  {
   "cell_type": "code",
   "execution_count": 19,
   "id": "d4b99c0b-17cf-4bbf-81e2-1a0018af77b4",
   "metadata": {},
   "outputs": [],
   "source": [
    "def print_res(x,y): \n",
    "    print(x+y)"
   ]
  },
  {
   "cell_type": "code",
   "execution_count": 23,
   "id": "6e87741f-82cd-4d1b-850f-5067b50fcb7f",
   "metadata": {},
   "outputs": [
    {
     "name": "stdout",
     "output_type": "stream",
     "text": [
      "2\n"
     ]
    }
   ],
   "source": [
    "res = print_res(1,1)"
   ]
  },
  {
   "cell_type": "code",
   "execution_count": 25,
   "id": "0989b0fb-78d1-459f-a529-a6fdeaeb68e3",
   "metadata": {},
   "outputs": [
    {
     "data": {
      "text/plain": [
       "NoneType"
      ]
     },
     "execution_count": 25,
     "metadata": {},
     "output_type": "execute_result"
    }
   ],
   "source": [
    "type(res)"
   ]
  },
  {
   "cell_type": "code",
   "execution_count": 31,
   "id": "3ec2910c-0cc8-4d7b-8fff-a9b12eb3301a",
   "metadata": {},
   "outputs": [],
   "source": [
    "def sum_numbers(x,y):\n",
    "    return x + y"
   ]
  },
  {
   "cell_type": "code",
   "execution_count": 32,
   "id": "6f985f22-0f06-4895-a3e0-616a53a8320f",
   "metadata": {},
   "outputs": [
    {
     "data": {
      "text/plain": [
       "'11'"
      ]
     },
     "execution_count": 32,
     "metadata": {},
     "output_type": "execute_result"
    }
   ],
   "source": [
    "sum_numbers('1','1')"
   ]
  },
  {
   "cell_type": "markdown",
   "id": "ea45bbff-8293-4485-b8bd-053726fb1024",
   "metadata": {},
   "source": [
    "## Functions with Logic"
   ]
  },
  {
   "cell_type": "code",
   "execution_count": 37,
   "id": "0ab99974-c93b-4fd4-8f2b-9c5878454ed9",
   "metadata": {},
   "outputs": [],
   "source": [
    "def check_even(x): \n",
    "    return x % 2 == 0"
   ]
  },
  {
   "cell_type": "code",
   "execution_count": 111,
   "id": "eaa7897f-ea7d-4db3-b547-1b9d5ad92d99",
   "metadata": {},
   "outputs": [],
   "source": [
    "# def is_even(x):\n",
    "#     return True if x%2==0 else False"
   ]
  },
  {
   "cell_type": "code",
   "execution_count": 38,
   "id": "e4d1a78c-3afe-47ea-a586-e309294812c2",
   "metadata": {},
   "outputs": [
    {
     "data": {
      "text/plain": [
       "True"
      ]
     },
     "execution_count": 38,
     "metadata": {},
     "output_type": "execute_result"
    }
   ],
   "source": [
    "check_even(20)"
   ]
  },
  {
   "cell_type": "code",
   "execution_count": 49,
   "id": "1a3d5faa-e8ff-45b5-8c28-52fea8913873",
   "metadata": {},
   "outputs": [],
   "source": [
    "# def check_even_list(l): \n",
    "#     '''\n",
    "#     Return true if any number is even inside a list\n",
    "#     '''\n",
    "#     for i in l: \n",
    "#         if i%2 == 0: \n",
    "#             return True\n",
    "#             break # this break is redundant"
   ]
  },
  {
   "cell_type": "code",
   "execution_count": 50,
   "id": "12979f90-8c73-41de-a6d2-15c9af5bd1b8",
   "metadata": {},
   "outputs": [],
   "source": [
    "def check_even_list(l): \n",
    "    '''\n",
    "    Return true if any number is even inside a list\n",
    "    '''\n",
    "    for i in l: \n",
    "        if i%2 == 0: \n",
    "            return True\n",
    "        else: \n",
    "            pass\n",
    "    return False"
   ]
  },
  {
   "cell_type": "code",
   "execution_count": 51,
   "id": "c401b31a-ca56-4608-9fca-c9b646e33d7c",
   "metadata": {},
   "outputs": [
    {
     "data": {
      "text/plain": [
       "False"
      ]
     },
     "execution_count": 51,
     "metadata": {},
     "output_type": "execute_result"
    }
   ],
   "source": [
    "check_even_list([1,1])"
   ]
  },
  {
   "cell_type": "code",
   "execution_count": 52,
   "id": "d53991d5-ea0e-43bb-9041-68aae761f1eb",
   "metadata": {},
   "outputs": [],
   "source": [
    "def check_even_list(l): \n",
    "    '''\n",
    "    Return all the even numbers in a list\n",
    "    '''\n",
    "    \n",
    "    # placeholder variables\n",
    "    even_num = []\n",
    "    \n",
    "    for i in l: \n",
    "        if i%2 == 0:\n",
    "            even_num.append(i)\n",
    "        else: \n",
    "            pass\n",
    "    \n",
    "    return even_num"
   ]
  },
  {
   "cell_type": "code",
   "execution_count": 53,
   "id": "bef6443c-3d8b-411f-a371-49ca6111099d",
   "metadata": {},
   "outputs": [
    {
     "data": {
      "text/plain": [
       "[2, 4]"
      ]
     },
     "execution_count": 53,
     "metadata": {},
     "output_type": "execute_result"
    }
   ],
   "source": [
    "check_even_list(list(range(1,6)))"
   ]
  },
  {
   "cell_type": "markdown",
   "id": "f03d0730-3c88-4832-832c-d94b4cde8491",
   "metadata": {},
   "source": [
    "## Tuple Unpacking"
   ]
  },
  {
   "cell_type": "code",
   "execution_count": 67,
   "id": "168b9336-8153-4550-9b75-f260d232e5ec",
   "metadata": {},
   "outputs": [],
   "source": [
    "p = [('APPL',200),('GOOG',400),('MSFT',100)]"
   ]
  },
  {
   "cell_type": "code",
   "execution_count": 56,
   "id": "132638bc-88d9-44f9-b8b4-27be2079f647",
   "metadata": {},
   "outputs": [
    {
     "name": "stdout",
     "output_type": "stream",
     "text": [
      "('APPL', 200)\n",
      "('GOOG', 400)\n",
      "('MSFT', 100)\n"
     ]
    }
   ],
   "source": [
    "for i in p: \n",
    "    print(i)"
   ]
  },
  {
   "cell_type": "code",
   "execution_count": 63,
   "id": "9af97b67-48ad-48a6-9df5-13b96b2b89f7",
   "metadata": {},
   "outputs": [
    {
     "name": "stdout",
     "output_type": "stream",
     "text": [
      "10% Increase in prices\n",
      "\n",
      "APPL : 220.0\n",
      "GOOG : 440.0\n",
      "MSFT : 110.0\n"
     ]
    }
   ],
   "source": [
    "print('10% Increase in prices\\n')\n",
    "for ticker, price in p: \n",
    "    print(ticker + ' : ' + str(price+price*0.1))"
   ]
  },
  {
   "cell_type": "code",
   "execution_count": 69,
   "id": "a5d98690-5d22-4268-aa30-23b805661f7c",
   "metadata": {},
   "outputs": [],
   "source": [
    "def price_check(p): \n",
    "    '''\n",
    "    return tuple with company and price with the highest price\n",
    "    '''\n",
    "    max_price = 0\n",
    "    max_company = ''\n",
    "    \n",
    "    for company, price in p: \n",
    "        if price > max_price: \n",
    "            max_price = price\n",
    "            max_company = company\n",
    "        else: \n",
    "            pass\n",
    "    \n",
    "    return(max_company,max_price)"
   ]
  },
  {
   "cell_type": "code",
   "execution_count": 70,
   "id": "3750042e-65b7-4b3a-940c-515644f45f13",
   "metadata": {},
   "outputs": [
    {
     "data": {
      "text/plain": [
       "('GOOG', 400)"
      ]
     },
     "execution_count": 70,
     "metadata": {},
     "output_type": "execute_result"
    }
   ],
   "source": [
    "price_check(p)"
   ]
  },
  {
   "cell_type": "code",
   "execution_count": 71,
   "id": "bf897288-97e1-4a7a-9998-96f0c5bf45e2",
   "metadata": {},
   "outputs": [],
   "source": [
    "company, price = price_check(p)"
   ]
  },
  {
   "cell_type": "code",
   "execution_count": 73,
   "id": "29f2701e-4909-48e8-9e92-652d907d8acf",
   "metadata": {},
   "outputs": [
    {
     "name": "stdout",
     "output_type": "stream",
     "text": [
      "GOOG has the highest price with 400 USD\n"
     ]
    }
   ],
   "source": [
    "print(f'{company} has the highest price with {price} USD')"
   ]
  },
  {
   "cell_type": "code",
   "execution_count": 74,
   "id": "82fcfa37-6211-4d73-8b63-76cfed4437f9",
   "metadata": {},
   "outputs": [
    {
     "ename": "ValueError",
     "evalue": "not enough values to unpack (expected 3, got 2)",
     "output_type": "error",
     "traceback": [
      "\u001b[0;31m---------------------------------------------------------------------------\u001b[0m",
      "\u001b[0;31mValueError\u001b[0m                                Traceback (most recent call last)",
      "\u001b[0;32m/var/folders/yq/lxkzwgxd39gbvyfxzc1vrvqr0000gn/T/ipykernel_57554/462081230.py\u001b[0m in \u001b[0;36m<module>\u001b[0;34m\u001b[0m\n\u001b[0;32m----> 1\u001b[0;31m \u001b[0mcompany\u001b[0m\u001b[0;34m,\u001b[0m \u001b[0mprice\u001b[0m\u001b[0;34m,\u001b[0m \u001b[0mm_cap\u001b[0m \u001b[0;34m=\u001b[0m \u001b[0mprice_check\u001b[0m\u001b[0;34m(\u001b[0m\u001b[0mp\u001b[0m\u001b[0;34m)\u001b[0m\u001b[0;34m\u001b[0m\u001b[0;34m\u001b[0m\u001b[0m\n\u001b[0m",
      "\u001b[0;31mValueError\u001b[0m: not enough values to unpack (expected 3, got 2)"
     ]
    }
   ],
   "source": [
    "company, price, m_cap = price_check(p)"
   ]
  },
  {
   "cell_type": "markdown",
   "id": "843bea5e-11f2-4738-b97a-aa0935e378ba",
   "metadata": {},
   "source": [
    "## Interactions between Functions"
   ]
  },
  {
   "cell_type": "code",
   "execution_count": 75,
   "id": "f66c9c01-8588-4102-b9e1-acde59efa46c",
   "metadata": {},
   "outputs": [],
   "source": [
    "from random import shuffle"
   ]
  },
  {
   "cell_type": "code",
   "execution_count": 76,
   "id": "fabe263d-b287-4c20-ad3c-ad4de5c93dde",
   "metadata": {},
   "outputs": [],
   "source": [
    "l = list(range(1,8))"
   ]
  },
  {
   "cell_type": "code",
   "execution_count": 79,
   "id": "ec4153da-7556-46de-a283-2588f3f8c29c",
   "metadata": {},
   "outputs": [
    {
     "data": {
      "text/plain": [
       "[1, 5, 2, 3, 6, 4, 7]"
      ]
     },
     "execution_count": 79,
     "metadata": {},
     "output_type": "execute_result"
    }
   ],
   "source": [
    "shuffle(l)\n",
    "l"
   ]
  },
  {
   "cell_type": "code",
   "execution_count": 80,
   "id": "82a0991d-0a4c-48f6-bf19-3f8cd6a1f3f3",
   "metadata": {},
   "outputs": [],
   "source": [
    "# create a function that returns a shuffled list (as opposed to in-place)"
   ]
  },
  {
   "cell_type": "code",
   "execution_count": 83,
   "id": "ab29ce52-4cda-4a77-8c32-d3e06984c4f3",
   "metadata": {},
   "outputs": [],
   "source": [
    "def shuffle_list(l): \n",
    "    '''\n",
    "    Return a shuffled list\n",
    "    '''\n",
    "    shuffle(l)\n",
    "    return l"
   ]
  },
  {
   "cell_type": "code",
   "execution_count": 85,
   "id": "e20ecd21-3236-48da-a089-528796182085",
   "metadata": {},
   "outputs": [
    {
     "data": {
      "text/plain": [
       "[3, 5, 1, 6, 7, 2, 4]"
      ]
     },
     "execution_count": 85,
     "metadata": {},
     "output_type": "execute_result"
    }
   ],
   "source": [
    "res = shuffle_list(l)\n",
    "res"
   ]
  },
  {
   "cell_type": "code",
   "execution_count": 86,
   "id": "c2076ff7-b8c7-47eb-bd92-015f44277b2b",
   "metadata": {},
   "outputs": [],
   "source": [
    "l = ['','O','']"
   ]
  },
  {
   "cell_type": "code",
   "execution_count": 94,
   "id": "5428798f-32c5-425d-a628-be8adacbbb35",
   "metadata": {},
   "outputs": [
    {
     "data": {
      "text/plain": [
       "['', 'O', '']"
      ]
     },
     "execution_count": 94,
     "metadata": {},
     "output_type": "execute_result"
    }
   ],
   "source": [
    "shuffle_list(l)"
   ]
  },
  {
   "cell_type": "code",
   "execution_count": 96,
   "id": "55244a80-6336-44a7-bac5-72d926c80d16",
   "metadata": {},
   "outputs": [],
   "source": [
    "def player_guess(): \n",
    "    '''\n",
    "    Return player's guess after checking it's between 0 and 2\n",
    "    '''\n",
    "    guess = ''\n",
    "    while guess not in ['0','1','2']: \n",
    "        guess = input('Pick a number between 0 and 2')\n",
    "        \n",
    "    return int(guess)"
   ]
  },
  {
   "cell_type": "code",
   "execution_count": 97,
   "id": "2d68c622-bc72-4105-bc37-f97f8941e769",
   "metadata": {},
   "outputs": [
    {
     "name": "stdin",
     "output_type": "stream",
     "text": [
      "Pick a number between 0 and 2 3\n",
      "Pick a number between 0 and 2 3\n",
      "Pick a number between 0 and 2 0\n"
     ]
    },
    {
     "data": {
      "text/plain": [
       "0"
      ]
     },
     "execution_count": 97,
     "metadata": {},
     "output_type": "execute_result"
    }
   ],
   "source": [
    "player_guess()"
   ]
  },
  {
   "cell_type": "code",
   "execution_count": 107,
   "id": "fe83802e-336e-4a14-8411-ee7e0f74c1d0",
   "metadata": {},
   "outputs": [],
   "source": [
    "def check_guess(l, guess): \n",
    "    '''\n",
    "    Check guess against list and print result.\n",
    "    '''\n",
    "    if l[guess] == 'O': \n",
    "        print('Correct!')\n",
    "        print(l)\n",
    "    else: \n",
    "        print('Wrong guess!')\n",
    "        print(l)"
   ]
  },
  {
   "cell_type": "code",
   "execution_count": 109,
   "id": "b5931c44-21d3-4b99-90b1-915107c11c27",
   "metadata": {},
   "outputs": [
    {
     "name": "stdin",
     "output_type": "stream",
     "text": [
      "Pick a number between 0 and 2 1\n"
     ]
    },
    {
     "name": "stdout",
     "output_type": "stream",
     "text": [
      "Wrong guess!\n",
      "['O', '', '']\n"
     ]
    }
   ],
   "source": [
    "# initial list\n",
    "l = ['','O','']\n",
    "\n",
    "# shuffle list\n",
    "m_l = shuffle_list(l)\n",
    "\n",
    "# user guess \n",
    "guess = player_guess()\n",
    "\n",
    "# check and print result\n",
    "check_guess(m_l, guess)"
   ]
  },
  {
   "cell_type": "markdown",
   "id": "1d610c85-0776-42db-9099-37f6a7ca1ea5",
   "metadata": {},
   "source": [
    "## *args and **kwargs"
   ]
  },
  {
   "cell_type": "code",
   "execution_count": 116,
   "id": "6e1a242e-0319-4f0f-a880-8b3d0181be18",
   "metadata": {},
   "outputs": [],
   "source": [
    "def myfunc(a,b): \n",
    "    '''\n",
    "    Return 5% of the sum of a and b\n",
    "    '''\n",
    "    return (a+b)*0.05\n",
    "\n",
    "# a and b are potitional arguments, but what if we want to pass an unknown amount of args? "
   ]
  },
  {
   "cell_type": "code",
   "execution_count": 117,
   "id": "7c37d3cb-6537-4f64-a317-5fa622088255",
   "metadata": {},
   "outputs": [
    {
     "data": {
      "text/plain": [
       "5.0"
      ]
     },
     "execution_count": 117,
     "metadata": {},
     "output_type": "execute_result"
    }
   ],
   "source": [
    "myfunc(40,60)"
   ]
  },
  {
   "cell_type": "code",
   "execution_count": 122,
   "id": "e08304f1-c41d-409f-b73e-e0224925bb4f",
   "metadata": {},
   "outputs": [],
   "source": [
    "def myfunc(*args): \n",
    "    '''\n",
    "    Return 5% of the sum of the arguments\n",
    "    '''\n",
    "    # we can treat *args as a tuples of arguments coming into the function\n",
    "    print(args)\n",
    "    return sum(args)*0.05"
   ]
  },
  {
   "cell_type": "code",
   "execution_count": 123,
   "id": "58890568-f210-4ce1-ba5b-ea0a642ce007",
   "metadata": {},
   "outputs": [
    {
     "name": "stdout",
     "output_type": "stream",
     "text": [
      "(100, 100, 100, 100, 100)\n"
     ]
    },
    {
     "data": {
      "text/plain": [
       "25.0"
      ]
     },
     "execution_count": 123,
     "metadata": {},
     "output_type": "execute_result"
    }
   ],
   "source": [
    "myfunc(100,100,100,100,100)"
   ]
  },
  {
   "cell_type": "code",
   "execution_count": 127,
   "id": "f3d453af-fe09-40cb-8faf-6425e5dde19b",
   "metadata": {},
   "outputs": [],
   "source": [
    "def myfunct(**kwargs): \n",
    "    '''\n",
    "    Return the fruit name if argument dictionary as a the key 'fruit'\n",
    "    '''\n",
    "    print(kwargs)\n",
    "    if 'fruit' in kwargs: \n",
    "        print(f\"My fruit of choice is {kwargs['fruit']}\")\n",
    "    else: \n",
    "        print('I did not find any fruit here')\n",
    "    \n",
    "    # we can treat **kwargs as a dicionary of arguments"
   ]
  },
  {
   "cell_type": "code",
   "execution_count": 129,
   "id": "95c3fee7-801b-4f3f-9f0c-eaa1c49f7c92",
   "metadata": {},
   "outputs": [
    {
     "name": "stdout",
     "output_type": "stream",
     "text": [
      "{'fruit': 'apple', 'veggie': 'lettuce'}\n",
      "My fruit of choice is apple\n"
     ]
    }
   ],
   "source": [
    "myfunct(fruit='apple',veggie='lettuce')"
   ]
  },
  {
   "cell_type": "code",
   "execution_count": 140,
   "id": "c37479c7-e470-4d7e-a7ac-57bc9b7df830",
   "metadata": {},
   "outputs": [],
   "source": [
    "def myfunc(*args, **kwargs): \n",
    "    print(args)\n",
    "    print(kwargs)\n",
    "    print(f\"I would like {args[0]} {kwargs['food']}\")\n",
    "    # useful for outside libraries"
   ]
  },
  {
   "cell_type": "code",
   "execution_count": 141,
   "id": "7780ccfc-1a34-4c9d-8675-f9ad7eaeb386",
   "metadata": {},
   "outputs": [
    {
     "name": "stdout",
     "output_type": "stream",
     "text": [
      "(10, 20, 30)\n",
      "{'fruit': 'orange', 'food': 'eggs'}\n",
      "I would like 10 eggs\n"
     ]
    }
   ],
   "source": [
    "myfunc(10,20,30,fruit='orange',food='eggs')"
   ]
  },
  {
   "cell_type": "markdown",
   "id": "cdb8831c-50f7-4f75-9f98-eb42eeb264ec",
   "metadata": {},
   "source": [
    "### Coding Exercise 18"
   ]
  },
  {
   "cell_type": "code",
   "execution_count": 142,
   "id": "bdeaeab2-0bfc-4265-ad31-6b3511aa10bd",
   "metadata": {},
   "outputs": [],
   "source": [
    "def myfunc(*args): \n",
    "    l = []\n",
    "    for i in args: \n",
    "        if i % 2 ==0: \n",
    "            l.append(i)\n",
    "    return l"
   ]
  },
  {
   "cell_type": "code",
   "execution_count": null,
   "id": "c10d912e-cf31-4e7a-97ac-a6724aa785fc",
   "metadata": {},
   "outputs": [],
   "source": [
    "def myfunc(*args):\n",
    "    return [arg for arg in args if arg%2==0]"
   ]
  },
  {
   "cell_type": "code",
   "execution_count": 145,
   "id": "c3e3c90f-37f8-4edd-b0f0-42b2880c38b8",
   "metadata": {},
   "outputs": [],
   "source": [
    "s = 'hello'"
   ]
  },
  {
   "cell_type": "code",
   "execution_count": 149,
   "id": "30d1774a-63d1-45d2-9308-94451161c803",
   "metadata": {},
   "outputs": [
    {
     "ename": "TypeError",
     "evalue": "str.join() takes exactly one argument (0 given)",
     "output_type": "error",
     "traceback": [
      "\u001b[0;31m---------------------------------------------------------------------------\u001b[0m",
      "\u001b[0;31mTypeError\u001b[0m                                 Traceback (most recent call last)",
      "\u001b[0;32m/var/folders/yq/lxkzwgxd39gbvyfxzc1vrvqr0000gn/T/ipykernel_57554/3719834686.py\u001b[0m in \u001b[0;36m<module>\u001b[0;34m\u001b[0m\n\u001b[0;32m----> 1\u001b[0;31m \u001b[0;34m''\u001b[0m\u001b[0;34m.\u001b[0m\u001b[0mjoin\u001b[0m\u001b[0;34m(\u001b[0m\u001b[0;34m)\u001b[0m\u001b[0;34m\u001b[0m\u001b[0;34m\u001b[0m\u001b[0m\n\u001b[0m",
      "\u001b[0;31mTypeError\u001b[0m: str.join() takes exactly one argument (0 given)"
     ]
    }
   ],
   "source": [
    "''.join()"
   ]
  },
  {
   "cell_type": "code",
   "execution_count": 150,
   "id": "faf4f171-6ac7-4cdb-ac5a-cd68ff895e14",
   "metadata": {},
   "outputs": [],
   "source": [
    "def myfunc(s):\n",
    "    a = []\n",
    "    for i, l in enumerate(s): \n",
    "        if i%2==0: \n",
    "            a.append(l.upper())\n",
    "        else: \n",
    "            a.append(l.lower())\n",
    "    return ''.join(a)"
   ]
  },
  {
   "cell_type": "code",
   "execution_count": 151,
   "id": "4f3d81ec-e64a-4f0e-bda9-75f210482eb1",
   "metadata": {},
   "outputs": [
    {
     "data": {
      "text/plain": [
       "'HeLlO WoRlD'"
      ]
     },
     "execution_count": 151,
     "metadata": {},
     "output_type": "execute_result"
    }
   ],
   "source": [
    "myfunc('hello world')"
   ]
  },
  {
   "cell_type": "code",
   "execution_count": 152,
   "id": "1fa94801-5f0f-4e0c-a97b-895539adc7e2",
   "metadata": {},
   "outputs": [],
   "source": [
    "def myfunc(s):\n",
    "    return ''.join([l.upper() if i%2==0 else l.lower() for i,l in enumerate(s)])"
   ]
  },
  {
   "cell_type": "code",
   "execution_count": 153,
   "id": "cd993910-e605-47e6-8a39-15c60aeb5df6",
   "metadata": {},
   "outputs": [
    {
     "data": {
      "text/plain": [
       "'HeLlO WoRlD2'"
      ]
     },
     "execution_count": 153,
     "metadata": {},
     "output_type": "execute_result"
    }
   ],
   "source": [
    "myfunc('hello world2')"
   ]
  },
  {
   "cell_type": "code",
   "execution_count": 155,
   "id": "4a906438-e6e7-4354-9003-89fc4ba617a7",
   "metadata": {},
   "outputs": [],
   "source": [
    "def myfunc2(st): \n",
    "    return ''.join([st[i].lower() if i%2==0 else st[i].upper() for i in range(len(st))])"
   ]
  },
  {
   "cell_type": "code",
   "execution_count": null,
   "id": "ad731afb-3b97-4adb-93a3-e65b3aa0cea0",
   "metadata": {},
   "outputs": [],
   "source": []
  }
 ],
 "metadata": {
  "kernelspec": {
   "display_name": "Python 3 (ipykernel)",
   "language": "python",
   "name": "python3"
  },
  "language_info": {
   "codemirror_mode": {
    "name": "ipython",
    "version": 3
   },
   "file_extension": ".py",
   "mimetype": "text/x-python",
   "name": "python",
   "nbconvert_exporter": "python",
   "pygments_lexer": "ipython3",
   "version": "3.9.6"
  }
 },
 "nbformat": 4,
 "nbformat_minor": 5
}
