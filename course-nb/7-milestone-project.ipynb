{
 "cells": [
  {
   "cell_type": "markdown",
   "id": "a50d4f93-5d3b-42a3-9f61-3a35dda31d15",
   "metadata": {},
   "source": [
    "# Blackjack "
   ]
  },
  {
   "cell_type": "code",
   "execution_count": 3,
   "id": "ad7075d1-d41b-43f1-b6cf-123f4c11575d",
   "metadata": {},
   "outputs": [],
   "source": [
    "suits = {\"♦\",\"♣\",\"♥\",\"♠\"}"
   ]
  },
  {
   "cell_type": "code",
   "execution_count": 4,
   "id": "89e61274-c9eb-471f-86ab-219ce4aef762",
   "metadata": {},
   "outputs": [
    {
     "name": "stdout",
     "output_type": "stream",
     "text": [
      "{'♣', '♠', '♥', '♦'}\n"
     ]
    }
   ],
   "source": [
    "print(suits)"
   ]
  },
  {
   "cell_type": "code",
   "execution_count": 5,
   "id": "fe7787c2-8b39-423c-8e8a-de99c32bcdc7",
   "metadata": {},
   "outputs": [],
   "source": [
    "nums = set(range(2,11))"
   ]
  },
  {
   "cell_type": "code",
   "execution_count": 7,
   "id": "f8e19da3-1a06-447a-b34b-a63f26e9507a",
   "metadata": {},
   "outputs": [],
   "source": [
    "letters = {'Jack','Queen','King','Ace'}"
   ]
  },
  {
   "cell_type": "code",
   "execution_count": null,
   "id": "1e68cbc6-078f-4b61-9477-004db3c26459",
   "metadata": {},
   "outputs": [],
   "source": [
    "def Deck: \n",
    "    "
   ]
  }
 ],
 "metadata": {
  "kernelspec": {
   "display_name": "Python 3 (ipykernel)",
   "language": "python",
   "name": "python3"
  },
  "language_info": {
   "codemirror_mode": {
    "name": "ipython",
    "version": 3
   },
   "file_extension": ".py",
   "mimetype": "text/x-python",
   "name": "python",
   "nbconvert_exporter": "python",
   "pygments_lexer": "ipython3",
   "version": "3.9.6"
  }
 },
 "nbformat": 4,
 "nbformat_minor": 5
}
