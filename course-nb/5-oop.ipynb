{
 "cells": [
  {
   "cell_type": "markdown",
   "id": "09f8bd8a-a9cc-4392-87bb-8e3f895c3a5f",
   "metadata": {},
   "source": [
    "# OOP"
   ]
  },
  {
   "cell_type": "markdown",
   "id": "08ff4105-f12e-48f9-80ee-3c301ff4669a",
   "metadata": {},
   "source": [
    "## Attributes for Instances"
   ]
  },
  {
   "cell_type": "code",
   "execution_count": 1,
   "id": "a480932d-b76b-471b-ac09-5a634f132de3",
   "metadata": {},
   "outputs": [],
   "source": [
    "l = [1,2,3]"
   ]
  },
  {
   "cell_type": "code",
   "execution_count": 2,
   "id": "9335726c-a00b-44cb-9d76-1fe55b9e0bd0",
   "metadata": {},
   "outputs": [],
   "source": [
    "s = set()"
   ]
  },
  {
   "cell_type": "code",
   "execution_count": 3,
   "id": "2c2baf18-89c9-4e33-bef7-3a5c0f76e118",
   "metadata": {},
   "outputs": [
    {
     "data": {
      "text/plain": [
       "set"
      ]
     },
     "execution_count": 3,
     "metadata": {},
     "output_type": "execute_result"
    }
   ],
   "source": [
    "type(s)"
   ]
  },
  {
   "cell_type": "code",
   "execution_count": 4,
   "id": "5f00a512-6f05-4478-a4e9-d0263eb4b508",
   "metadata": {},
   "outputs": [
    {
     "data": {
      "text/plain": [
       "list"
      ]
     },
     "execution_count": 4,
     "metadata": {},
     "output_type": "execute_result"
    }
   ],
   "source": [
    "type(l)"
   ]
  },
  {
   "cell_type": "code",
   "execution_count": 5,
   "id": "b86c0f20-b947-46b5-a66c-c482467584ae",
   "metadata": {},
   "outputs": [],
   "source": [
    "# define class\n",
    "class Sample(): \n",
    "    pass"
   ]
  },
  {
   "cell_type": "code",
   "execution_count": 6,
   "id": "afc93a75-eca2-4fa6-a4b5-e666db6091de",
   "metadata": {},
   "outputs": [],
   "source": [
    "# instantiate instance of Sample class\n",
    "sample = Sample()"
   ]
  },
  {
   "cell_type": "code",
   "execution_count": 7,
   "id": "87fd05a9-fce8-4ec7-9211-74e99c4c40d5",
   "metadata": {},
   "outputs": [
    {
     "data": {
      "text/plain": [
       "__main__.Sample"
      ]
     },
     "execution_count": 7,
     "metadata": {},
     "output_type": "execute_result"
    }
   ],
   "source": [
    "type(sample)"
   ]
  },
  {
   "cell_type": "code",
   "execution_count": 8,
   "id": "32d9284f-1d17-46f3-a82e-79bcbd1deab1",
   "metadata": {},
   "outputs": [],
   "source": [
    "class Dog(): \n",
    "    def __init__(self, breed,name,spots):\n",
    "        self.breed = breed\n",
    "        self.name = name\n",
    "        # expect boolean -> type check neccesary! \n",
    "        self.spots = spots"
   ]
  },
  {
   "cell_type": "code",
   "execution_count": 9,
   "id": "64fe69f6-450c-4c12-a561-9a44f7d2d7a0",
   "metadata": {},
   "outputs": [],
   "source": [
    "dog = Dog('Lab','Sammy',False)"
   ]
  },
  {
   "cell_type": "code",
   "execution_count": 10,
   "id": "8eded6c3-52e3-409c-b036-75c8da092d69",
   "metadata": {},
   "outputs": [
    {
     "data": {
      "text/plain": [
       "__main__.Dog"
      ]
     },
     "execution_count": 10,
     "metadata": {},
     "output_type": "execute_result"
    }
   ],
   "source": [
    "type(dog)"
   ]
  },
  {
   "cell_type": "code",
   "execution_count": 11,
   "id": "03c6edb1-9aa9-4457-9fd5-71162acc9bd5",
   "metadata": {},
   "outputs": [
    {
     "data": {
      "text/plain": [
       "False"
      ]
     },
     "execution_count": 11,
     "metadata": {},
     "output_type": "execute_result"
    }
   ],
   "source": [
    "dog.spots"
   ]
  },
  {
   "cell_type": "markdown",
   "id": "093a08ea-b426-4757-bcda-0233b0c303e4",
   "metadata": {},
   "source": [
    "## Attributes for Classes (Class Object Attribute)"
   ]
  },
  {
   "cell_type": "code",
   "execution_count": 12,
   "id": "04649fdf-a757-4430-876c-8dff7ca8e43c",
   "metadata": {},
   "outputs": [],
   "source": [
    "class Dog():\n",
    "    # class object attribute\n",
    "    species = 'Mammal'\n",
    "    # constructor\n",
    "    def __init__(self, breed, name, spots):\n",
    "        self.breed = breed\n",
    "        self.name = name\n",
    "        self.spots = spots"
   ]
  },
  {
   "cell_type": "code",
   "execution_count": 13,
   "id": "6c639e60-1352-4b71-99cb-288716ae715b",
   "metadata": {},
   "outputs": [],
   "source": [
    "dog = Dog('Labrador','Larry',False)"
   ]
  },
  {
   "cell_type": "code",
   "execution_count": 14,
   "id": "6cf84f97-c1a8-42a9-b5b7-f91363a7725c",
   "metadata": {},
   "outputs": [
    {
     "data": {
      "text/plain": [
       "'Mammal'"
      ]
     },
     "execution_count": 14,
     "metadata": {},
     "output_type": "execute_result"
    }
   ],
   "source": [
    "dog.species"
   ]
  },
  {
   "cell_type": "markdown",
   "id": "54156d5a-74b3-4b17-8fb8-b337eb85df8a",
   "metadata": {},
   "source": [
    "## Methods"
   ]
  },
  {
   "cell_type": "code",
   "execution_count": 15,
   "id": "42178176-7ff7-4a49-b44d-7e5a6aa1238e",
   "metadata": {},
   "outputs": [],
   "source": [
    "class Dog(): \n",
    "    # class object attribute\n",
    "    species = 'Mammal'\n",
    "    # constructor\n",
    "    def __init__(self, breed, name):\n",
    "        self.breed = breed\n",
    "        self.name = name\n",
    "    # methods\n",
    "    def bark(self, n):\n",
    "        print(f'WOOF! goes {self.name} and the number is {n}')"
   ]
  },
  {
   "cell_type": "code",
   "execution_count": 16,
   "id": "74d0987f-9bf8-47a6-a979-137d2229a606",
   "metadata": {},
   "outputs": [],
   "source": [
    "dog = Dog('Labrador','Pepe')"
   ]
  },
  {
   "cell_type": "code",
   "execution_count": 17,
   "id": "503d4d92-8c7a-41c0-ba1a-5854d62ce843",
   "metadata": {},
   "outputs": [
    {
     "name": "stdout",
     "output_type": "stream",
     "text": [
      "WOOF! goes Pepe and the number is 2\n"
     ]
    }
   ],
   "source": [
    "dog.bark(2)"
   ]
  },
  {
   "cell_type": "code",
   "execution_count": 18,
   "id": "277f82d3-64b3-4947-8961-b29bf9539573",
   "metadata": {},
   "outputs": [],
   "source": [
    "import math\n",
    "\n",
    "class Circle(): \n",
    "    # class object attriutes\n",
    "    pi = math.pi\n",
    "    \n",
    "    # constructor\n",
    "    def __init__(self, radius=1): \n",
    "        self.radius = radius\n",
    "        self.area = Circle.pi * radius ** 2\n",
    "    \n",
    "    # methods\n",
    "    def get_cir(self): \n",
    "        return self.radius * Circle.pi * 2"
   ]
  },
  {
   "cell_type": "code",
   "execution_count": 19,
   "id": "12a64e3b-ba2b-4bc2-97ab-a21522a74e8f",
   "metadata": {},
   "outputs": [],
   "source": [
    "c = Circle(10)"
   ]
  },
  {
   "cell_type": "code",
   "execution_count": 20,
   "id": "ea1ae581-d9d7-4b00-95b4-d1aca3b9ca14",
   "metadata": {},
   "outputs": [
    {
     "data": {
      "text/plain": [
       "3.141592653589793"
      ]
     },
     "execution_count": 20,
     "metadata": {},
     "output_type": "execute_result"
    }
   ],
   "source": [
    "c.pi"
   ]
  },
  {
   "cell_type": "code",
   "execution_count": 21,
   "id": "099427fe-d983-415e-92c9-867a3b5f9e0f",
   "metadata": {},
   "outputs": [
    {
     "data": {
      "text/plain": [
       "10"
      ]
     },
     "execution_count": 21,
     "metadata": {},
     "output_type": "execute_result"
    }
   ],
   "source": [
    "c.radius"
   ]
  },
  {
   "cell_type": "code",
   "execution_count": 22,
   "id": "665c82eb-ba82-489b-b8f9-81a06d0f578e",
   "metadata": {},
   "outputs": [
    {
     "data": {
      "text/plain": [
       "62.83185307179586"
      ]
     },
     "execution_count": 22,
     "metadata": {},
     "output_type": "execute_result"
    }
   ],
   "source": [
    "c.get_cir()"
   ]
  },
  {
   "cell_type": "code",
   "execution_count": 23,
   "id": "0e543fbf-4817-48ae-a135-5537501940ac",
   "metadata": {},
   "outputs": [
    {
     "data": {
      "text/plain": [
       "314.1592653589793"
      ]
     },
     "execution_count": 23,
     "metadata": {},
     "output_type": "execute_result"
    }
   ],
   "source": [
    "c.area"
   ]
  },
  {
   "cell_type": "markdown",
   "id": "9073fa58-8fc6-43fd-8068-11356917124a",
   "metadata": {},
   "source": [
    "## Inheritance and Polymorphism"
   ]
  },
  {
   "cell_type": "code",
   "execution_count": 24,
   "id": "a5212154-efd9-4b3a-8642-4502be119808",
   "metadata": {},
   "outputs": [],
   "source": [
    "# base class\n",
    "class Animal(): \n",
    "    def __init__(self): \n",
    "        print('Animal created!')\n",
    "    \n",
    "    def who_am_i(self): \n",
    "        print('I am an animal')\n",
    "        \n",
    "    def eat(self): \n",
    "        print('I am eating')"
   ]
  },
  {
   "cell_type": "code",
   "execution_count": 25,
   "id": "b20dc6b4-dda0-4c5e-9cc9-972631724233",
   "metadata": {},
   "outputs": [
    {
     "name": "stdout",
     "output_type": "stream",
     "text": [
      "Animal created!\n"
     ]
    }
   ],
   "source": [
    "animal = Animal()"
   ]
  },
  {
   "cell_type": "code",
   "execution_count": 26,
   "id": "4115ce9f-b63a-4dbb-aede-e81783af7190",
   "metadata": {},
   "outputs": [
    {
     "data": {
      "text/plain": [
       "__main__.Animal"
      ]
     },
     "execution_count": 26,
     "metadata": {},
     "output_type": "execute_result"
    }
   ],
   "source": [
    "type(animal)"
   ]
  },
  {
   "cell_type": "markdown",
   "id": "6da4a852-39fb-47c6-bfc2-c3dd51c15fe8",
   "metadata": {},
   "source": [
    "### Inheritance"
   ]
  },
  {
   "cell_type": "code",
   "execution_count": 27,
   "id": "a3ef1be0-3a9c-47ab-b43c-dd7863b7e2e4",
   "metadata": {},
   "outputs": [],
   "source": [
    "# derived class (extends Animal)\n",
    "class Dog(Animal):\n",
    "    def __init__(self): \n",
    "        Animal.__init__(self)\n",
    "        print('Dog created!')"
   ]
  },
  {
   "cell_type": "code",
   "execution_count": 28,
   "id": "3438a517-f44a-4dd6-8255-361e561f4d20",
   "metadata": {},
   "outputs": [
    {
     "name": "stdout",
     "output_type": "stream",
     "text": [
      "Animal created!\n",
      "Dog created!\n"
     ]
    }
   ],
   "source": [
    "dog = Dog()"
   ]
  },
  {
   "cell_type": "code",
   "execution_count": 29,
   "id": "2c95565b-8c1c-4c2f-b354-5afbe2cd7aa4",
   "metadata": {},
   "outputs": [
    {
     "data": {
      "text/plain": [
       "__main__.Dog"
      ]
     },
     "execution_count": 29,
     "metadata": {},
     "output_type": "execute_result"
    }
   ],
   "source": [
    "type(dog)"
   ]
  },
  {
   "cell_type": "code",
   "execution_count": 30,
   "id": "7b451f52-0fd3-4635-b53d-ecc0e4f0b9df",
   "metadata": {},
   "outputs": [
    {
     "name": "stdout",
     "output_type": "stream",
     "text": [
      "I am an animal\n"
     ]
    }
   ],
   "source": [
    "dog.who_am_i()"
   ]
  },
  {
   "cell_type": "code",
   "execution_count": 31,
   "id": "e3a10ee0-27a4-47f8-8c75-b7a3a5e4f037",
   "metadata": {},
   "outputs": [
    {
     "name": "stdout",
     "output_type": "stream",
     "text": [
      "I am eating\n"
     ]
    }
   ],
   "source": [
    "dog.eat()"
   ]
  },
  {
   "cell_type": "markdown",
   "id": "c8da7ceb-6c07-4077-baaa-6a59e0e67fcd",
   "metadata": {},
   "source": [
    "#### Override Methods"
   ]
  },
  {
   "cell_type": "code",
   "execution_count": 32,
   "id": "c7756739-0716-4936-98a9-48e3c2af7585",
   "metadata": {},
   "outputs": [],
   "source": [
    "# derived class (extends Animal)\n",
    "class Dog(Animal):\n",
    "    def __init__(self): \n",
    "        Animal.__init__(self)\n",
    "        print('Dog created!')\n",
    "        \n",
    "    def who_am_i(self): \n",
    "        print('I am a dog')"
   ]
  },
  {
   "cell_type": "code",
   "execution_count": 33,
   "id": "74baae48-d6da-4944-b64c-f3c0fac302fd",
   "metadata": {},
   "outputs": [
    {
     "name": "stdout",
     "output_type": "stream",
     "text": [
      "Animal created!\n",
      "Dog created!\n"
     ]
    }
   ],
   "source": [
    "dog = Dog()"
   ]
  },
  {
   "cell_type": "code",
   "execution_count": 34,
   "id": "78ec5d8a-96f1-4aa6-9ee9-8668e7eb0f3e",
   "metadata": {},
   "outputs": [
    {
     "data": {
      "text/plain": [
       "__main__.Dog"
      ]
     },
     "execution_count": 34,
     "metadata": {},
     "output_type": "execute_result"
    }
   ],
   "source": [
    "type(dog)"
   ]
  },
  {
   "cell_type": "code",
   "execution_count": 35,
   "id": "1e78c7f5-d1fe-4318-ac69-19ba418cbff7",
   "metadata": {},
   "outputs": [
    {
     "name": "stdout",
     "output_type": "stream",
     "text": [
      "I am a dog\n"
     ]
    }
   ],
   "source": [
    "# override previous methods of base class\n",
    "dog.who_am_i()"
   ]
  },
  {
   "cell_type": "code",
   "execution_count": 36,
   "id": "c10206ac-460c-4d74-ac2f-4d13cf208dee",
   "metadata": {},
   "outputs": [
    {
     "name": "stdout",
     "output_type": "stream",
     "text": [
      "I am eating\n"
     ]
    }
   ],
   "source": [
    "dog.eat()"
   ]
  },
  {
   "cell_type": "markdown",
   "id": "5aca9c7d-7234-4e7a-9750-cdaef520ec7d",
   "metadata": {},
   "source": [
    "#### Add Methods"
   ]
  },
  {
   "cell_type": "code",
   "execution_count": 37,
   "id": "e1ee7568-af38-449a-8b3a-a1d7fb5226a1",
   "metadata": {},
   "outputs": [],
   "source": [
    "# derived class (extends Animal)\n",
    "class Dog(Animal):\n",
    "    def __init__(self): \n",
    "        Animal.__init__(self)\n",
    "        print('Dog created!')\n",
    "        \n",
    "    def who_am_i(self): \n",
    "        print('I am a dog')\n",
    "        \n",
    "    def bark(self): \n",
    "        print('WOOF!')"
   ]
  },
  {
   "cell_type": "code",
   "execution_count": 38,
   "id": "9f907bad-2cd0-438b-abc4-cbb665f10bd2",
   "metadata": {},
   "outputs": [
    {
     "name": "stdout",
     "output_type": "stream",
     "text": [
      "Animal created!\n",
      "Dog created!\n"
     ]
    }
   ],
   "source": [
    "dog = Dog()"
   ]
  },
  {
   "cell_type": "code",
   "execution_count": 39,
   "id": "ec258c36-9544-4c5c-be76-db6a9ae2170c",
   "metadata": {},
   "outputs": [
    {
     "name": "stdout",
     "output_type": "stream",
     "text": [
      "WOOF!\n"
     ]
    }
   ],
   "source": [
    "dog.bark()"
   ]
  },
  {
   "cell_type": "markdown",
   "id": "93d14b76-54ce-43cd-8ad5-5bb797621e91",
   "metadata": {},
   "source": [
    "### Polymorphism"
   ]
  },
  {
   "cell_type": "code",
   "execution_count": 40,
   "id": "5c020919-ce54-454f-8737-5afe41731811",
   "metadata": {},
   "outputs": [],
   "source": [
    "class Dog(): \n",
    "    def __init__(self, name): \n",
    "        self.name = name\n",
    "        \n",
    "    def speak(self): \n",
    "        return self.name + ' says woof!'"
   ]
  },
  {
   "cell_type": "code",
   "execution_count": 41,
   "id": "28a9cdd8-6778-4670-b724-774651493f48",
   "metadata": {},
   "outputs": [],
   "source": [
    "class Cat(): \n",
    "    def __init__(self, name): \n",
    "        self.name = name\n",
    "        \n",
    "    def speak(self): \n",
    "        return self.name + ' says meow!'"
   ]
  },
  {
   "cell_type": "code",
   "execution_count": 42,
   "id": "cb65c83e-ff00-4a82-811a-47e2e9be1ac0",
   "metadata": {},
   "outputs": [],
   "source": [
    "niko = Dog('Niko')\n",
    "felix = Cat('Felix')"
   ]
  },
  {
   "cell_type": "code",
   "execution_count": 43,
   "id": "5e14860a-6dd8-4b57-b10e-02ff491d7be2",
   "metadata": {},
   "outputs": [
    {
     "data": {
      "text/plain": [
       "'Niko says woof!'"
      ]
     },
     "execution_count": 43,
     "metadata": {},
     "output_type": "execute_result"
    }
   ],
   "source": [
    "niko.speak()"
   ]
  },
  {
   "cell_type": "code",
   "execution_count": 44,
   "id": "dc30a264-5424-4c9b-b2ad-96237d2cd559",
   "metadata": {},
   "outputs": [
    {
     "data": {
      "text/plain": [
       "'Felix says meow!'"
      ]
     },
     "execution_count": 44,
     "metadata": {},
     "output_type": "execute_result"
    }
   ],
   "source": [
    "felix.speak()"
   ]
  },
  {
   "cell_type": "code",
   "execution_count": 45,
   "id": "42a69f99-4031-4d6a-b569-61b962436c3b",
   "metadata": {},
   "outputs": [
    {
     "name": "stdout",
     "output_type": "stream",
     "text": [
      "<class '__main__.Dog'>\n",
      "Niko says woof!\n",
      "<class '__main__.Cat'>\n",
      "Felix says meow!\n"
     ]
    }
   ],
   "source": [
    "# iteration list of class objects\n",
    "for i in [niko, felix]: \n",
    "    print(type(i))\n",
    "    print(i.speak())"
   ]
  },
  {
   "cell_type": "code",
   "execution_count": 46,
   "id": "04b9f897-13c9-4ad6-8bf0-677ebef56444",
   "metadata": {},
   "outputs": [],
   "source": [
    "# pass class object as an argument\n",
    "def pet_speak(pet): \n",
    "    print(pet.speak())"
   ]
  },
  {
   "cell_type": "code",
   "execution_count": 47,
   "id": "99184142-3095-4a00-af6b-33605ce245ce",
   "metadata": {},
   "outputs": [
    {
     "name": "stdout",
     "output_type": "stream",
     "text": [
      "Niko says woof!\n"
     ]
    }
   ],
   "source": [
    "pet_speak(niko)"
   ]
  },
  {
   "cell_type": "code",
   "execution_count": 48,
   "id": "8a0ba7a0-cc67-4e84-b909-40a259b22e27",
   "metadata": {},
   "outputs": [
    {
     "name": "stdout",
     "output_type": "stream",
     "text": [
      "Felix says meow!\n"
     ]
    }
   ],
   "source": [
    "pet_speak(felix)"
   ]
  },
  {
   "cell_type": "code",
   "execution_count": 49,
   "id": "abc425ee-6474-4ae2-b308-599bf445e0c9",
   "metadata": {},
   "outputs": [],
   "source": [
    "# abstract class (we don't expect to instatiate it)\n",
    "class Animal(): \n",
    "    def __init__(self, name): \n",
    "        self.name = name\n",
    "        \n",
    "    def speak(self):\n",
    "        raise NotImplementedError('Subclass must implement this abstract method')"
   ]
  },
  {
   "cell_type": "code",
   "execution_count": 50,
   "id": "5c6ddef3-6b77-466f-8e4b-19639231ab32",
   "metadata": {},
   "outputs": [],
   "source": [
    "animal = Animal('Fred')"
   ]
  },
  {
   "cell_type": "code",
   "execution_count": 51,
   "id": "3984c152-8b7c-4d31-a415-ca949cd9c667",
   "metadata": {},
   "outputs": [
    {
     "ename": "NotImplementedError",
     "evalue": "Subclass must implement this abstract method",
     "output_type": "error",
     "traceback": [
      "\u001b[0;31m---------------------------------------------------------------------------\u001b[0m",
      "\u001b[0;31mNotImplementedError\u001b[0m                       Traceback (most recent call last)",
      "\u001b[0;32m/var/folders/yq/lxkzwgxd39gbvyfxzc1vrvqr0000gn/T/ipykernel_11296/3553675796.py\u001b[0m in \u001b[0;36m<module>\u001b[0;34m\u001b[0m\n\u001b[0;32m----> 1\u001b[0;31m \u001b[0manimal\u001b[0m\u001b[0;34m.\u001b[0m\u001b[0mspeak\u001b[0m\u001b[0;34m(\u001b[0m\u001b[0;34m)\u001b[0m\u001b[0;34m\u001b[0m\u001b[0;34m\u001b[0m\u001b[0m\n\u001b[0m",
      "\u001b[0;32m/var/folders/yq/lxkzwgxd39gbvyfxzc1vrvqr0000gn/T/ipykernel_11296/3295749931.py\u001b[0m in \u001b[0;36mspeak\u001b[0;34m(self)\u001b[0m\n\u001b[1;32m      5\u001b[0m \u001b[0;34m\u001b[0m\u001b[0m\n\u001b[1;32m      6\u001b[0m     \u001b[0;32mdef\u001b[0m \u001b[0mspeak\u001b[0m\u001b[0;34m(\u001b[0m\u001b[0mself\u001b[0m\u001b[0;34m)\u001b[0m\u001b[0;34m:\u001b[0m\u001b[0;34m\u001b[0m\u001b[0;34m\u001b[0m\u001b[0m\n\u001b[0;32m----> 7\u001b[0;31m         \u001b[0;32mraise\u001b[0m \u001b[0mNotImplementedError\u001b[0m\u001b[0;34m(\u001b[0m\u001b[0;34m'Subclass must implement this abstract method'\u001b[0m\u001b[0;34m)\u001b[0m\u001b[0;34m\u001b[0m\u001b[0;34m\u001b[0m\u001b[0m\n\u001b[0m",
      "\u001b[0;31mNotImplementedError\u001b[0m: Subclass must implement this abstract method"
     ]
    }
   ],
   "source": [
    "animal.speak()"
   ]
  },
  {
   "cell_type": "code",
   "execution_count": 52,
   "id": "febfad19-54f2-4843-ad86-db78a487447a",
   "metadata": {},
   "outputs": [],
   "source": [
    "class Dog(Animal): \n",
    "    def speak(self): \n",
    "        return self.name + ' says woof!'"
   ]
  },
  {
   "cell_type": "code",
   "execution_count": 53,
   "id": "e4105177-74f8-494d-a344-8304e34d7c13",
   "metadata": {},
   "outputs": [],
   "source": [
    "fido = Dog('Fido')"
   ]
  },
  {
   "cell_type": "code",
   "execution_count": 54,
   "id": "26920a5a-202c-484e-8da3-a68507f4f2f5",
   "metadata": {},
   "outputs": [
    {
     "data": {
      "text/plain": [
       "'Fido says woof!'"
      ]
     },
     "execution_count": 54,
     "metadata": {},
     "output_type": "execute_result"
    }
   ],
   "source": [
    "fido.speak()"
   ]
  },
  {
   "cell_type": "markdown",
   "id": "7f60d3c1-7567-4c04-9e7c-50786b7c3b61",
   "metadata": {},
   "source": [
    "## Special Methods"
   ]
  },
  {
   "cell_type": "code",
   "execution_count": 55,
   "id": "3c7f2b44-3859-4c97-82b6-123849305ddc",
   "metadata": {},
   "outputs": [],
   "source": [
    "l = [1,2,3]"
   ]
  },
  {
   "cell_type": "code",
   "execution_count": 56,
   "id": "fc29b774-4cac-4a5c-b654-6f5d31d20e0d",
   "metadata": {},
   "outputs": [
    {
     "data": {
      "text/plain": [
       "3"
      ]
     },
     "execution_count": 56,
     "metadata": {},
     "output_type": "execute_result"
    }
   ],
   "source": [
    "len(l)"
   ]
  },
  {
   "cell_type": "code",
   "execution_count": 57,
   "id": "14b7b1ec-a058-4611-98cb-8e199d5b1bb8",
   "metadata": {},
   "outputs": [
    {
     "name": "stdout",
     "output_type": "stream",
     "text": [
      "[1, 2, 3]\n"
     ]
    }
   ],
   "source": [
    "print(l)"
   ]
  },
  {
   "cell_type": "code",
   "execution_count": 58,
   "id": "61f95846-d05a-492c-a96b-58a43bcdffd7",
   "metadata": {},
   "outputs": [],
   "source": [
    "class Sample():\n",
    "    pass"
   ]
  },
  {
   "cell_type": "code",
   "execution_count": 59,
   "id": "fe1a7554-5bb9-4552-9f7d-91e5f50afb5a",
   "metadata": {},
   "outputs": [],
   "source": [
    "s = Sample()"
   ]
  },
  {
   "cell_type": "code",
   "execution_count": 63,
   "id": "16eda147-e1d6-47b3-8c4e-31f03e85f05a",
   "metadata": {},
   "outputs": [
    {
     "data": {
      "text/plain": [
       "__main__.Sample"
      ]
     },
     "execution_count": 63,
     "metadata": {},
     "output_type": "execute_result"
    }
   ],
   "source": [
    "type(s)"
   ]
  },
  {
   "cell_type": "code",
   "execution_count": 60,
   "id": "c9445372-431c-4d6a-aa3d-016948e54034",
   "metadata": {},
   "outputs": [
    {
     "ename": "TypeError",
     "evalue": "object of type 'Sample' has no len()",
     "output_type": "error",
     "traceback": [
      "\u001b[0;31m---------------------------------------------------------------------------\u001b[0m",
      "\u001b[0;31mTypeError\u001b[0m                                 Traceback (most recent call last)",
      "\u001b[0;32m/var/folders/yq/lxkzwgxd39gbvyfxzc1vrvqr0000gn/T/ipykernel_11296/2960268886.py\u001b[0m in \u001b[0;36m<module>\u001b[0;34m\u001b[0m\n\u001b[0;32m----> 1\u001b[0;31m \u001b[0mlen\u001b[0m\u001b[0;34m(\u001b[0m\u001b[0ms\u001b[0m\u001b[0;34m)\u001b[0m\u001b[0;34m\u001b[0m\u001b[0;34m\u001b[0m\u001b[0m\n\u001b[0m",
      "\u001b[0;31mTypeError\u001b[0m: object of type 'Sample' has no len()"
     ]
    }
   ],
   "source": [
    "len(s)"
   ]
  },
  {
   "cell_type": "code",
   "execution_count": 61,
   "id": "e76ec6c4-de04-48b8-8705-9902a084da83",
   "metadata": {},
   "outputs": [
    {
     "name": "stdout",
     "output_type": "stream",
     "text": [
      "<__main__.Sample object at 0x1032a0eb0>\n"
     ]
    }
   ],
   "source": [
    "print(s)"
   ]
  },
  {
   "cell_type": "code",
   "execution_count": 62,
   "id": "9fc13ea9-70f6-490b-b84a-5dae7202baf0",
   "metadata": {},
   "outputs": [
    {
     "data": {
      "text/plain": [
       "'<__main__.Sample object at 0x1032a0eb0>'"
      ]
     },
     "execution_count": 62,
     "metadata": {},
     "output_type": "execute_result"
    }
   ],
   "source": [
    "str(s)"
   ]
  },
  {
   "cell_type": "code",
   "execution_count": 66,
   "id": "438cb8d3-0112-4eff-85eb-2726e9d476b6",
   "metadata": {},
   "outputs": [],
   "source": [
    "class Book(): \n",
    "    def __init__(self, title, author, pages): \n",
    "        self.title = title\n",
    "        self.author = author\n",
    "        self.pages = pages\n",
    "        \n",
    "    def __str__(self): \n",
    "        return f'{self.title} by {self.author}'\n",
    "    \n",
    "    def __len__(self): \n",
    "        return self.pages\n",
    "    \n",
    "    def __del__(self): \n",
    "        print(f\"Book object '{self.title}' has been deleted\")"
   ]
  },
  {
   "cell_type": "code",
   "execution_count": 79,
   "id": "1b641f34-f39c-4a97-b511-b054e61faaff",
   "metadata": {},
   "outputs": [],
   "source": [
    "b = Book('Python rocks','Jose',200)"
   ]
  },
  {
   "cell_type": "code",
   "execution_count": 80,
   "id": "27791d44-ff7d-4321-a70d-5755ad548534",
   "metadata": {},
   "outputs": [
    {
     "name": "stdout",
     "output_type": "stream",
     "text": [
      "Python rocks by Jose\n"
     ]
    }
   ],
   "source": [
    "print(b)"
   ]
  },
  {
   "cell_type": "code",
   "execution_count": 81,
   "id": "7dec6333-6e25-4d34-8d69-198a74a18c42",
   "metadata": {},
   "outputs": [
    {
     "data": {
      "text/plain": [
       "'Python rocks by Jose'"
      ]
     },
     "execution_count": 81,
     "metadata": {},
     "output_type": "execute_result"
    }
   ],
   "source": [
    "str(b)"
   ]
  },
  {
   "cell_type": "code",
   "execution_count": 82,
   "id": "3e38b02e-169b-4c3f-8928-288676609f30",
   "metadata": {},
   "outputs": [
    {
     "data": {
      "text/plain": [
       "200"
      ]
     },
     "execution_count": 82,
     "metadata": {},
     "output_type": "execute_result"
    }
   ],
   "source": [
    "len(b)"
   ]
  },
  {
   "cell_type": "code",
   "execution_count": 83,
   "id": "da2b825e-f387-4750-a77c-127668831465",
   "metadata": {},
   "outputs": [
    {
     "name": "stdout",
     "output_type": "stream",
     "text": [
      "Book object 'Python rocks' has been deleted\n"
     ]
    }
   ],
   "source": [
    "# delete instance of book object class\n",
    "del b"
   ]
  },
  {
   "cell_type": "markdown",
   "id": "110fd202-050d-44f9-9917-8dcccf384412",
   "metadata": {},
   "source": [
    "## Methods that affect Attributes"
   ]
  },
  {
   "cell_type": "code",
   "execution_count": 92,
   "id": "8f819a9b-aa91-4f62-b8cd-a8f28f9c25ee",
   "metadata": {},
   "outputs": [],
   "source": [
    "class Simple(): \n",
    "    def __init__(self,value): \n",
    "        self.value = value\n",
    "        \n",
    "    def add_to_value(self,amount):\n",
    "        self.value += amount\n",
    "        print(f\"Amount of {amount} added\")"
   ]
  },
  {
   "cell_type": "code",
   "execution_count": 93,
   "id": "2f5442a2-9b82-4ae7-8325-8a1a17988414",
   "metadata": {},
   "outputs": [],
   "source": [
    "o = Simple(300)"
   ]
  },
  {
   "cell_type": "code",
   "execution_count": 94,
   "id": "75a5a1fa-8840-4218-afed-9f636d67189e",
   "metadata": {},
   "outputs": [
    {
     "data": {
      "text/plain": [
       "300"
      ]
     },
     "execution_count": 94,
     "metadata": {},
     "output_type": "execute_result"
    }
   ],
   "source": [
    "o.value"
   ]
  },
  {
   "cell_type": "code",
   "execution_count": 95,
   "id": "3fa5286a-97cf-40f6-8dfa-37f774fe1be5",
   "metadata": {},
   "outputs": [
    {
     "name": "stdout",
     "output_type": "stream",
     "text": [
      "Amount of 500 added\n"
     ]
    }
   ],
   "source": [
    "o.add_to_value(500)"
   ]
  },
  {
   "cell_type": "code",
   "execution_count": 96,
   "id": "4d01eeac-1819-4f41-a59a-42444b7e0ab5",
   "metadata": {},
   "outputs": [
    {
     "data": {
      "text/plain": [
       "800"
      ]
     },
     "execution_count": 96,
     "metadata": {},
     "output_type": "execute_result"
    }
   ],
   "source": [
    "o.value"
   ]
  },
  {
   "cell_type": "markdown",
   "id": "9e32ae59-408c-459b-923d-ee72bdfe9823",
   "metadata": {},
   "source": [
    "**DONE**"
   ]
  },
  {
   "cell_type": "code",
   "execution_count": null,
   "id": "e8a073ed-e8e4-404b-a17a-5ea2cba63bc8",
   "metadata": {},
   "outputs": [],
   "source": []
  }
 ],
 "metadata": {
  "kernelspec": {
   "display_name": "Python 3 (ipykernel)",
   "language": "python",
   "name": "python3"
  },
  "language_info": {
   "codemirror_mode": {
    "name": "ipython",
    "version": 3
   },
   "file_extension": ".py",
   "mimetype": "text/x-python",
   "name": "python",
   "nbconvert_exporter": "python",
   "pygments_lexer": "ipython3",
   "version": "3.9.6"
  }
 },
 "nbformat": 4,
 "nbformat_minor": 5
}
