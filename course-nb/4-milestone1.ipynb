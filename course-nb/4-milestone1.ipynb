{
 "cells": [
  {
   "cell_type": "markdown",
   "id": "7824818c-ee3f-41da-ac9e-46a7c1c88962",
   "metadata": {},
   "source": [
    "# Tic Tac Toe\n",
    "\n",
    "You should be able to accept input of the player position and then place a symbol on the board"
   ]
  },
  {
   "cell_type": "code",
   "execution_count": null,
   "id": "3b7921d9-0d47-4920-8dde-2664e975df26",
   "metadata": {},
   "outputs": [],
   "source": []
  }
 ],
 "metadata": {
  "kernelspec": {
   "display_name": "Python 3 (ipykernel)",
   "language": "python",
   "name": "python3"
  },
  "language_info": {
   "codemirror_mode": {
    "name": "ipython",
    "version": 3
   },
   "file_extension": ".py",
   "mimetype": "text/x-python",
   "name": "python",
   "nbconvert_exporter": "python",
   "pygments_lexer": "ipython3",
   "version": "3.9.6"
  }
 },
 "nbformat": 4,
 "nbformat_minor": 5
}
