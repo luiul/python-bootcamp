{
 "cells": [
  {
   "cell_type": "markdown",
   "id": "060e49d9-3688-4889-bea3-06d02998d5d2",
   "metadata": {
    "tags": []
   },
   "source": [
    "# Statements"
   ]
  },
  {
   "cell_type": "markdown",
   "id": "7346ca8c-5991-47fa-baf0-cad4ad049ec6",
   "metadata": {
    "jp-MarkdownHeadingCollapsed": true,
    "tags": []
   },
   "source": [
    "## For Loops"
   ]
  },
  {
   "cell_type": "code",
   "execution_count": 35,
   "id": "8c0c439b-ae69-4ed7-a71a-a3e1d5956b5c",
   "metadata": {},
   "outputs": [
    {
     "name": "stdout",
     "output_type": "stream",
     "text": [
      "Iteration Nr. 1: Hello\n",
      "Iteration Nr. 2: Hello\n",
      "Iteration Nr. 3: Hello\n",
      "Iteration Nr. 4: Hello\n",
      "Iteration Nr. 5: Hello\n",
      "Iteration Nr. 6: Hello\n",
      "Iteration Nr. 7: Hello\n",
      "Iteration Nr. 8: Hello\n",
      "Iteration Nr. 9: Hello\n",
      "Iteration Nr. 10: Hello\n"
     ]
    }
   ],
   "source": [
    "# code inside for-loop is dependent on item of iterable\n",
    "l = list(range(1,11))\n",
    "\n",
    "for i in l: \n",
    "    print(f'Iteration Nr. {i}: Hello')"
   ]
  },
  {
   "cell_type": "code",
   "execution_count": 33,
   "id": "47fd014f-0075-4c91-87ad-cbe05dc9dff4",
   "metadata": {
    "tags": []
   },
   "outputs": [
    {
     "name": "stdout",
     "output_type": "stream",
     "text": [
      "1 is odd\n",
      "2 is even\n",
      "3 is odd\n",
      "4 is even\n",
      "5 is odd\n",
      "6 is even\n",
      "7 is odd\n",
      "8 is even\n",
      "9 is odd\n",
      "10 is even\n"
     ]
    }
   ],
   "source": [
    "# if-statement inside for loop\n",
    "\n",
    "for i in l: \n",
    "    # check for even\n",
    "    if i % 2 == 0: \n",
    "        print(f'{i} is even')\n",
    "    else: \n",
    "        print(f'{i} is odd')"
   ]
  },
  {
   "cell_type": "code",
   "execution_count": 52,
   "id": "004c4343-6dc0-494e-bd40-a64b0fd5325f",
   "metadata": {},
   "outputs": [
    {
     "name": "stdout",
     "output_type": "stream",
     "text": [
      "s_1 = 1\n",
      "s_2 = 3\n",
      "s_3 = 6\n",
      "s_4 = 10\n",
      "s_5 = 15\n",
      "s_6 = 21\n",
      "s_7 = 28\n",
      "s_8 = 36\n",
      "s_9 = 45\n",
      "s_10 = 55\n"
     ]
    }
   ],
   "source": [
    "# series and variables outside for-loop-scope\n",
    "\n",
    "l = list(range(1,11))\n",
    "s = 0\n",
    "\n",
    "for i in l: \n",
    "    s += i\n",
    "    print(f's_{i} = {s}')"
   ]
  },
  {
   "cell_type": "code",
   "execution_count": 29,
   "id": "b117933d-181b-4466-a7ad-a40397c2f559",
   "metadata": {},
   "outputs": [
    {
     "name": "stdout",
     "output_type": "stream",
     "text": [
      "H\n",
      "e\n",
      "l\n",
      "l\n",
      "o\n",
      " \n",
      "W\n",
      "o\n",
      "r\n",
      "l\n",
      "d\n"
     ]
    }
   ],
   "source": [
    "# Strings\n",
    "\n",
    "for l in 'Hello World': \n",
    "    print(l)"
   ]
  },
  {
   "cell_type": "code",
   "execution_count": 30,
   "id": "d7f6fe90-46b9-48c3-8676-eef6750b06a9",
   "metadata": {},
   "outputs": [
    {
     "name": "stdout",
     "output_type": "stream",
     "text": [
      "Hi!\n",
      "Hi!\n"
     ]
    }
   ],
   "source": [
    "# code inside for-loop is independent of items in iterable\n",
    "\n",
    "for _ in range(1,3): \n",
    "    print('Hi!')"
   ]
  },
  {
   "cell_type": "code",
   "execution_count": 28,
   "id": "91b3df28-bb3b-42b1-b6a5-0a912f690e09",
   "metadata": {},
   "outputs": [
    {
     "name": "stdout",
     "output_type": "stream",
     "text": [
      "1\n",
      "2\n",
      "3\n"
     ]
    }
   ],
   "source": [
    "# Tuples\n",
    "\n",
    "for i in (1,2,3): \n",
    "    print(i)"
   ]
  },
  {
   "cell_type": "markdown",
   "id": "4ed3f64b-45c0-4e6e-b92b-fcbcdefe6e3c",
   "metadata": {
    "tags": []
   },
   "source": [
    "### Tuple Unpacking and For Loops"
   ]
  },
  {
   "cell_type": "code",
   "execution_count": 51,
   "id": "e4649200-79b1-4a32-bc23-fd87c43c3c54",
   "metadata": {},
   "outputs": [],
   "source": [
    "l = [(1,2),(3,4),(5,6),(7,8)]\n",
    "# this data stucture is very common in Python "
   ]
  },
  {
   "cell_type": "code",
   "execution_count": 37,
   "id": "0430c63d-ca7b-4f82-89bc-febf192aef5e",
   "metadata": {},
   "outputs": [
    {
     "data": {
      "text/plain": [
       "4"
      ]
     },
     "execution_count": 37,
     "metadata": {},
     "output_type": "execute_result"
    }
   ],
   "source": [
    "len(l)"
   ]
  },
  {
   "cell_type": "code",
   "execution_count": 50,
   "id": "47929eb5-7385-4b2b-ae8c-1755094750ee",
   "metadata": {},
   "outputs": [
    {
     "name": "stdout",
     "output_type": "stream",
     "text": [
      "(1, 2)\n",
      "(3, 4)\n",
      "(5, 6)\n",
      "(7, 8)\n"
     ]
    }
   ],
   "source": [
    "# printing the items in the array (tuples)\n",
    "for i in l: \n",
    "    print(i)"
   ]
  },
  {
   "cell_type": "code",
   "execution_count": 48,
   "id": "08d59216-49d3-4360-9139-c0f4fa6878b5",
   "metadata": {},
   "outputs": [
    {
     "name": "stdout",
     "output_type": "stream",
     "text": [
      "1\n",
      "2\n",
      "\n",
      "3\n",
      "4\n",
      "\n",
      "5\n",
      "6\n",
      "\n",
      "7\n",
      "8\n",
      "\n"
     ]
    }
   ],
   "source": [
    "# unpack the tuples in the array, we can access the items in the tuples directly\n",
    "for (i,j) in l: \n",
    "    print(i)\n",
    "    print(f'{j}\\n')"
   ]
  },
  {
   "cell_type": "code",
   "execution_count": 47,
   "id": "2aef8042-a300-45b6-8290-85d78eaf8176",
   "metadata": {},
   "outputs": [
    {
     "name": "stdout",
     "output_type": "stream",
     "text": [
      "1\n",
      "2\n",
      "\n",
      "3\n",
      "4\n",
      "\n",
      "5\n",
      "6\n",
      "\n",
      "7\n",
      "8\n",
      "\n"
     ]
    }
   ],
   "source": [
    "# we don't need the parenthesis to unpack the tuples\n",
    "for i,j in l: \n",
    "    print(i)\n",
    "    print(f'{j}\\n')"
   ]
  },
  {
   "cell_type": "code",
   "execution_count": 53,
   "id": "ddfcba33-188e-45ee-9c71-da87d0435a81",
   "metadata": {},
   "outputs": [],
   "source": [
    "l = [(1,2,3),(5,6,7),(8,9,10)]"
   ]
  },
  {
   "cell_type": "code",
   "execution_count": 54,
   "id": "117512a3-27cd-4d03-af7f-435adc4e8bed",
   "metadata": {},
   "outputs": [
    {
     "name": "stdout",
     "output_type": "stream",
     "text": [
      "(1, 2, 3)\n",
      "(5, 6, 7)\n",
      "(8, 9, 10)\n"
     ]
    }
   ],
   "source": [
    "for i in l: \n",
    "    print(i)"
   ]
  },
  {
   "cell_type": "code",
   "execution_count": 56,
   "id": "11ea5547-d1e2-4a7e-8053-0bc38ca970e9",
   "metadata": {},
   "outputs": [
    {
     "name": "stdout",
     "output_type": "stream",
     "text": [
      "2\n",
      "6\n",
      "9\n"
     ]
    }
   ],
   "source": [
    "# tuple unpacking and for-loops\n",
    "\n",
    "for i,j,k in l: \n",
    "    print(j)"
   ]
  },
  {
   "cell_type": "code",
   "execution_count": 59,
   "id": "b6e708cb-64e2-4b32-8ef3-ef5e4bb99a6e",
   "metadata": {},
   "outputs": [
    {
     "name": "stdout",
     "output_type": "stream",
     "text": [
      "k1\n",
      "k2\n",
      "k3\n"
     ]
    }
   ],
   "source": [
    "# by default, we only iterative the keys of the dictionary\n",
    "\n",
    "d = {'k1':1,'k2':2,'k3':3}\n",
    "\n",
    "for i in d: \n",
    "    print(i)"
   ]
  },
  {
   "cell_type": "code",
   "execution_count": 67,
   "id": "90372891-ac20-4506-8a0f-0c90a76c22bf",
   "metadata": {},
   "outputs": [
    {
     "name": "stdout",
     "output_type": "stream",
     "text": [
      "k1\n",
      "k2\n",
      "k3\n"
     ]
    }
   ],
   "source": [
    "for i in d: \n",
    "    print(i)"
   ]
  },
  {
   "cell_type": "code",
   "execution_count": 62,
   "id": "8775376d-2f18-4027-8d26-4beb10d5d73f",
   "metadata": {},
   "outputs": [
    {
     "name": "stdout",
     "output_type": "stream",
     "text": [
      "('k1', 1)\n",
      "('k2', 2)\n",
      "('k3', 3)\n"
     ]
    }
   ],
   "source": [
    "for i in d.items(): \n",
    "    print(i)\n",
    "# -> we can use tuple unpacking"
   ]
  },
  {
   "cell_type": "code",
   "execution_count": 63,
   "id": "a5d75574-f4f9-4c56-8938-8bc5d3f7e1dc",
   "metadata": {},
   "outputs": [
    {
     "name": "stdout",
     "output_type": "stream",
     "text": [
      "1\n",
      "2\n",
      "3\n"
     ]
    }
   ],
   "source": [
    "for key, value in d.items():\n",
    "    print(value)"
   ]
  },
  {
   "cell_type": "code",
   "execution_count": 66,
   "id": "ac6a9e25-6ff9-40ce-9b18-4ce28e062bf9",
   "metadata": {},
   "outputs": [
    {
     "name": "stdout",
     "output_type": "stream",
     "text": [
      "(0, 'k1')\n",
      "(1, 'k2')\n",
      "(2, 'k3')\n"
     ]
    }
   ],
   "source": [
    "for item in enumerate(d): \n",
    "    print(item)\n",
    "# note that this is different from for-loop above: enumerate yields tupples with a count and the value of the iterable"
   ]
  },
  {
   "cell_type": "markdown",
   "id": "4e14ca22-0403-4cc0-9834-3c1ce3e6ee7f",
   "metadata": {},
   "source": [
    "## While Loops"
   ]
  },
  {
   "cell_type": "code",
   "execution_count": null,
   "id": "ae4681cc-3b58-4d16-903a-9573c7c0fec2",
   "metadata": {},
   "outputs": [],
   "source": []
  },
  {
   "cell_type": "markdown",
   "id": "0abb6fd2-5d95-4636-9c73-ffa6da1898c9",
   "metadata": {},
   "source": [
    "**DONE!**"
   ]
  },
  {
   "cell_type": "code",
   "execution_count": null,
   "id": "1ca766a8-b88b-4c46-b46f-9a4073609190",
   "metadata": {},
   "outputs": [],
   "source": []
  }
 ],
 "metadata": {
  "kernelspec": {
   "display_name": "Python 3 (ipykernel)",
   "language": "python",
   "name": "python3"
  },
  "language_info": {
   "codemirror_mode": {
    "name": "ipython",
    "version": 3
   },
   "file_extension": ".py",
   "mimetype": "text/x-python",
   "name": "python",
   "nbconvert_exporter": "python",
   "pygments_lexer": "ipython3",
   "version": "3.9.6"
  }
 },
 "nbformat": 4,
 "nbformat_minor": 5
}
