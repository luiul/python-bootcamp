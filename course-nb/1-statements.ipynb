{
 "cells": [
  {
   "cell_type": "markdown",
   "id": "060e49d9-3688-4889-bea3-06d02998d5d2",
   "metadata": {
    "tags": []
   },
   "source": [
    "# Statements"
   ]
  },
  {
   "cell_type": "markdown",
   "id": "7346ca8c-5991-47fa-baf0-cad4ad049ec6",
   "metadata": {
    "jp-MarkdownHeadingCollapsed": true,
    "tags": []
   },
   "source": [
    "## For Loops"
   ]
  },
  {
   "cell_type": "code",
   "execution_count": 35,
   "id": "8c0c439b-ae69-4ed7-a71a-a3e1d5956b5c",
   "metadata": {},
   "outputs": [
    {
     "name": "stdout",
     "output_type": "stream",
     "text": [
      "Iteration Nr. 1: Hello\n",
      "Iteration Nr. 2: Hello\n",
      "Iteration Nr. 3: Hello\n",
      "Iteration Nr. 4: Hello\n",
      "Iteration Nr. 5: Hello\n",
      "Iteration Nr. 6: Hello\n",
      "Iteration Nr. 7: Hello\n",
      "Iteration Nr. 8: Hello\n",
      "Iteration Nr. 9: Hello\n",
      "Iteration Nr. 10: Hello\n"
     ]
    }
   ],
   "source": [
    "# code inside for-loop is dependent on item of iterable\n",
    "l = list(range(1,11))\n",
    "\n",
    "for i in l: \n",
    "    print(f'Iteration Nr. {i}: Hello')"
   ]
  },
  {
   "cell_type": "code",
   "execution_count": 33,
   "id": "47fd014f-0075-4c91-87ad-cbe05dc9dff4",
   "metadata": {
    "tags": []
   },
   "outputs": [
    {
     "name": "stdout",
     "output_type": "stream",
     "text": [
      "1 is odd\n",
      "2 is even\n",
      "3 is odd\n",
      "4 is even\n",
      "5 is odd\n",
      "6 is even\n",
      "7 is odd\n",
      "8 is even\n",
      "9 is odd\n",
      "10 is even\n"
     ]
    }
   ],
   "source": [
    "# if-statement inside for loop\n",
    "\n",
    "for i in l: \n",
    "    # check for even\n",
    "    if i % 2 == 0: \n",
    "        print(f'{i} is even')\n",
    "    else: \n",
    "        print(f'{i} is odd')"
   ]
  },
  {
   "cell_type": "code",
   "execution_count": 52,
   "id": "004c4343-6dc0-494e-bd40-a64b0fd5325f",
   "metadata": {},
   "outputs": [
    {
     "name": "stdout",
     "output_type": "stream",
     "text": [
      "s_1 = 1\n",
      "s_2 = 3\n",
      "s_3 = 6\n",
      "s_4 = 10\n",
      "s_5 = 15\n",
      "s_6 = 21\n",
      "s_7 = 28\n",
      "s_8 = 36\n",
      "s_9 = 45\n",
      "s_10 = 55\n"
     ]
    }
   ],
   "source": [
    "# series and variables outside for-loop-scope\n",
    "\n",
    "l = list(range(1,11))\n",
    "s = 0\n",
    "\n",
    "for i in l: \n",
    "    s += i\n",
    "    print(f's_{i} = {s}')"
   ]
  },
  {
   "cell_type": "code",
   "execution_count": 29,
   "id": "b117933d-181b-4466-a7ad-a40397c2f559",
   "metadata": {},
   "outputs": [
    {
     "name": "stdout",
     "output_type": "stream",
     "text": [
      "H\n",
      "e\n",
      "l\n",
      "l\n",
      "o\n",
      " \n",
      "W\n",
      "o\n",
      "r\n",
      "l\n",
      "d\n"
     ]
    }
   ],
   "source": [
    "# Strings\n",
    "\n",
    "for l in 'Hello World': \n",
    "    print(l)"
   ]
  },
  {
   "cell_type": "code",
   "execution_count": 30,
   "id": "d7f6fe90-46b9-48c3-8676-eef6750b06a9",
   "metadata": {},
   "outputs": [
    {
     "name": "stdout",
     "output_type": "stream",
     "text": [
      "Hi!\n",
      "Hi!\n"
     ]
    }
   ],
   "source": [
    "# code inside for-loop is independent of items in iterable\n",
    "\n",
    "for _ in range(1,3): \n",
    "    print('Hi!')"
   ]
  },
  {
   "cell_type": "code",
   "execution_count": 28,
   "id": "91b3df28-bb3b-42b1-b6a5-0a912f690e09",
   "metadata": {},
   "outputs": [
    {
     "name": "stdout",
     "output_type": "stream",
     "text": [
      "1\n",
      "2\n",
      "3\n"
     ]
    }
   ],
   "source": [
    "# Tuples\n",
    "\n",
    "for i in (1,2,3): \n",
    "    print(i)"
   ]
  },
  {
   "cell_type": "markdown",
   "id": "4ed3f64b-45c0-4e6e-b92b-fcbcdefe6e3c",
   "metadata": {
    "tags": []
   },
   "source": [
    "### Tuple Unpacking and For Loops"
   ]
  },
  {
   "cell_type": "code",
   "execution_count": 51,
   "id": "e4649200-79b1-4a32-bc23-fd87c43c3c54",
   "metadata": {},
   "outputs": [],
   "source": [
    "l = [(1,2),(3,4),(5,6),(7,8)]\n",
    "# this data stucture is very common in Python "
   ]
  },
  {
   "cell_type": "code",
   "execution_count": 37,
   "id": "0430c63d-ca7b-4f82-89bc-febf192aef5e",
   "metadata": {},
   "outputs": [
    {
     "data": {
      "text/plain": [
       "4"
      ]
     },
     "execution_count": 37,
     "metadata": {},
     "output_type": "execute_result"
    }
   ],
   "source": [
    "len(l)"
   ]
  },
  {
   "cell_type": "code",
   "execution_count": 50,
   "id": "47929eb5-7385-4b2b-ae8c-1755094750ee",
   "metadata": {},
   "outputs": [
    {
     "name": "stdout",
     "output_type": "stream",
     "text": [
      "(1, 2)\n",
      "(3, 4)\n",
      "(5, 6)\n",
      "(7, 8)\n"
     ]
    }
   ],
   "source": [
    "# printing the items in the array (tuples)\n",
    "for i in l: \n",
    "    print(i)"
   ]
  },
  {
   "cell_type": "code",
   "execution_count": 48,
   "id": "08d59216-49d3-4360-9139-c0f4fa6878b5",
   "metadata": {},
   "outputs": [
    {
     "name": "stdout",
     "output_type": "stream",
     "text": [
      "1\n",
      "2\n",
      "\n",
      "3\n",
      "4\n",
      "\n",
      "5\n",
      "6\n",
      "\n",
      "7\n",
      "8\n",
      "\n"
     ]
    }
   ],
   "source": [
    "# unpack the tuples in the array, we can access the items in the tuples directly\n",
    "for (i,j) in l: \n",
    "    print(i)\n",
    "    print(f'{j}\\n')"
   ]
  },
  {
   "cell_type": "code",
   "execution_count": 47,
   "id": "2aef8042-a300-45b6-8290-85d78eaf8176",
   "metadata": {},
   "outputs": [
    {
     "name": "stdout",
     "output_type": "stream",
     "text": [
      "1\n",
      "2\n",
      "\n",
      "3\n",
      "4\n",
      "\n",
      "5\n",
      "6\n",
      "\n",
      "7\n",
      "8\n",
      "\n"
     ]
    }
   ],
   "source": [
    "# we don't need the parenthesis to unpack the tuples\n",
    "for i,j in l: \n",
    "    print(i)\n",
    "    print(f'{j}\\n')"
   ]
  },
  {
   "cell_type": "code",
   "execution_count": 53,
   "id": "ddfcba33-188e-45ee-9c71-da87d0435a81",
   "metadata": {},
   "outputs": [],
   "source": [
    "l = [(1,2,3),(5,6,7),(8,9,10)]"
   ]
  },
  {
   "cell_type": "code",
   "execution_count": 54,
   "id": "117512a3-27cd-4d03-af7f-435adc4e8bed",
   "metadata": {},
   "outputs": [
    {
     "name": "stdout",
     "output_type": "stream",
     "text": [
      "(1, 2, 3)\n",
      "(5, 6, 7)\n",
      "(8, 9, 10)\n"
     ]
    }
   ],
   "source": [
    "for i in l: \n",
    "    print(i)"
   ]
  },
  {
   "cell_type": "code",
   "execution_count": 56,
   "id": "11ea5547-d1e2-4a7e-8053-0bc38ca970e9",
   "metadata": {},
   "outputs": [
    {
     "name": "stdout",
     "output_type": "stream",
     "text": [
      "2\n",
      "6\n",
      "9\n"
     ]
    }
   ],
   "source": [
    "# tuple unpacking and for-loops\n",
    "\n",
    "for i,j,k in l: \n",
    "    print(j)"
   ]
  },
  {
   "cell_type": "code",
   "execution_count": 59,
   "id": "b6e708cb-64e2-4b32-8ef3-ef5e4bb99a6e",
   "metadata": {},
   "outputs": [
    {
     "name": "stdout",
     "output_type": "stream",
     "text": [
      "k1\n",
      "k2\n",
      "k3\n"
     ]
    }
   ],
   "source": [
    "# by default, we only iterative the keys of the dictionary\n",
    "\n",
    "d = {'k1':1,'k2':2,'k3':3}\n",
    "\n",
    "for i in d: \n",
    "    print(i)"
   ]
  },
  {
   "cell_type": "code",
   "execution_count": 67,
   "id": "90372891-ac20-4506-8a0f-0c90a76c22bf",
   "metadata": {},
   "outputs": [
    {
     "name": "stdout",
     "output_type": "stream",
     "text": [
      "k1\n",
      "k2\n",
      "k3\n"
     ]
    }
   ],
   "source": [
    "for i in d: \n",
    "    print(i)"
   ]
  },
  {
   "cell_type": "code",
   "execution_count": 62,
   "id": "8775376d-2f18-4027-8d26-4beb10d5d73f",
   "metadata": {},
   "outputs": [
    {
     "name": "stdout",
     "output_type": "stream",
     "text": [
      "('k1', 1)\n",
      "('k2', 2)\n",
      "('k3', 3)\n"
     ]
    }
   ],
   "source": [
    "for i in d.items(): \n",
    "    print(i)\n",
    "# -> we can use tuple unpacking"
   ]
  },
  {
   "cell_type": "code",
   "execution_count": 63,
   "id": "a5d75574-f4f9-4c56-8938-8bc5d3f7e1dc",
   "metadata": {},
   "outputs": [
    {
     "name": "stdout",
     "output_type": "stream",
     "text": [
      "1\n",
      "2\n",
      "3\n"
     ]
    }
   ],
   "source": [
    "for key, value in d.items():\n",
    "    print(value)"
   ]
  },
  {
   "cell_type": "code",
   "execution_count": 66,
   "id": "ac6a9e25-6ff9-40ce-9b18-4ce28e062bf9",
   "metadata": {},
   "outputs": [
    {
     "name": "stdout",
     "output_type": "stream",
     "text": [
      "(0, 'k1')\n",
      "(1, 'k2')\n",
      "(2, 'k3')\n"
     ]
    }
   ],
   "source": [
    "for item in enumerate(d): \n",
    "    print(item)\n",
    "# note that this is different from for-loop above: enumerate yields tupples with a count and the value of the iterable"
   ]
  },
  {
   "cell_type": "markdown",
   "id": "4e14ca22-0403-4cc0-9834-3c1ce3e6ee7f",
   "metadata": {
    "jp-MarkdownHeadingCollapsed": true,
    "tags": []
   },
   "source": [
    "## While Loops"
   ]
  },
  {
   "cell_type": "code",
   "execution_count": 76,
   "id": "ae4681cc-3b58-4d16-903a-9573c7c0fec2",
   "metadata": {},
   "outputs": [
    {
     "name": "stdout",
     "output_type": "stream",
     "text": [
      "the current value of x is 0\n",
      "the current value of x is 1\n",
      "the current value of x is 2\n",
      "the current value of x is 3\n",
      "the current value of x is 4\n",
      "x is not less than 5\n"
     ]
    }
   ],
   "source": [
    "x = 0 \n",
    "\n",
    "while x < 5: \n",
    "    print(f'the current value of x is {x}')\n",
    "    x += 1\n",
    "else: \n",
    "    print('x is not less than 5')"
   ]
  },
  {
   "cell_type": "markdown",
   "id": "986462d5-b285-40e5-a596-b2ad68dec735",
   "metadata": {},
   "source": [
    "### Break, Continue, and Pass Keywords"
   ]
  },
  {
   "cell_type": "code",
   "execution_count": 83,
   "id": "9177f5fd-96b1-4ab0-8544-9c9ff5521359",
   "metadata": {},
   "outputs": [
    {
     "ename": "IndentationError",
     "evalue": "expected an indented block (2129980330.py, line 4)",
     "output_type": "error",
     "traceback": [
      "\u001b[0;36m  File \u001b[0;32m\"/var/folders/yq/lxkzwgxd39gbvyfxzc1vrvqr0000gn/T/ipykernel_27991/2129980330.py\"\u001b[0;36m, line \u001b[0;32m4\u001b[0m\n\u001b[0;31m    print('end of script')\u001b[0m\n\u001b[0m    ^\u001b[0m\n\u001b[0;31mIndentationError\u001b[0m\u001b[0;31m:\u001b[0m expected an indented block\n"
     ]
    }
   ],
   "source": [
    "for i in range(1,4):\n",
    "    # this creates a syntax error\n",
    "    \n",
    "print('end of script')"
   ]
  },
  {
   "cell_type": "code",
   "execution_count": 84,
   "id": "d98f3bef-392c-48f2-9ac0-dc613d19fb79",
   "metadata": {},
   "outputs": [
    {
     "name": "stdout",
     "output_type": "stream",
     "text": [
      "end of script\n"
     ]
    }
   ],
   "source": [
    "for i in range(1,4):\n",
    "    pass # placeholder to avoid syntax errors\n",
    "\n",
    "print('end of script')"
   ]
  },
  {
   "cell_type": "code",
   "execution_count": 86,
   "id": "7520b1ca-0011-4684-895c-f911ab5048d0",
   "metadata": {},
   "outputs": [
    {
     "name": "stdout",
     "output_type": "stream",
     "text": [
      "S\n",
      "m\n",
      "m\n",
      "y\n"
     ]
    }
   ],
   "source": [
    "for i in 'Sammy': \n",
    "    if(i=='a'): \n",
    "        continue # go back to the top of the loop if condition is met\n",
    "    print(i)"
   ]
  },
  {
   "cell_type": "code",
   "execution_count": 87,
   "id": "05dac1d1-3b0d-4e39-9f19-228f45cd63e3",
   "metadata": {},
   "outputs": [
    {
     "name": "stdout",
     "output_type": "stream",
     "text": [
      "S\n"
     ]
    }
   ],
   "source": [
    "for i in 'Sammy': \n",
    "    if(i=='a'): \n",
    "        break # break loop if condition is met\n",
    "    print(i)"
   ]
  },
  {
   "cell_type": "code",
   "execution_count": 90,
   "id": "07d617e7-a6d4-49b2-8d50-c38ca296d809",
   "metadata": {},
   "outputs": [
    {
     "name": "stdout",
     "output_type": "stream",
     "text": [
      "0\n",
      "1\n"
     ]
    }
   ],
   "source": [
    "x = 0\n",
    "\n",
    "while x < 5: \n",
    "    if (x==2): \n",
    "        break\n",
    "    print(x)\n",
    "    x += 1"
   ]
  },
  {
   "cell_type": "markdown",
   "id": "e2de5d91-3428-4fcf-a262-9473f7bfb105",
   "metadata": {},
   "source": [
    "## Userful Operators"
   ]
  },
  {
   "cell_type": "code",
   "execution_count": 91,
   "id": "a72f5a0e-2b9e-4d89-9b78-42fdb35e84c3",
   "metadata": {},
   "outputs": [
    {
     "name": "stdout",
     "output_type": "stream",
     "text": [
      "0\n",
      "1\n",
      "2\n",
      "3\n",
      "4\n",
      "5\n",
      "6\n",
      "7\n",
      "8\n",
      "9\n"
     ]
    }
   ],
   "source": [
    "# range is a generator (special type of function that will generate information instead of saving it to memory)\n",
    "\n",
    "for i in range(10):\n",
    "    print(i)"
   ]
  },
  {
   "cell_type": "code",
   "execution_count": 93,
   "id": "3ca6377c-33a0-437f-865a-126b0403636f",
   "metadata": {},
   "outputs": [
    {
     "name": "stdout",
     "output_type": "stream",
     "text": [
      "5\n",
      "6\n",
      "7\n",
      "8\n",
      "9\n"
     ]
    }
   ],
   "source": [
    "for i in range(5,10): \n",
    "    print(i)"
   ]
  },
  {
   "cell_type": "code",
   "execution_count": 94,
   "id": "2d730076-086d-404a-90aa-0f7f2f61dcb0",
   "metadata": {},
   "outputs": [
    {
     "name": "stdout",
     "output_type": "stream",
     "text": [
      "0\n",
      "2\n",
      "4\n",
      "6\n",
      "8\n",
      "10\n"
     ]
    }
   ],
   "source": [
    "for i in range(0,11,2): \n",
    "    print(i)"
   ]
  },
  {
   "cell_type": "code",
   "execution_count": 95,
   "id": "5410bc27-4328-44e2-884e-312851a7f959",
   "metadata": {},
   "outputs": [
    {
     "data": {
      "text/plain": [
       "[0, 2, 4, 6, 8, 10]"
      ]
     },
     "execution_count": 95,
     "metadata": {},
     "output_type": "execute_result"
    }
   ],
   "source": [
    "list(range(0,11,2))"
   ]
  },
  {
   "cell_type": "code",
   "execution_count": 99,
   "id": "0b5517fa-ac08-4e29-a96c-92a3b9fba3d5",
   "metadata": {},
   "outputs": [
    {
     "name": "stdout",
     "output_type": "stream",
     "text": [
      "At index 0 the letter is a\n",
      "At index 1 the letter is b\n",
      "At index 2 the letter is c\n",
      "At index 3 the letter is d\n",
      "At index 4 the letter is e\n"
     ]
    }
   ],
   "source": [
    "count = 0\n",
    "\n",
    "for l in 'abcde': \n",
    "    print(f'At index {count} the letter is {l}')\n",
    "    count += 1\n",
    "    \n",
    "# the operation above is so common there is a built-in function for it"
   ]
  },
  {
   "cell_type": "code",
   "execution_count": 100,
   "id": "e7a52a99-ae5f-479d-8dc1-90619e8b9b5c",
   "metadata": {},
   "outputs": [
    {
     "name": "stdout",
     "output_type": "stream",
     "text": [
      "a\n",
      "b\n",
      "c\n",
      "d\n",
      "e\n"
     ]
    }
   ],
   "source": [
    "count = 0 \n",
    "word = 'abcde'\n",
    "\n",
    "for l in word: \n",
    "    print(word[count])\n",
    "    count += 1"
   ]
  },
  {
   "cell_type": "code",
   "execution_count": 101,
   "id": "b2c1b0b8-ccd3-4dfd-ac8b-f27ec9a2287f",
   "metadata": {},
   "outputs": [
    {
     "name": "stdout",
     "output_type": "stream",
     "text": [
      "(0, 'a')\n",
      "(1, 'b')\n",
      "(2, 'c')\n",
      "(3, 'd')\n",
      "(4, 'e')\n"
     ]
    }
   ],
   "source": [
    "for i in enumerate('abcde'):\n",
    "    print(i)"
   ]
  },
  {
   "cell_type": "code",
   "execution_count": 104,
   "id": "24ff04e9-0d1e-42b8-a381-8bee85e827a5",
   "metadata": {},
   "outputs": [
    {
     "name": "stdout",
     "output_type": "stream",
     "text": [
      "0\n",
      "a\n",
      "\n",
      "\n",
      "1\n",
      "b\n",
      "\n",
      "\n",
      "2\n",
      "c\n",
      "\n",
      "\n",
      "3\n",
      "d\n",
      "\n",
      "\n",
      "4\n",
      "e\n",
      "\n",
      "\n"
     ]
    }
   ],
   "source": [
    "for i, l in enumerate('abcde'): \n",
    "    print(i)\n",
    "    print(l)\n",
    "    print('\\n')"
   ]
  },
  {
   "cell_type": "code",
   "execution_count": 105,
   "id": "fe93ea64-0888-4885-9317-d1e67aac346d",
   "metadata": {},
   "outputs": [
    {
     "data": {
      "text/plain": [
       "<zip at 0x105287d40>"
      ]
     },
     "execution_count": 105,
     "metadata": {},
     "output_type": "execute_result"
    }
   ],
   "source": [
    "zip(range(1,6),'abc')"
   ]
  },
  {
   "cell_type": "code",
   "execution_count": 106,
   "id": "e9cbe226-b22f-4934-9268-fdb71c9a69ce",
   "metadata": {},
   "outputs": [
    {
     "data": {
      "text/plain": [
       "[(1, 'a'), (2, 'b'), (3, 'c')]"
      ]
     },
     "execution_count": 106,
     "metadata": {},
     "output_type": "execute_result"
    }
   ],
   "source": [
    "list(zip(range(1,6),'abc'))"
   ]
  },
  {
   "cell_type": "code",
   "execution_count": 107,
   "id": "ed6b73dc-7064-4e5c-b11e-797f7994e3f7",
   "metadata": {},
   "outputs": [
    {
     "name": "stdout",
     "output_type": "stream",
     "text": [
      "(1, 'a')\n",
      "(2, 'b')\n",
      "(3, 'c')\n"
     ]
    }
   ],
   "source": [
    "for i in zip(range(1,6),'abc'): \n",
    "    print(i)"
   ]
  },
  {
   "cell_type": "code",
   "execution_count": 108,
   "id": "8212b8ec-123d-4722-8241-47f026747719",
   "metadata": {},
   "outputs": [
    {
     "name": "stdout",
     "output_type": "stream",
     "text": [
      "1\n",
      "a\n",
      "\n",
      "\n",
      "2\n",
      "b\n",
      "\n",
      "\n",
      "3\n",
      "c\n",
      "\n",
      "\n"
     ]
    }
   ],
   "source": [
    "for i,j in zip(range(1,6),'abc'): \n",
    "    print(i)\n",
    "    print(j)\n",
    "    print('\\n')"
   ]
  },
  {
   "cell_type": "code",
   "execution_count": 109,
   "id": "cec1d1f8-c88c-44a3-9314-7ab97a105635",
   "metadata": {},
   "outputs": [
    {
     "data": {
      "text/plain": [
       "False"
      ]
     },
     "execution_count": 109,
     "metadata": {},
     "output_type": "execute_result"
    }
   ],
   "source": [
    "'x' in [1,2,3]"
   ]
  },
  {
   "cell_type": "code",
   "execution_count": 110,
   "id": "105d9d53-eb24-4570-a85a-006f779ab077",
   "metadata": {},
   "outputs": [
    {
     "data": {
      "text/plain": [
       "True"
      ]
     },
     "execution_count": 110,
     "metadata": {},
     "output_type": "execute_result"
    }
   ],
   "source": [
    "'x' in ['x','y']"
   ]
  },
  {
   "cell_type": "code",
   "execution_count": 113,
   "id": "49699a56-5149-474e-8557-bc6985a9bdb3",
   "metadata": {},
   "outputs": [
    {
     "data": {
      "text/plain": [
       "True"
      ]
     },
     "execution_count": 113,
     "metadata": {},
     "output_type": "execute_result"
    }
   ],
   "source": [
    "'a' in 'a world'"
   ]
  },
  {
   "cell_type": "code",
   "execution_count": 114,
   "id": "99224a73-227c-45b9-8245-eeff7b08eb1f",
   "metadata": {},
   "outputs": [
    {
     "data": {
      "text/plain": [
       "True"
      ]
     },
     "execution_count": 114,
     "metadata": {},
     "output_type": "execute_result"
    }
   ],
   "source": [
    "'mykey' in {'mykey':345} \n",
    "# 'mykey' in {'mykey':345}.keys()"
   ]
  },
  {
   "cell_type": "code",
   "execution_count": 115,
   "id": "17da0b84-2a5f-4fa1-abda-ddf34e2a7e10",
   "metadata": {},
   "outputs": [
    {
     "data": {
      "text/plain": [
       "True"
      ]
     },
     "execution_count": 115,
     "metadata": {},
     "output_type": "execute_result"
    }
   ],
   "source": [
    "345 in {'mykey':345}.values()"
   ]
  },
  {
   "cell_type": "code",
   "execution_count": 124,
   "id": "59881cbc-e434-466a-bddc-b6caceb8b95c",
   "metadata": {},
   "outputs": [
    {
     "name": "stdout",
     "output_type": "stream",
     "text": [
      "key1 is the key, value1 is the value\n"
     ]
    }
   ],
   "source": [
    "for i,j in {'key1':'value1'}.items():\n",
    "    print(f'{i} is the key, {j} is the value')"
   ]
  },
  {
   "cell_type": "code",
   "execution_count": 125,
   "id": "d48ab709-ecc1-4b7e-a023-5043cc0402e9",
   "metadata": {},
   "outputs": [
    {
     "data": {
      "text/plain": [
       "1"
      ]
     },
     "execution_count": 125,
     "metadata": {},
     "output_type": "execute_result"
    }
   ],
   "source": [
    "min([1,2])"
   ]
  },
  {
   "cell_type": "code",
   "execution_count": 128,
   "id": "34bee30f-549f-4209-8cc3-7915a909cb84",
   "metadata": {},
   "outputs": [
    {
     "data": {
      "text/plain": [
       "1"
      ]
     },
     "execution_count": 128,
     "metadata": {},
     "output_type": "execute_result"
    }
   ],
   "source": [
    "min(set([1,1,2]))"
   ]
  },
  {
   "cell_type": "code",
   "execution_count": 129,
   "id": "345c2c5d-4b81-4aa2-a594-41bb9010befe",
   "metadata": {},
   "outputs": [
    {
     "name": "stdout",
     "output_type": "stream",
     "text": [
      "1\n",
      "2\n",
      "3\n",
      "4\n"
     ]
    }
   ],
   "source": [
    "for i in set([1,2,3,4,4,4]): \n",
    "    print(i)"
   ]
  },
  {
   "cell_type": "code",
   "execution_count": 130,
   "id": "86a554ea-c8ad-4b98-b5b4-f568564a4689",
   "metadata": {},
   "outputs": [],
   "source": [
    "from random import shuffle"
   ]
  },
  {
   "cell_type": "code",
   "execution_count": 140,
   "id": "407ec264-307e-40a4-be8e-ae78a7153226",
   "metadata": {},
   "outputs": [
    {
     "data": {
      "text/plain": [
       "[10, 4, 2, 8, 6, 1, 9, 5, 7, 3]"
      ]
     },
     "execution_count": 140,
     "metadata": {},
     "output_type": "execute_result"
    }
   ],
   "source": [
    "l = list(range(1,11))\n",
    "\n",
    "shuffle(l)\n",
    "l\n",
    "# shuffles in-place"
   ]
  },
  {
   "cell_type": "code",
   "execution_count": 141,
   "id": "7fd7cb2d-d06d-4d0e-a6f4-a764d2685722",
   "metadata": {},
   "outputs": [],
   "source": [
    "from random import randint"
   ]
  },
  {
   "cell_type": "code",
   "execution_count": 142,
   "id": "f7555cda-d736-4fc6-8e6f-5f5bedabf2d2",
   "metadata": {},
   "outputs": [
    {
     "data": {
      "text/plain": [
       "21"
      ]
     },
     "execution_count": 142,
     "metadata": {},
     "output_type": "execute_result"
    }
   ],
   "source": [
    "randint(0,100)"
   ]
  },
  {
   "cell_type": "code",
   "execution_count": 150,
   "id": "120f7d87-589c-44b2-a042-7c19053f178f",
   "metadata": {},
   "outputs": [
    {
     "name": "stdin",
     "output_type": "stream",
     "text": [
      "Enter a number here:  10\n"
     ]
    }
   ],
   "source": [
    "res = input('Enter a number here: ')"
   ]
  },
  {
   "cell_type": "code",
   "execution_count": 151,
   "id": "b5ada963-7731-4662-8947-b9ed2d773408",
   "metadata": {},
   "outputs": [],
   "source": [
    "res = int(res)"
   ]
  },
  {
   "cell_type": "markdown",
   "id": "ebfde199-39c0-40d6-bba0-276aaf00dfda",
   "metadata": {},
   "source": [
    "## List Comprehesion"
   ]
  },
  {
   "cell_type": "code",
   "execution_count": 152,
   "id": "1476f722-1b98-410c-8ba1-c3030c8ba9d3",
   "metadata": {},
   "outputs": [
    {
     "data": {
      "text/plain": [
       "'hello'"
      ]
     },
     "execution_count": 152,
     "metadata": {},
     "output_type": "execute_result"
    }
   ],
   "source": [
    "'hello'"
   ]
  },
  {
   "cell_type": "code",
   "execution_count": 155,
   "id": "9fb4903b-d051-4724-931f-94a095393054",
   "metadata": {},
   "outputs": [
    {
     "data": {
      "text/plain": [
       "['h', 'e', 'l', 'l', 'o']"
      ]
     },
     "execution_count": 155,
     "metadata": {},
     "output_type": "execute_result"
    }
   ],
   "source": [
    "l = []\n",
    "\n",
    "for i in 'hello': \n",
    "    l.append(i)\n",
    "    \n",
    "l"
   ]
  },
  {
   "cell_type": "code",
   "execution_count": 160,
   "id": "21ef5c1e-5268-42d8-8fa4-03aef9a40ba8",
   "metadata": {},
   "outputs": [
    {
     "data": {
      "text/plain": [
       "['h', 'e', 'l', 'l', 'o']"
      ]
     },
     "execution_count": 160,
     "metadata": {},
     "output_type": "execute_result"
    }
   ],
   "source": [
    "l = [i for i in 'hello']\n",
    "l"
   ]
  },
  {
   "cell_type": "code",
   "execution_count": 161,
   "id": "e60115a0-0e4f-46ce-869a-ae8e019dcdb2",
   "metadata": {},
   "outputs": [
    {
     "data": {
      "text/plain": [
       "['w', 'o', 'r', 'd']"
      ]
     },
     "execution_count": 161,
     "metadata": {},
     "output_type": "execute_result"
    }
   ],
   "source": [
    "[x for x in 'word']"
   ]
  },
  {
   "cell_type": "code",
   "execution_count": 162,
   "id": "709a5a89-b16e-4bab-a815-39e6cf9929c4",
   "metadata": {},
   "outputs": [
    {
     "data": {
      "text/plain": [
       "[0, 1, 2, 3, 4, 5, 6, 7, 8, 9, 10]"
      ]
     },
     "execution_count": 162,
     "metadata": {},
     "output_type": "execute_result"
    }
   ],
   "source": [
    "[x for x in range(0,11)]"
   ]
  },
  {
   "cell_type": "code",
   "execution_count": 163,
   "id": "0289022e-f995-4c1c-b8eb-0f5e80751342",
   "metadata": {},
   "outputs": [
    {
     "data": {
      "text/plain": [
       "[0, 1, 2, 3, 4, 5, 6, 7, 8, 9, 10]"
      ]
     },
     "execution_count": 163,
     "metadata": {},
     "output_type": "execute_result"
    }
   ],
   "source": [
    "list(range(0,11))"
   ]
  },
  {
   "cell_type": "code",
   "execution_count": 164,
   "id": "4af0621b-8134-47e9-97e5-e6eb5c377f91",
   "metadata": {},
   "outputs": [
    {
     "data": {
      "text/plain": [
       "[0, 1, 4, 9, 16, 25, 36, 49, 64, 81, 100]"
      ]
     },
     "execution_count": 164,
     "metadata": {},
     "output_type": "execute_result"
    }
   ],
   "source": [
    "[x**2 for x in range(0,11)]"
   ]
  },
  {
   "cell_type": "code",
   "execution_count": 167,
   "id": "4625bb9e-ef48-48b3-9e4c-317fb28a3238",
   "metadata": {},
   "outputs": [
    {
     "data": {
      "text/plain": [
       "['0', '1', '2', '3', '4', '5', '6', '7', '8', '9', '10']"
      ]
     },
     "execution_count": 167,
     "metadata": {},
     "output_type": "execute_result"
    }
   ],
   "source": [
    "[str(x) for x in range(0,11)]"
   ]
  },
  {
   "cell_type": "code",
   "execution_count": 173,
   "id": "3b607f20-1de6-4bd9-9719-469c7cf2b273",
   "metadata": {},
   "outputs": [
    {
     "data": {
      "text/plain": [
       "[0, 4, 16, 36, 64, 100]"
      ]
     },
     "execution_count": 173,
     "metadata": {},
     "output_type": "execute_result"
    }
   ],
   "source": [
    "[x**2 for x in range(0,11) if x%2 == 0]"
   ]
  },
  {
   "cell_type": "code",
   "execution_count": 170,
   "id": "a039268d-6842-4d66-82b6-1b0f8e607490",
   "metadata": {},
   "outputs": [
    {
     "data": {
      "text/plain": [
       "[0, 2, 4, 6, 8, 10]"
      ]
     },
     "execution_count": 170,
     "metadata": {},
     "output_type": "execute_result"
    }
   ],
   "source": [
    "l = []\n",
    "\n",
    "for i in range(0,11): \n",
    "    if i%2==0: \n",
    "        l.append(i)\n",
    "        \n",
    "l"
   ]
  },
  {
   "cell_type": "code",
   "execution_count": 171,
   "id": "9c4ac1b2-b8e5-4f6e-a1c0-85fcb014b22d",
   "metadata": {},
   "outputs": [],
   "source": [
    "celcius = [0,10,20,35]\n",
    "\n",
    "fahr = [(9/5*temp_cel +32) for temp_cel in celcius]"
   ]
  },
  {
   "cell_type": "code",
   "execution_count": 172,
   "id": "f35e1ef5-0954-4c70-864e-ea45dc2005f3",
   "metadata": {},
   "outputs": [
    {
     "data": {
      "text/plain": [
       "[32.0, 50.0, 68.0, 95.0]"
      ]
     },
     "execution_count": 172,
     "metadata": {},
     "output_type": "execute_result"
    }
   ],
   "source": [
    "fahr"
   ]
  },
  {
   "cell_type": "code",
   "execution_count": 175,
   "id": "f0e07813-e141-4336-9675-ea8ab8187745",
   "metadata": {},
   "outputs": [
    {
     "data": {
      "text/plain": [
       "[0, 'ODD', 2, 'ODD', 4, 'ODD', 6, 'ODD', 8, 'ODD', 10]"
      ]
     },
     "execution_count": 175,
     "metadata": {},
     "output_type": "execute_result"
    }
   ],
   "source": [
    "[x if x%2==0 else 'ODD' for x in range(0,11)]"
   ]
  },
  {
   "cell_type": "code",
   "execution_count": 176,
   "id": "ef057a8e-464e-4376-96f4-5e093517b697",
   "metadata": {},
   "outputs": [
    {
     "data": {
      "text/plain": [
       "[1, 2, 3, 2, 4, 6, 3, 6, 9]"
      ]
     },
     "execution_count": 176,
     "metadata": {},
     "output_type": "execute_result"
    }
   ],
   "source": [
    "# nested loops\n",
    "l = []\n",
    "for x in range(1,4): \n",
    "    for y in range(1,4): \n",
    "        l.append(x*y)\n",
    "        \n",
    "l"
   ]
  },
  {
   "cell_type": "code",
   "execution_count": 177,
   "id": "c44ef74e-62c6-4cd6-a70d-e71d3700cd25",
   "metadata": {},
   "outputs": [
    {
     "data": {
      "text/plain": [
       "[1, 2, 3, 2, 4, 6, 3, 6, 9]"
      ]
     },
     "execution_count": 177,
     "metadata": {},
     "output_type": "execute_result"
    }
   ],
   "source": [
    "[x*y for x in range(1,4) for y in range(1,4)]"
   ]
  },
  {
   "cell_type": "code",
   "execution_count": null,
   "id": "655da9af-5012-4289-91fa-d422145f7339",
   "metadata": {},
   "outputs": [],
   "source": []
  }
 ],
 "metadata": {
  "kernelspec": {
   "display_name": "Python 3 (ipykernel)",
   "language": "python",
   "name": "python3"
  },
  "language_info": {
   "codemirror_mode": {
    "name": "ipython",
    "version": 3
   },
   "file_extension": ".py",
   "mimetype": "text/x-python",
   "name": "python",
   "nbconvert_exporter": "python",
   "pygments_lexer": "ipython3",
   "version": "3.9.6"
  }
 },
 "nbformat": 4,
 "nbformat_minor": 5
}
