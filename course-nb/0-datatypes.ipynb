{
 "cells": [
  {
   "cell_type": "markdown",
   "id": "aaf1b562-3a94-4360-8140-56542bf45a2a",
   "metadata": {},
   "source": [
    "# Datatypes"
   ]
  },
  {
   "cell_type": "code",
   "execution_count": 1,
   "id": "1daca49f-7ddf-4ab0-86a1-e1f39bfe9de1",
   "metadata": {},
   "outputs": [
    {
     "name": "stdout",
     "output_type": "stream",
     "text": [
      "hello world-!papa"
     ]
    }
   ],
   "source": [
    "print('hello world','!',sep='-',end='papa')"
   ]
  },
  {
   "cell_type": "code",
   "execution_count": 2,
   "id": "6592b4da-2fe3-4005-9378-2446aebf8941",
   "metadata": {},
   "outputs": [
    {
     "name": "stdout",
     "output_type": "stream",
     "text": [
      "3.9.6\n"
     ]
    }
   ],
   "source": [
    "from platform import python_version\n",
    "print(python_version())"
   ]
  },
  {
   "cell_type": "markdown",
   "id": "35ffc2ed-59bb-4e73-85f6-2289c7137bee",
   "metadata": {},
   "source": [
    "## Numbers"
   ]
  },
  {
   "cell_type": "code",
   "execution_count": 3,
   "id": "e402ae89-a393-4a44-978a-050475141304",
   "metadata": {},
   "outputs": [
    {
     "data": {
      "text/plain": [
       "1.5"
      ]
     },
     "execution_count": 3,
     "metadata": {},
     "output_type": "execute_result"
    }
   ],
   "source": [
    "3/2"
   ]
  },
  {
   "cell_type": "code",
   "execution_count": 4,
   "id": "7deb4778-b802-4504-8dad-240709e91edd",
   "metadata": {},
   "outputs": [
    {
     "data": {
      "text/plain": [
       "1"
      ]
     },
     "execution_count": 4,
     "metadata": {},
     "output_type": "execute_result"
    }
   ],
   "source": [
    "# mod operator\n",
    "3%2"
   ]
  },
  {
   "cell_type": "code",
   "execution_count": 5,
   "id": "19303273-cdbb-4540-856c-aa9b38c506db",
   "metadata": {},
   "outputs": [
    {
     "data": {
      "text/plain": [
       "3"
      ]
     },
     "execution_count": 5,
     "metadata": {},
     "output_type": "execute_result"
    }
   ],
   "source": [
    "# caret opeartor\n",
    "1^2"
   ]
  },
  {
   "cell_type": "code",
   "execution_count": 6,
   "id": "5a091363-0a51-4ffd-b50d-db987c6da80a",
   "metadata": {},
   "outputs": [],
   "source": [
    "a = 10"
   ]
  },
  {
   "cell_type": "code",
   "execution_count": 7,
   "id": "46e2d433-7ed7-46e5-b808-01d2e2b76b37",
   "metadata": {},
   "outputs": [
    {
     "data": {
      "text/plain": [
       "int"
      ]
     },
     "execution_count": 7,
     "metadata": {},
     "output_type": "execute_result"
    }
   ],
   "source": [
    "type(a)"
   ]
  },
  {
   "cell_type": "code",
   "execution_count": 10,
   "id": "a13b10bd-a63f-445b-9d56-7823e133ecfa",
   "metadata": {},
   "outputs": [],
   "source": [
    "my_income = 100\n",
    "tax_rate = 0.1\n",
    "my_taxes = my_income * tax_rate"
   ]
  },
  {
   "cell_type": "code",
   "execution_count": 11,
   "id": "a95a2335-3646-4ae3-b060-ae33775a4143",
   "metadata": {},
   "outputs": [
    {
     "data": {
      "text/plain": [
       "10.0"
      ]
     },
     "execution_count": 11,
     "metadata": {},
     "output_type": "execute_result"
    }
   ],
   "source": [
    "my_taxes"
   ]
  },
  {
   "cell_type": "markdown",
   "id": "3ceae1dc-9ba3-486d-b4ff-2708dd9ac004",
   "metadata": {},
   "source": [
    "## Strings"
   ]
  },
  {
   "cell_type": "code",
   "execution_count": 17,
   "id": "18877563-2395-42cb-8e51-47c317506bf4",
   "metadata": {},
   "outputs": [
    {
     "data": {
      "text/plain": [
       "'h'"
      ]
     },
     "execution_count": 17,
     "metadata": {},
     "output_type": "execute_result"
    }
   ],
   "source": [
    "'hello'[-5]"
   ]
  },
  {
   "cell_type": "code",
   "execution_count": 19,
   "id": "2af504ed-c0ea-47d2-89c7-ff0d43895af9",
   "metadata": {},
   "outputs": [
    {
     "name": "stdout",
     "output_type": "stream",
     "text": [
      "hello \n",
      "world\n"
     ]
    }
   ],
   "source": [
    "# escape character\n",
    "print('hello \\nworld')"
   ]
  },
  {
   "cell_type": "code",
   "execution_count": 20,
   "id": "440f29d4-2015-4e95-b0fc-e5cdd672d25a",
   "metadata": {},
   "outputs": [
    {
     "name": "stdout",
     "output_type": "stream",
     "text": [
      "hello \tworld\n"
     ]
    }
   ],
   "source": [
    "print('hello \\tworld')"
   ]
  },
  {
   "cell_type": "code",
   "execution_count": 21,
   "id": "5f6ec35f-60f1-480f-ab87-039fbbb9d16d",
   "metadata": {},
   "outputs": [
    {
     "data": {
      "text/plain": [
       "5"
      ]
     },
     "execution_count": 21,
     "metadata": {},
     "output_type": "execute_result"
    }
   ],
   "source": [
    "len('hello')"
   ]
  },
  {
   "cell_type": "code",
   "execution_count": 24,
   "id": "a6ca0658-2d65-4167-bf18-aa7591a61ddf",
   "metadata": {},
   "outputs": [],
   "source": [
    "my_string = 'Hello World'"
   ]
  },
  {
   "cell_type": "code",
   "execution_count": 26,
   "id": "4f762022-7408-4e82-a043-208de08f10c1",
   "metadata": {},
   "outputs": [
    {
     "data": {
      "text/plain": [
       "'l'"
      ]
     },
     "execution_count": 26,
     "metadata": {},
     "output_type": "execute_result"
    }
   ],
   "source": [
    "my_string[-2]"
   ]
  },
  {
   "cell_type": "code",
   "execution_count": 27,
   "id": "ecc4b27f-fa90-4f40-ba7f-d0df0be4ae9f",
   "metadata": {},
   "outputs": [
    {
     "data": {
      "text/plain": [
       "'Hello World'"
      ]
     },
     "execution_count": 27,
     "metadata": {},
     "output_type": "execute_result"
    }
   ],
   "source": [
    "my_string[0::]\n",
    "# my_string[0:]"
   ]
  },
  {
   "cell_type": "code",
   "execution_count": 31,
   "id": "2e936756-def1-47fc-ab98-93ee5bb00ec6",
   "metadata": {},
   "outputs": [
    {
     "data": {
      "text/plain": [
       "'Hello'"
      ]
     },
     "execution_count": 31,
     "metadata": {},
     "output_type": "execute_result"
    }
   ],
   "source": [
    "my_string[0:5:]\n",
    "# my_string[:5]\n",
    "# up to (but not including) 5"
   ]
  },
  {
   "cell_type": "code",
   "execution_count": 34,
   "id": "dcaba17e-0e1b-46f9-8f74-18af9f973055",
   "metadata": {},
   "outputs": [
    {
     "data": {
      "text/plain": [
       "'ello'"
      ]
     },
     "execution_count": 34,
     "metadata": {},
     "output_type": "execute_result"
    }
   ],
   "source": [
    "my_string[1:5:]\n",
    "# my_string[1:5]"
   ]
  },
  {
   "cell_type": "code",
   "execution_count": 36,
   "id": "f19da240-e70e-4ed3-b9e9-5ceb9fbc5b24",
   "metadata": {},
   "outputs": [
    {
     "data": {
      "text/plain": [
       "'Hello World'"
      ]
     },
     "execution_count": 36,
     "metadata": {},
     "output_type": "execute_result"
    }
   ],
   "source": [
    "my_string[::]"
   ]
  },
  {
   "cell_type": "code",
   "execution_count": 37,
   "id": "c51be4ca-f02e-4452-9ae9-a1c0b5209edc",
   "metadata": {},
   "outputs": [
    {
     "data": {
      "text/plain": [
       "'Hello World'"
      ]
     },
     "execution_count": 37,
     "metadata": {},
     "output_type": "execute_result"
    }
   ],
   "source": [
    "my_string[::1]"
   ]
  },
  {
   "cell_type": "code",
   "execution_count": 38,
   "id": "e0cf3ef9-236a-47db-af76-8aafc551c804",
   "metadata": {},
   "outputs": [
    {
     "data": {
      "text/plain": [
       "'HloWrd'"
      ]
     },
     "execution_count": 38,
     "metadata": {},
     "output_type": "execute_result"
    }
   ],
   "source": [
    "my_string[::2]"
   ]
  },
  {
   "cell_type": "code",
   "execution_count": 39,
   "id": "38ff8913-2e29-4c62-a846-eee6417b0f2c",
   "metadata": {},
   "outputs": [
    {
     "data": {
      "text/plain": [
       "'loWrd'"
      ]
     },
     "execution_count": 39,
     "metadata": {},
     "output_type": "execute_result"
    }
   ],
   "source": [
    "my_string[2::2]"
   ]
  },
  {
   "cell_type": "code",
   "execution_count": 50,
   "id": "8303a8e7-1f73-433d-8b9d-e3d3b565b944",
   "metadata": {},
   "outputs": [
    {
     "data": {
      "text/plain": [
       "'dlroW olleH'"
      ]
     },
     "execution_count": 50,
     "metadata": {},
     "output_type": "execute_result"
    }
   ],
   "source": [
    "my_string[::-1]"
   ]
  },
  {
   "cell_type": "code",
   "execution_count": 51,
   "id": "6fd14d49-b2a2-437b-a1ca-ce4cb265bac8",
   "metadata": {},
   "outputs": [
    {
     "name": "stdout",
     "output_type": "stream",
     "text": [
      "d\n",
      "l\n",
      "r\n",
      "o\n",
      "W\n",
      " \n",
      "o\n",
      "l\n",
      "l\n",
      "e\n",
      "H\n"
     ]
    }
   ],
   "source": [
    "for i in range(len(my_string)): \n",
    "    print(my_string[-(i+1)])"
   ]
  },
  {
   "cell_type": "code",
   "execution_count": null,
   "id": "b535539d-106e-47fe-a65b-b9228fd5b8d8",
   "metadata": {},
   "outputs": [],
   "source": []
  }
 ],
 "metadata": {
  "kernelspec": {
   "display_name": "Python 3 (ipykernel)",
   "language": "python",
   "name": "python3"
  },
  "language_info": {
   "codemirror_mode": {
    "name": "ipython",
    "version": 3
   },
   "file_extension": ".py",
   "mimetype": "text/x-python",
   "name": "python",
   "nbconvert_exporter": "python",
   "pygments_lexer": "ipython3",
   "version": "3.9.6"
  }
 },
 "nbformat": 4,
 "nbformat_minor": 5
}
