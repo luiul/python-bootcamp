{
 "cells": [
  {
   "cell_type": "markdown",
   "id": "ec34e75a-42ad-4b64-b751-88f714ec38a5",
   "metadata": {},
   "source": [
    "# Error Handling"
   ]
  },
  {
   "cell_type": "markdown",
   "id": "1b1a71fc-8c05-42a5-943c-02c432423823",
   "metadata": {},
   "source": [
    "## Basics"
   ]
  },
  {
   "cell_type": "markdown",
   "id": "d522ab38-d358-48b8-b2e4-d299aa86a4e3",
   "metadata": {},
   "source": [
    "### Example 1: Adding integer and string"
   ]
  },
  {
   "cell_type": "code",
   "execution_count": 1,
   "id": "888a8062-3ec7-46ff-b049-179068ec6fef",
   "metadata": {},
   "outputs": [],
   "source": [
    "def add(n1,n2): \n",
    "    print(n1+n2)"
   ]
  },
  {
   "cell_type": "code",
   "execution_count": 2,
   "id": "47bec640-8cd5-406e-ae3b-014ccf07ae96",
   "metadata": {},
   "outputs": [
    {
     "name": "stdout",
     "output_type": "stream",
     "text": [
      "30\n"
     ]
    }
   ],
   "source": [
    "add(10,20)"
   ]
  },
  {
   "cell_type": "code",
   "execution_count": 4,
   "id": "b80d372a-fc1d-43be-b21e-3d8fce9b3326",
   "metadata": {},
   "outputs": [],
   "source": [
    "n1 = 10"
   ]
  },
  {
   "cell_type": "code",
   "execution_count": 5,
   "id": "8148be29-60ae-4e2f-9bd1-5f4d95949fda",
   "metadata": {},
   "outputs": [
    {
     "name": "stdin",
     "output_type": "stream",
     "text": [
      "Please provie a number:  20\n"
     ]
    }
   ],
   "source": [
    "n2 = input('Please provie a number: ')"
   ]
  },
  {
   "cell_type": "code",
   "execution_count": 8,
   "id": "72d71835-8812-4464-ac9b-cef959d21dce",
   "metadata": {},
   "outputs": [
    {
     "ename": "TypeError",
     "evalue": "unsupported operand type(s) for +: 'int' and 'str'",
     "output_type": "error",
     "traceback": [
      "\u001b[0;31m---------------------------------------------------------------------------\u001b[0m",
      "\u001b[0;31mTypeError\u001b[0m                                 Traceback (most recent call last)",
      "\u001b[0;32m/var/folders/yq/lxkzwgxd39gbvyfxzc1vrvqr0000gn/T/ipykernel_25007/970979613.py\u001b[0m in \u001b[0;36m<module>\u001b[0;34m\u001b[0m\n\u001b[0;32m----> 1\u001b[0;31m \u001b[0madd\u001b[0m\u001b[0;34m(\u001b[0m\u001b[0mn1\u001b[0m\u001b[0;34m,\u001b[0m\u001b[0mn2\u001b[0m\u001b[0;34m)\u001b[0m\u001b[0;34m\u001b[0m\u001b[0;34m\u001b[0m\u001b[0m\n\u001b[0m\u001b[1;32m      2\u001b[0m \u001b[0;31m# code after the error is no executed\u001b[0m\u001b[0;34m\u001b[0m\u001b[0;34m\u001b[0m\u001b[0;34m\u001b[0m\u001b[0m\n\u001b[1;32m      3\u001b[0m \u001b[0mprint\u001b[0m\u001b[0;34m(\u001b[0m\u001b[0;34m'Do this next'\u001b[0m\u001b[0;34m)\u001b[0m\u001b[0;34m\u001b[0m\u001b[0;34m\u001b[0m\u001b[0m\n",
      "\u001b[0;32m/var/folders/yq/lxkzwgxd39gbvyfxzc1vrvqr0000gn/T/ipykernel_25007/753657734.py\u001b[0m in \u001b[0;36madd\u001b[0;34m(n1, n2)\u001b[0m\n\u001b[1;32m      1\u001b[0m \u001b[0;32mdef\u001b[0m \u001b[0madd\u001b[0m\u001b[0;34m(\u001b[0m\u001b[0mn1\u001b[0m\u001b[0;34m,\u001b[0m\u001b[0mn2\u001b[0m\u001b[0;34m)\u001b[0m\u001b[0;34m:\u001b[0m\u001b[0;34m\u001b[0m\u001b[0;34m\u001b[0m\u001b[0m\n\u001b[0;32m----> 2\u001b[0;31m     \u001b[0mprint\u001b[0m\u001b[0;34m(\u001b[0m\u001b[0mn1\u001b[0m\u001b[0;34m+\u001b[0m\u001b[0mn2\u001b[0m\u001b[0;34m)\u001b[0m\u001b[0;34m\u001b[0m\u001b[0;34m\u001b[0m\u001b[0m\n\u001b[0m",
      "\u001b[0;31mTypeError\u001b[0m: unsupported operand type(s) for +: 'int' and 'str'"
     ]
    }
   ],
   "source": [
    "add(n1,n2)\n",
    "# code after the error is no executed\n",
    "print('Do this next')"
   ]
  },
  {
   "cell_type": "code",
   "execution_count": 9,
   "id": "cc764144-6aa7-4e62-aac1-3d5e26ec8a0b",
   "metadata": {},
   "outputs": [],
   "source": [
    "try: \n",
    "    # want to attempt this code but it may have an error\n",
    "    res = 10 + 10\n",
    "except: \n",
    "    print(\"Hey it looks like you aren't adding correctly\")"
   ]
  },
  {
   "cell_type": "code",
   "execution_count": 10,
   "id": "66bcabb3-ed6e-498e-989f-c423ba23b1bf",
   "metadata": {},
   "outputs": [
    {
     "data": {
      "text/plain": [
       "20"
      ]
     },
     "execution_count": 10,
     "metadata": {},
     "output_type": "execute_result"
    }
   ],
   "source": [
    "res"
   ]
  },
  {
   "cell_type": "code",
   "execution_count": 11,
   "id": "6e0a8ad1-e797-40ef-b2c0-de2c1771a048",
   "metadata": {},
   "outputs": [
    {
     "name": "stdout",
     "output_type": "stream",
     "text": [
      "Hey it looks like you aren't adding correctly\n"
     ]
    }
   ],
   "source": [
    "try: \n",
    "    # want to attempt this code but it may have an error\n",
    "    res = 10 + '10'\n",
    "except: \n",
    "    print(\"Hey it looks like you aren't adding correctly\")"
   ]
  },
  {
   "cell_type": "code",
   "execution_count": 14,
   "id": "532a2df1-8a0c-411e-9dae-f01d03f90b4d",
   "metadata": {},
   "outputs": [
    {
     "name": "stdout",
     "output_type": "stream",
     "text": [
      "Add went well\n",
      "20\n"
     ]
    }
   ],
   "source": [
    "try: \n",
    "    # want to attempt this code but it may have an error\n",
    "    res = 10 + 10\n",
    "except: \n",
    "    print(\"Hey it looks like you aren't adding correctly\")\n",
    "else:\n",
    "    print(\"Add went well\")\n",
    "    print(res)"
   ]
  },
  {
   "cell_type": "code",
   "execution_count": 15,
   "id": "a79c21d3-5e22-4070-8321-4fbc14da1f36",
   "metadata": {},
   "outputs": [
    {
     "name": "stdout",
     "output_type": "stream",
     "text": [
      "Add went well\n",
      "20\n",
      "Final block\n"
     ]
    }
   ],
   "source": [
    "try: \n",
    "    # want to attempt this code but it may have an error\n",
    "    res = 10 + 10\n",
    "except: \n",
    "    print(\"Hey it looks like you aren't adding correctly\")\n",
    "else:\n",
    "    print(\"Add went well\")\n",
    "    print(res)\n",
    "finally: \n",
    "    print(\"Final block\")"
   ]
  },
  {
   "cell_type": "code",
   "execution_count": 16,
   "id": "bcd7f1b3-db32-4008-b981-487d7ae9a8c4",
   "metadata": {},
   "outputs": [
    {
     "name": "stdout",
     "output_type": "stream",
     "text": [
      "Hey it looks like you aren't adding correctly\n",
      "Final block\n"
     ]
    }
   ],
   "source": [
    "try: \n",
    "    # want to attempt this code but it may have an error\n",
    "    res = 10 + '10'\n",
    "except: \n",
    "    print(\"Hey it looks like you aren't adding correctly\")\n",
    "else:\n",
    "    print(\"Add went well\")\n",
    "    print(res)\n",
    "finally: \n",
    "    print(\"Final block\")"
   ]
  },
  {
   "cell_type": "markdown",
   "id": "e59be61b-7ef6-4993-a007-e126710615e9",
   "metadata": {},
   "source": [
    "### Example 2: Writing to file"
   ]
  },
  {
   "cell_type": "code",
   "execution_count": 18,
   "id": "120c8fc1-fc87-444b-9bb0-efe4651a5a8c",
   "metadata": {},
   "outputs": [
    {
     "name": "stdout",
     "output_type": "stream",
     "text": [
      "Finally block always runs\n"
     ]
    }
   ],
   "source": [
    "try: \n",
    "    with open('testfile','w') as f: \n",
    "        f.write('Write a test line')\n",
    "    \n",
    "except TypeError: \n",
    "    print(\"There was a type error\")\n",
    "except OSError: \n",
    "    print(\"There was an OS error\")\n",
    "    \n",
    "finally: \n",
    "    print(\"Finally block always runs\")"
   ]
  },
  {
   "cell_type": "code",
   "execution_count": 20,
   "id": "08f75126-18e7-4fd1-8f7d-2d37026c6fd8",
   "metadata": {},
   "outputs": [
    {
     "name": "stdout",
     "output_type": "stream",
     "text": [
      "There was an OS error\n",
      "Finally block always runs\n"
     ]
    }
   ],
   "source": [
    "try: \n",
    "    with open('testfile','r') as f: \n",
    "        f.write('Write a test line')\n",
    "    \n",
    "except TypeError: \n",
    "    print(\"There was a type error\")\n",
    "except OSError: \n",
    "    print(\"There was an OS error\")\n",
    "except: \n",
    "    print(\"Catch-all exceptions\")\n",
    "    \n",
    "finally: \n",
    "    print(\"Finally block always runs\")"
   ]
  },
  {
   "cell_type": "markdown",
   "id": "56557c39-4b24-4226-b411-4848d7629a6f",
   "metadata": {},
   "source": [
    "### Example 3: Getting input from user"
   ]
  },
  {
   "cell_type": "code",
   "execution_count": 27,
   "id": "3fa73d33-a1cd-49f2-bf97-0eaae7694210",
   "metadata": {},
   "outputs": [],
   "source": [
    "def ask_for_int(): \n",
    "    try: \n",
    "        res = int(input(\"Please provide a number: \"))\n",
    "    except: \n",
    "        print('That is not a number!')\n",
    "    finally: \n",
    "        print('End of try, except, finally')"
   ]
  },
  {
   "cell_type": "code",
   "execution_count": 28,
   "id": "cb70ac3a-0278-4349-a2a6-f6255f3fc834",
   "metadata": {},
   "outputs": [
    {
     "name": "stdin",
     "output_type": "stream",
     "text": [
      "Please provide a number:  1\n"
     ]
    },
    {
     "name": "stdout",
     "output_type": "stream",
     "text": [
      "End of try, except, finally\n"
     ]
    }
   ],
   "source": [
    "ask_for_int()"
   ]
  },
  {
   "cell_type": "code",
   "execution_count": 29,
   "id": "9ac37b45-4a50-4682-88c1-f27b31e20b54",
   "metadata": {},
   "outputs": [
    {
     "name": "stdin",
     "output_type": "stream",
     "text": [
      "Please provide a number:  a\n"
     ]
    },
    {
     "name": "stdout",
     "output_type": "stream",
     "text": [
      "That is not a number!\n",
      "End of try, except, finally\n"
     ]
    }
   ],
   "source": [
    "ask_for_int()"
   ]
  },
  {
   "cell_type": "code",
   "execution_count": 30,
   "id": "aaf4a214-7468-4d95-97d2-82e769cde146",
   "metadata": {},
   "outputs": [],
   "source": [
    "# this version can cause a recursion error\n",
    "def ask_for_int(): \n",
    "    try: \n",
    "        res = int(input(\"Please provide a number: \"))\n",
    "    except: \n",
    "        print('That is not a number!')\n",
    "        ask_for_int()\n",
    "    finally: \n",
    "        print('End of try, except, finally')"
   ]
  },
  {
   "cell_type": "code",
   "execution_count": 31,
   "id": "0d33c9f0-aad6-4cf5-afe7-2bd4854129f7",
   "metadata": {},
   "outputs": [
    {
     "name": "stdin",
     "output_type": "stream",
     "text": [
      "Please provide a number:  a\n"
     ]
    },
    {
     "name": "stdout",
     "output_type": "stream",
     "text": [
      "That is not a number!\n"
     ]
    },
    {
     "name": "stdin",
     "output_type": "stream",
     "text": [
      "Please provide a number:  a\n"
     ]
    },
    {
     "name": "stdout",
     "output_type": "stream",
     "text": [
      "That is not a number!\n"
     ]
    },
    {
     "name": "stdin",
     "output_type": "stream",
     "text": [
      "Please provide a number:  a\n"
     ]
    },
    {
     "name": "stdout",
     "output_type": "stream",
     "text": [
      "That is not a number!\n"
     ]
    },
    {
     "name": "stdin",
     "output_type": "stream",
     "text": [
      "Please provide a number:  1\n"
     ]
    },
    {
     "name": "stdout",
     "output_type": "stream",
     "text": [
      "End of try, except, finally\n",
      "End of try, except, finally\n",
      "End of try, except, finally\n",
      "End of try, except, finally\n"
     ]
    }
   ],
   "source": [
    "ask_for_int()"
   ]
  },
  {
   "cell_type": "code",
   "execution_count": 33,
   "id": "7c0d646a-9834-4de9-a82b-c8810a7e3aaf",
   "metadata": {},
   "outputs": [],
   "source": [
    "def ask_for_int(): \n",
    "    while True: \n",
    "        try: \n",
    "            res = int(input(\"Please provide a number: \"))\n",
    "        except: \n",
    "            print('That is not a number!')\n",
    "        else: \n",
    "            print(f'Your number is {res}')\n",
    "            break\n",
    "        finally: \n",
    "            print('End of try, except, finally')"
   ]
  },
  {
   "cell_type": "code",
   "execution_count": 34,
   "id": "74cd92a7-4618-4749-904b-aee51b0c543f",
   "metadata": {},
   "outputs": [
    {
     "name": "stdin",
     "output_type": "stream",
     "text": [
      "Please provide a number:  a\n"
     ]
    },
    {
     "name": "stdout",
     "output_type": "stream",
     "text": [
      "That is not a number!\n",
      "End of try, except, finally\n"
     ]
    },
    {
     "name": "stdin",
     "output_type": "stream",
     "text": [
      "Please provide a number:  a\n"
     ]
    },
    {
     "name": "stdout",
     "output_type": "stream",
     "text": [
      "That is not a number!\n",
      "End of try, except, finally\n"
     ]
    },
    {
     "name": "stdin",
     "output_type": "stream",
     "text": [
      "Please provide a number:  a\n"
     ]
    },
    {
     "name": "stdout",
     "output_type": "stream",
     "text": [
      "That is not a number!\n",
      "End of try, except, finally\n"
     ]
    },
    {
     "name": "stdin",
     "output_type": "stream",
     "text": [
      "Please provide a number:  a\n"
     ]
    },
    {
     "name": "stdout",
     "output_type": "stream",
     "text": [
      "That is not a number!\n",
      "End of try, except, finally\n"
     ]
    },
    {
     "name": "stdin",
     "output_type": "stream",
     "text": [
      "Please provide a number:  1\n"
     ]
    },
    {
     "name": "stdout",
     "output_type": "stream",
     "text": [
      "Your number is 1\n",
      "End of try, except, finally\n"
     ]
    }
   ],
   "source": [
    "ask_for_int()"
   ]
  },
  {
   "cell_type": "code",
   "execution_count": null,
   "id": "38a4fb18-fec1-4818-83a6-1b978dea2698",
   "metadata": {},
   "outputs": [],
   "source": [
    "def ask_for_int(): \n",
    "    waiting = True\n",
    "    while waiting: \n",
    "        try: \n",
    "            res = int(input(\"Please provide a number: \"))\n",
    "        except: \n",
    "            print('That is not a number!')\n",
    "        else: \n",
    "            print(f'Your number is {res}')\n",
    "            waiting = False\n",
    "        finally: \n",
    "            print('End of try, except, finally')"
   ]
  }
 ],
 "metadata": {
  "kernelspec": {
   "display_name": "Python 3 (ipykernel)",
   "language": "python",
   "name": "python3"
  },
  "language_info": {
   "codemirror_mode": {
    "name": "ipython",
    "version": 3
   },
   "file_extension": ".py",
   "mimetype": "text/x-python",
   "name": "python",
   "nbconvert_exporter": "python",
   "pygments_lexer": "ipython3",
   "version": "3.9.6"
  }
 },
 "nbformat": 4,
 "nbformat_minor": 5
}
