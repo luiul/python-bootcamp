{
 "cells": [
  {
   "cell_type": "markdown",
   "id": "5bef27a8-cc24-4886-8e28-18b5a7dc10c5",
   "metadata": {},
   "source": [
    "# Decorators"
   ]
  },
  {
   "cell_type": "code",
   "execution_count": 6,
   "id": "4917af2b-3313-4fcf-80ac-93b9839793f1",
   "metadata": {},
   "outputs": [],
   "source": [
    "def wrapper(func): \n",
    "    def wrapped_func(): \n",
    "        print('Additional functionality before core func')\n",
    "        func()\n",
    "        print('Additional functionality after core func')\n",
    "    \n",
    "    return wrapped_func\n",
    "\n",
    "@wrapper\n",
    "def func(): \n",
    "    print('Core func')"
   ]
  },
  {
   "cell_type": "code",
   "execution_count": 7,
   "id": "6480f303-b074-4ab0-bf7c-3fa158cdf497",
   "metadata": {},
   "outputs": [
    {
     "name": "stdout",
     "output_type": "stream",
     "text": [
      "Additional functionality before core func\n",
      "Core func\n",
      "Additional functionality after core func\n"
     ]
    }
   ],
   "source": [
    "func()"
   ]
  },
  {
   "cell_type": "markdown",
   "id": "3b10dd3b-3f24-411d-9c24-468c1149cdb7",
   "metadata": {},
   "source": [
    "# Generators"
   ]
  },
  {
   "cell_type": "code",
   "execution_count": 2,
   "id": "edcb3ab1-8e87-4823-ad12-a15879a876fc",
   "metadata": {},
   "outputs": [],
   "source": [
    "def create_cubes(N): \n",
    "    cubes = []\n",
    "    for n in range(N):\n",
    "        cubes.append(n**3)\n",
    "    return cubes"
   ]
  },
  {
   "cell_type": "code",
   "execution_count": 4,
   "id": "dce262b6-4730-4c9d-9309-38ec520c91a1",
   "metadata": {},
   "outputs": [
    {
     "data": {
      "text/plain": [
       "[0, 1, 8, 27, 64, 125, 216, 343, 512, 729]"
      ]
     },
     "execution_count": 4,
     "metadata": {},
     "output_type": "execute_result"
    }
   ],
   "source": [
    "create_cubes(10)"
   ]
  },
  {
   "cell_type": "code",
   "execution_count": 5,
   "id": "c62c2639-cbdb-4169-a059-5e89da5d2a55",
   "metadata": {},
   "outputs": [
    {
     "name": "stdout",
     "output_type": "stream",
     "text": [
      "0\n",
      "1\n",
      "8\n",
      "27\n",
      "64\n",
      "125\n",
      "216\n",
      "343\n",
      "512\n",
      "729\n"
     ]
    }
   ],
   "source": [
    "for cube in create_cubes(10): \n",
    "    print(cube)"
   ]
  },
  {
   "cell_type": "code",
   "execution_count": 13,
   "id": "2b7545a7-d045-4bd8-b0ad-5afd09003a00",
   "metadata": {},
   "outputs": [],
   "source": [
    "def create_cubes(N): \n",
    "    for n in range(N):\n",
    "        yield n**3"
   ]
  },
  {
   "cell_type": "code",
   "execution_count": 14,
   "id": "f1b5f7e5-9d4c-4636-8b03-dd8aa58af40a",
   "metadata": {},
   "outputs": [
    {
     "data": {
      "text/plain": [
       "<generator object create_cubes at 0x102afec10>"
      ]
     },
     "execution_count": 14,
     "metadata": {},
     "output_type": "execute_result"
    }
   ],
   "source": [
    "create_cubes(10)"
   ]
  },
  {
   "cell_type": "code",
   "execution_count": 22,
   "id": "b69733a2-f451-4430-9e9f-22cc00dc5f04",
   "metadata": {},
   "outputs": [
    {
     "name": "stdout",
     "output_type": "stream",
     "text": [
      "0\n",
      "1\n",
      "8\n",
      "27\n",
      "64\n",
      "125\n",
      "216\n",
      "343\n",
      "512\n",
      "729\n"
     ]
    }
   ],
   "source": [
    "for cube in create_cubes(10): \n",
    "    print(cube)"
   ]
  },
  {
   "cell_type": "code",
   "execution_count": 43,
   "id": "1b83a68e-01a1-4cc0-87ba-22749c7a612d",
   "metadata": {},
   "outputs": [],
   "source": [
    "def fib(N): \n",
    "    c = 0 \n",
    "    n = 1\n",
    "    \n",
    "    for i in range(N): \n",
    "        yield c\n",
    "        c, n = n, c+n"
   ]
  },
  {
   "cell_type": "code",
   "execution_count": 44,
   "id": "00260ad3-a690-4087-9893-a1efc092c870",
   "metadata": {},
   "outputs": [
    {
     "data": {
      "text/plain": [
       "[0, 1, 1, 2, 3, 5, 8, 13, 21, 34]"
      ]
     },
     "execution_count": 44,
     "metadata": {},
     "output_type": "execute_result"
    }
   ],
   "source": [
    "list(fib(10))"
   ]
  },
  {
   "cell_type": "code",
   "execution_count": 45,
   "id": "fe3718e3-c99e-4b78-8be3-969c9b004dc7",
   "metadata": {},
   "outputs": [],
   "source": [
    "def gen(): \n",
    "    for i in range(3): \n",
    "        yield i "
   ]
  },
  {
   "cell_type": "code",
   "execution_count": 46,
   "id": "416621bc-9631-4d0b-9bdd-cab64e690575",
   "metadata": {},
   "outputs": [],
   "source": [
    "g = gen()"
   ]
  },
  {
   "cell_type": "code",
   "execution_count": 50,
   "id": "e50470ca-15a7-4bea-b25f-07263aae2ca8",
   "metadata": {},
   "outputs": [],
   "source": [
    "s = 'hello'"
   ]
  },
  {
   "cell_type": "code",
   "execution_count": 49,
   "id": "31d35b28-c8ad-4f7f-833b-551a74e071a0",
   "metadata": {},
   "outputs": [
    {
     "name": "stdout",
     "output_type": "stream",
     "text": [
      "h\n",
      "e\n",
      "l\n",
      "l\n",
      "o\n"
     ]
    }
   ],
   "source": [
    "for letter in s: \n",
    "    print(letter)"
   ]
  },
  {
   "cell_type": "code",
   "execution_count": 51,
   "id": "290de146-23c1-427e-b367-f1378f25083a",
   "metadata": {},
   "outputs": [
    {
     "ename": "TypeError",
     "evalue": "'str' object is not an iterator",
     "output_type": "error",
     "traceback": [
      "\u001b[0;31m---------------------------------------------------------------------------\u001b[0m",
      "\u001b[0;31mTypeError\u001b[0m                                 Traceback (most recent call last)",
      "\u001b[0;32m/var/folders/yq/lxkzwgxd39gbvyfxzc1vrvqr0000gn/T/ipykernel_72416/1977886155.py\u001b[0m in \u001b[0;36m<module>\u001b[0;34m\u001b[0m\n\u001b[0;32m----> 1\u001b[0;31m \u001b[0mnext\u001b[0m\u001b[0;34m(\u001b[0m\u001b[0ms\u001b[0m\u001b[0;34m)\u001b[0m\u001b[0;34m\u001b[0m\u001b[0;34m\u001b[0m\u001b[0m\n\u001b[0m",
      "\u001b[0;31mTypeError\u001b[0m: 'str' object is not an iterator"
     ]
    }
   ],
   "source": [
    "next(s)"
   ]
  },
  {
   "cell_type": "code",
   "execution_count": 52,
   "id": "304666f0-7885-4e2f-8888-32a695a32395",
   "metadata": {},
   "outputs": [],
   "source": [
    "s_iter = iter(s)"
   ]
  },
  {
   "cell_type": "code",
   "execution_count": 53,
   "id": "31a44af9-f424-445f-97d2-c6e75168fbea",
   "metadata": {},
   "outputs": [
    {
     "data": {
      "text/plain": [
       "'h'"
      ]
     },
     "execution_count": 53,
     "metadata": {},
     "output_type": "execute_result"
    }
   ],
   "source": [
    "next(s_iter)"
   ]
  },
  {
   "cell_type": "code",
   "execution_count": 54,
   "id": "23722b9d-034c-4569-bf3a-e32a7856f554",
   "metadata": {},
   "outputs": [
    {
     "name": "stdout",
     "output_type": "stream",
     "text": [
      "e\n",
      "l\n",
      "l\n",
      "o\n"
     ]
    }
   ],
   "source": [
    "for i in s_iter: \n",
    "    print(i)"
   ]
  },
  {
   "cell_type": "code",
   "execution_count": null,
   "id": "6d662b4b-21ec-4891-a0cd-02e864c46ce9",
   "metadata": {},
   "outputs": [],
   "source": []
  }
 ],
 "metadata": {
  "kernelspec": {
   "display_name": "Python 3 (ipykernel)",
   "language": "python",
   "name": "python3"
  },
  "language_info": {
   "codemirror_mode": {
    "name": "ipython",
    "version": 3
   },
   "file_extension": ".py",
   "mimetype": "text/x-python",
   "name": "python",
   "nbconvert_exporter": "python",
   "pygments_lexer": "ipython3",
   "version": "3.9.6"
  }
 },
 "nbformat": 4,
 "nbformat_minor": 5
}
