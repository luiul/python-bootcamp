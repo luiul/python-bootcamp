{
 "cells": [
  {
   "cell_type": "markdown",
   "id": "3433b757-a441-48c2-8e75-c4413ef7b7f9",
   "metadata": {},
   "source": [
    "# Collections"
   ]
  },
  {
   "cell_type": "markdown",
   "id": "c868ac3e-2237-44ba-9334-9bc0c128e3ce",
   "metadata": {},
   "source": [
    "## Counter"
   ]
  },
  {
   "cell_type": "code",
   "execution_count": 1,
   "id": "af77c119-41ed-473e-bb04-5c947c5eb0ba",
   "metadata": {},
   "outputs": [],
   "source": [
    "from collections import Counter"
   ]
  },
  {
   "cell_type": "code",
   "execution_count": 10,
   "id": "e29f5130-eb44-4846-b5e3-e123253de7bb",
   "metadata": {},
   "outputs": [],
   "source": [
    "# Task: count how many of each unique value are in the list\n",
    "L = [1,1,1,1,2,2,2,2,2,2,2,2,3,3,3,3,3,3,3,3,3,3]"
   ]
  },
  {
   "cell_type": "code",
   "execution_count": 11,
   "id": "2399d00f-f789-42f5-b425-14ddca728cba",
   "metadata": {},
   "outputs": [
    {
     "data": {
      "text/plain": [
       "Counter({1: 4, 2: 8, 3: 10})"
      ]
     },
     "execution_count": 11,
     "metadata": {},
     "output_type": "execute_result"
    }
   ],
   "source": [
    "Counter(L)"
   ]
  },
  {
   "cell_type": "code",
   "execution_count": 14,
   "id": "8cedfe90-5830-4621-a276-2ea0aed0d6ae",
   "metadata": {},
   "outputs": [],
   "source": [
    "s = \"This is the task: How many times does each word repeat in the sentence: The sentence is this\""
   ]
  },
  {
   "cell_type": "code",
   "execution_count": 16,
   "id": "f8092421-fe26-4aa7-bbce-f2800b656cf4",
   "metadata": {},
   "outputs": [],
   "source": [
    "s_split = s.split()"
   ]
  },
  {
   "cell_type": "code",
   "execution_count": 17,
   "id": "8a7d5e77-c1d9-4801-89b9-a1322ec6bc01",
   "metadata": {},
   "outputs": [
    {
     "data": {
      "text/plain": [
       "Counter({'This': 1,\n",
       "         'is': 2,\n",
       "         'the': 2,\n",
       "         'task:': 1,\n",
       "         'How': 1,\n",
       "         'many': 1,\n",
       "         'times': 1,\n",
       "         'does': 1,\n",
       "         'each': 1,\n",
       "         'word': 1,\n",
       "         'repeat': 1,\n",
       "         'in': 1,\n",
       "         'sentence:': 1,\n",
       "         'The': 1,\n",
       "         'sentence': 1,\n",
       "         'this': 1})"
      ]
     },
     "execution_count": 17,
     "metadata": {},
     "output_type": "execute_result"
    }
   ],
   "source": [
    "Counter(s_split)"
   ]
  },
  {
   "cell_type": "code",
   "execution_count": 19,
   "id": "71ce4383-344e-48d1-9c45-50f2abc2cf38",
   "metadata": {},
   "outputs": [
    {
     "data": {
      "text/plain": [
       "Counter({'this': 2,\n",
       "         'is': 2,\n",
       "         'the': 3,\n",
       "         'task:': 1,\n",
       "         'how': 1,\n",
       "         'many': 1,\n",
       "         'times': 1,\n",
       "         'does': 1,\n",
       "         'each': 1,\n",
       "         'word': 1,\n",
       "         'repeat': 1,\n",
       "         'in': 1,\n",
       "         'sentence:': 1,\n",
       "         'sentence': 1})"
      ]
     },
     "execution_count": 19,
     "metadata": {},
     "output_type": "execute_result"
    }
   ],
   "source": [
    "Counter(s.lower().split())"
   ]
  },
  {
   "cell_type": "code",
   "execution_count": 20,
   "id": "5cb4a8cc-eb96-45e9-a6d6-21a5f263b249",
   "metadata": {},
   "outputs": [],
   "source": [
    "letters = 'aaaaaaaaaaaaabbbbbbbbbbccccccddddd'"
   ]
  },
  {
   "cell_type": "code",
   "execution_count": 21,
   "id": "00288887-8f44-4a5c-a353-c943bd885dc1",
   "metadata": {},
   "outputs": [],
   "source": [
    "c = Counter(letters)"
   ]
  },
  {
   "cell_type": "code",
   "execution_count": 22,
   "id": "f6cdea02-8b17-47e4-a14d-b4b23da7e0c5",
   "metadata": {},
   "outputs": [
    {
     "data": {
      "text/plain": [
       "[('a', 13), ('b', 10), ('c', 6), ('d', 5)]"
      ]
     },
     "execution_count": 22,
     "metadata": {},
     "output_type": "execute_result"
    }
   ],
   "source": [
    "c.most_common()"
   ]
  },
  {
   "cell_type": "markdown",
   "id": "fda81a4a-b1fc-4c01-ba58-0548c21b3199",
   "metadata": {},
   "source": [
    "## Default Dictionary"
   ]
  },
  {
   "cell_type": "code",
   "execution_count": 37,
   "id": "ab4a0a83-8357-4711-914a-dc2bdeb51ed0",
   "metadata": {},
   "outputs": [],
   "source": [
    "from collections import defaultdict"
   ]
  },
  {
   "cell_type": "code",
   "execution_count": 38,
   "id": "a5b2c63c-9688-4d86-8340-88d702618017",
   "metadata": {},
   "outputs": [],
   "source": [
    "d = defaultdict(lambda: 0)"
   ]
  },
  {
   "cell_type": "code",
   "execution_count": 40,
   "id": "e7e1a1b1-3fdc-4d15-849a-c521fb60728a",
   "metadata": {},
   "outputs": [
    {
     "data": {
      "text/plain": [
       "0"
      ]
     },
     "execution_count": 40,
     "metadata": {},
     "output_type": "execute_result"
    }
   ],
   "source": [
    "d['1']"
   ]
  },
  {
   "cell_type": "markdown",
   "id": "32ba0ce0-bb21-4705-a0d3-2a749d6dd720",
   "metadata": {},
   "source": [
    "## Named Tuple"
   ]
  },
  {
   "cell_type": "code",
   "execution_count": 41,
   "id": "34ddd71a-39a2-40fc-bb35-1ef8ed1185fd",
   "metadata": {},
   "outputs": [],
   "source": [
    "t = (10,20,30)"
   ]
  },
  {
   "cell_type": "code",
   "execution_count": 42,
   "id": "8fca9484-de91-465c-99e8-16ebe27927a0",
   "metadata": {},
   "outputs": [
    {
     "data": {
      "text/plain": [
       "10"
      ]
     },
     "execution_count": 42,
     "metadata": {},
     "output_type": "execute_result"
    }
   ],
   "source": [
    "t[0]"
   ]
  },
  {
   "cell_type": "code",
   "execution_count": 43,
   "id": "b033fb94-7cc8-4071-864c-9de136759658",
   "metadata": {},
   "outputs": [],
   "source": [
    "from collections import namedtuple"
   ]
  },
  {
   "cell_type": "code",
   "execution_count": 44,
   "id": "0359ef0b-88df-45b8-a0cc-79920f466dc1",
   "metadata": {},
   "outputs": [],
   "source": [
    "Dog = namedtuple(\"Dog\",[\"age\",\"breed\",\"name\"])"
   ]
  },
  {
   "cell_type": "code",
   "execution_count": 45,
   "id": "e0faca7e-b140-48ea-be8b-41db310c38f8",
   "metadata": {},
   "outputs": [
    {
     "data": {
      "text/plain": [
       "__main__.Dog"
      ]
     },
     "execution_count": 45,
     "metadata": {},
     "output_type": "execute_result"
    }
   ],
   "source": [
    "Dog"
   ]
  },
  {
   "cell_type": "code",
   "execution_count": 46,
   "id": "1b49c36b-49b0-49a6-a269-0ff7b1be9c2d",
   "metadata": {},
   "outputs": [],
   "source": [
    "sammy = Dog(5,\"Husky\",\"Sam\")"
   ]
  },
  {
   "cell_type": "code",
   "execution_count": 47,
   "id": "ba6c14b8-18c8-46a4-8670-c346a9c7319d",
   "metadata": {},
   "outputs": [
    {
     "data": {
      "text/plain": [
       "Dog(age=5, breed='Husky', name='Sam')"
      ]
     },
     "execution_count": 47,
     "metadata": {},
     "output_type": "execute_result"
    }
   ],
   "source": [
    "sammy"
   ]
  },
  {
   "cell_type": "code",
   "execution_count": 48,
   "id": "d9c67c2c-6dce-4e5c-bab3-2966a48a3d84",
   "metadata": {},
   "outputs": [
    {
     "data": {
      "text/plain": [
       "5"
      ]
     },
     "execution_count": 48,
     "metadata": {},
     "output_type": "execute_result"
    }
   ],
   "source": [
    "sammy.age"
   ]
  },
  {
   "cell_type": "code",
   "execution_count": 49,
   "id": "775ea7cf-327d-4f78-9121-1e9f396c5209",
   "metadata": {},
   "outputs": [
    {
     "data": {
      "text/plain": [
       "5"
      ]
     },
     "execution_count": 49,
     "metadata": {},
     "output_type": "execute_result"
    }
   ],
   "source": [
    "sammy[0]"
   ]
  },
  {
   "cell_type": "markdown",
   "id": "805f3b28-7662-4b60-b91e-1cca63850e95",
   "metadata": {},
   "source": [
    "## Shutil and OS"
   ]
  },
  {
   "cell_type": "code",
   "execution_count": 1,
   "id": "7dcb5fea-df47-4c77-a1c7-e0b805f02467",
   "metadata": {},
   "outputs": [
    {
     "data": {
      "text/plain": [
       "'/Users/aceituno/Desktop/projects/ws2122/python-bootcamp/course-nb'"
      ]
     },
     "execution_count": 1,
     "metadata": {},
     "output_type": "execute_result"
    }
   ],
   "source": [
    "pwd "
   ]
  },
  {
   "cell_type": "code",
   "execution_count": 2,
   "id": "a4fa6109-fea9-4b69-add5-021d1b89f041",
   "metadata": {},
   "outputs": [],
   "source": [
    "import os "
   ]
  },
  {
   "cell_type": "code",
   "execution_count": 3,
   "id": "1980f1de-6528-46d1-8e64-76b7fee2d249",
   "metadata": {},
   "outputs": [
    {
     "data": {
      "text/plain": [
       "'/Users/aceituno/Desktop/projects/ws2122/python-bootcamp/course-nb'"
      ]
     },
     "execution_count": 3,
     "metadata": {},
     "output_type": "execute_result"
    }
   ],
   "source": [
    "os.getcwd()"
   ]
  },
  {
   "cell_type": "code",
   "execution_count": 4,
   "id": "90765306-af7e-4e49-9191-11bba8f12be6",
   "metadata": {},
   "outputs": [
    {
     "data": {
      "text/plain": [
       "['1-statements.ipynb',\n",
       " 'myfile_readmode.md',\n",
       " '6-error-handling.ipynb',\n",
       " '0-datatypes-misc.ipynb',\n",
       " '9-modules.ipynb',\n",
       " '7-milestone-project.ipynb',\n",
       " '4-milestone1.ipynb',\n",
       " '5-oop.ipynb',\n",
       " '0-example.py',\n",
       " '.ipynb_checkpoints',\n",
       " '3-prep-ms-p.ipynb',\n",
       " 'codility.ipynb',\n",
       " '2-methods-functions.ipynb',\n",
       " 'testfile',\n",
       " '8-decorators-generators.ipynb',\n",
       " 'myfile.md']"
      ]
     },
     "execution_count": 4,
     "metadata": {},
     "output_type": "execute_result"
    }
   ],
   "source": [
    "os.listdir()"
   ]
  },
  {
   "cell_type": "code",
   "execution_count": 6,
   "id": "0fd59a3c-9432-499b-b219-ce4a2bf0e5dd",
   "metadata": {},
   "outputs": [
    {
     "data": {
      "text/plain": [
       "['1-statements.ipynb',\n",
       " 'myfile_readmode.md',\n",
       " '6-error-handling.ipynb',\n",
       " '0-datatypes-misc.ipynb',\n",
       " '9-modules.ipynb',\n",
       " '7-milestone-project.ipynb',\n",
       " '4-milestone1.ipynb',\n",
       " '5-oop.ipynb',\n",
       " '0-example.py',\n",
       " '.ipynb_checkpoints',\n",
       " '3-prep-ms-p.ipynb',\n",
       " 'codility.ipynb',\n",
       " '2-methods-functions.ipynb',\n",
       " 'testfile',\n",
       " '8-decorators-generators.ipynb',\n",
       " 'myfile.md']"
      ]
     },
     "execution_count": 6,
     "metadata": {},
     "output_type": "execute_result"
    }
   ],
   "source": [
    "os.listdir(\"./\")"
   ]
  },
  {
   "cell_type": "code",
   "execution_count": 10,
   "id": "c8b3fb32-e76a-4237-8f96-bd7239be468d",
   "metadata": {},
   "outputs": [
    {
     "data": {
      "text/plain": [
       "['modules-and-packages',\n",
       " 'pylint',\n",
       " '.DS_Store',\n",
       " 'name-and-main',\n",
       " 'unit-test',\n",
       " 'README.md',\n",
       " '.gitignore',\n",
       " '.ipynb_checkpoints',\n",
       " '.git',\n",
       " '.vscode',\n",
       " 'course-nb',\n",
       " 'material']"
      ]
     },
     "execution_count": 10,
     "metadata": {},
     "output_type": "execute_result"
    }
   ],
   "source": [
    "os.listdir(\"../\")"
   ]
  },
  {
   "cell_type": "code",
   "execution_count": 11,
   "id": "bdb08a2e-826a-4b46-a90a-d6d57731fd83",
   "metadata": {},
   "outputs": [],
   "source": [
    "import shutil "
   ]
  },
  {
   "cell_type": "code",
   "execution_count": 12,
   "id": "50052bf6-26f9-4cce-b78f-0c4b5317e68d",
   "metadata": {},
   "outputs": [],
   "source": [
    "# shutil.move(src, dst)"
   ]
  },
  {
   "cell_type": "code",
   "execution_count": 13,
   "id": "faba0dde-0a12-4ede-aa4d-a9d9edee8f7d",
   "metadata": {},
   "outputs": [],
   "source": [
    "# deleting file\n",
    "import send2trash"
   ]
  },
  {
   "cell_type": "code",
   "execution_count": 16,
   "id": "75a4f866-97bd-4424-b139-caae5fdea230",
   "metadata": {},
   "outputs": [
    {
     "data": {
      "text/plain": [
       "['1-statements.ipynb',\n",
       " 'myfile_readmode.md',\n",
       " '6-error-handling.ipynb',\n",
       " '0-datatypes-misc.ipynb',\n",
       " '9-modules.ipynb',\n",
       " '7-milestone-project.ipynb',\n",
       " '4-milestone1.ipynb',\n",
       " '5-oop.ipynb',\n",
       " '0-example.py',\n",
       " '.ipynb_checkpoints',\n",
       " '3-prep-ms-p.ipynb',\n",
       " 'codility.ipynb',\n",
       " 'test.md',\n",
       " '2-methods-functions.ipynb',\n",
       " 'testfile',\n",
       " '8-decorators-generators.ipynb',\n",
       " 'myfile.md']"
      ]
     },
     "execution_count": 16,
     "metadata": {},
     "output_type": "execute_result"
    }
   ],
   "source": [
    "os.listdir()"
   ]
  },
  {
   "cell_type": "code",
   "execution_count": 17,
   "id": "417f4f5e-8447-4961-9ce1-ae9e524de97a",
   "metadata": {},
   "outputs": [
    {
     "data": {
      "text/plain": [
       "'../test.md'"
      ]
     },
     "execution_count": 17,
     "metadata": {},
     "output_type": "execute_result"
    }
   ],
   "source": [
    "shutil.move('test.md','../')"
   ]
  },
  {
   "cell_type": "code",
   "execution_count": 18,
   "id": "17cea7aa-d652-4303-a0a9-943122990547",
   "metadata": {},
   "outputs": [
    {
     "data": {
      "text/plain": [
       "['modules-and-packages',\n",
       " 'pylint',\n",
       " '.DS_Store',\n",
       " 'name-and-main',\n",
       " 'unit-test',\n",
       " 'README.md',\n",
       " '.gitignore',\n",
       " '.ipynb_checkpoints',\n",
       " '.git',\n",
       " '.vscode',\n",
       " 'course-nb',\n",
       " 'test.md',\n",
       " 'material']"
      ]
     },
     "execution_count": 18,
     "metadata": {},
     "output_type": "execute_result"
    }
   ],
   "source": [
    "os.listdir('../')"
   ]
  },
  {
   "cell_type": "code",
   "execution_count": 20,
   "id": "59826317-c15f-4673-8ad7-d067e58801c8",
   "metadata": {},
   "outputs": [
    {
     "data": {
      "text/plain": [
       "'./test.md'"
      ]
     },
     "execution_count": 20,
     "metadata": {},
     "output_type": "execute_result"
    }
   ],
   "source": [
    "shutil.move('../test.md','.')"
   ]
  },
  {
   "cell_type": "code",
   "execution_count": 21,
   "id": "68d231b9-6b7b-4371-a7cb-b0934d4cdff5",
   "metadata": {},
   "outputs": [],
   "source": [
    "send2trash.send2trash('test.md')"
   ]
  },
  {
   "cell_type": "code",
   "execution_count": 27,
   "id": "3635598d-8476-4db9-94e5-67d5579c8ed2",
   "metadata": {},
   "outputs": [
    {
     "name": "stdout",
     "output_type": "stream",
     "text": [
      "Currently looking at Directory: .\n",
      "\n",
      "The Subdirectories are:\n",
      "Subdirectory: .ipynb_checkpoints\n",
      "\n",
      "\n",
      "The Files are: \n",
      "File: 1-statements.ipynb\n",
      "File: myfile_readmode.md\n",
      "File: 6-error-handling.ipynb\n",
      "File: 0-datatypes-misc.ipynb\n",
      "File: 9-modules.ipynb\n",
      "File: 7-milestone-project.ipynb\n",
      "File: 4-milestone1.ipynb\n",
      "File: 5-oop.ipynb\n",
      "File: 0-example.py\n",
      "File: 3-prep-ms-p.ipynb\n",
      "File: codility.ipynb\n",
      "File: 2-methods-functions.ipynb\n",
      "File: testfile\n",
      "File: 8-decorators-generators.ipynb\n",
      "File: myfile.md\n",
      "\n",
      "\n",
      "Currently looking at Directory: ./.ipynb_checkpoints\n",
      "\n",
      "The Subdirectories are:\n",
      "\n",
      "\n",
      "The Files are: \n",
      "File: codility-checkpoint.ipynb\n",
      "File: 6-error-handling-checkpoint.ipynb\n",
      "File: 7-milestone-project-checkpoint.ipynb\n",
      "File: 8-decorators-generators-checkpoint.ipynb\n",
      "File: 1-statements-checkpoint.ipynb\n",
      "File: 0-datatypes-misc-checkpoint.ipynb\n",
      "File: 9-modules-checkpoint.ipynb\n",
      "File: 2-methods-functions-checkpoint.ipynb\n",
      "File: 3-prep-ms-p-checkpoint.ipynb\n",
      "File: 0-example-checkpoint.py\n",
      "File: 5-oop-checkpoint.ipynb\n",
      "File: 4-milestone1-checkpoint.ipynb\n",
      "\n",
      "\n"
     ]
    }
   ],
   "source": [
    "for folder, sub_folder, files in os.walk('.'): \n",
    "    print(f\"Currently looking at Directory: {folder}\\n\")\n",
    "    print(\"The Subdirectories are:\")\n",
    "    for sub in sub_folder: \n",
    "        print(f\"Subdirectory: {sub}\")\n",
    "    print(\"\\n\")\n",
    "    print(\"The Files are: \")\n",
    "    for f in files: \n",
    "        print(f\"File: {f}\")\n",
    "    print(\"\\n\")"
   ]
  },
  {
   "cell_type": "markdown",
   "id": "2777a7ea-9255-45df-907e-b8b5a2709516",
   "metadata": {},
   "source": [
    "## Datetime"
   ]
  },
  {
   "cell_type": "code",
   "execution_count": 28,
   "id": "05454256-df1d-4e33-b3d0-af820c1dcc51",
   "metadata": {},
   "outputs": [],
   "source": [
    "import datetime"
   ]
  },
  {
   "cell_type": "code",
   "execution_count": 32,
   "id": "f419bb40-eeaf-40d6-ad0f-af41c5ff53f5",
   "metadata": {},
   "outputs": [],
   "source": [
    "t = datetime.time(2,20)"
   ]
  },
  {
   "cell_type": "code",
   "execution_count": 35,
   "id": "b214b269-b155-42d3-b0e3-56c86bcca32b",
   "metadata": {},
   "outputs": [
    {
     "data": {
      "text/plain": [
       "20"
      ]
     },
     "execution_count": 35,
     "metadata": {},
     "output_type": "execute_result"
    }
   ],
   "source": [
    "t.minute"
   ]
  },
  {
   "cell_type": "code",
   "execution_count": 36,
   "id": "7369ecfb-4c6d-49ed-b04e-0dc3fface0e2",
   "metadata": {},
   "outputs": [
    {
     "data": {
      "text/plain": [
       "2"
      ]
     },
     "execution_count": 36,
     "metadata": {},
     "output_type": "execute_result"
    }
   ],
   "source": [
    "t.hour"
   ]
  },
  {
   "cell_type": "code",
   "execution_count": 37,
   "id": "a8dda4b5-9830-4e58-ac46-07f3cb2e9a6d",
   "metadata": {},
   "outputs": [
    {
     "name": "stdout",
     "output_type": "stream",
     "text": [
      "02:20:00\n"
     ]
    }
   ],
   "source": [
    "print(t)"
   ]
  },
  {
   "cell_type": "code",
   "execution_count": 38,
   "id": "941c5919-c476-4e3e-8747-79134b3804ba",
   "metadata": {},
   "outputs": [],
   "source": [
    "today = datetime.date.today()"
   ]
  },
  {
   "cell_type": "code",
   "execution_count": 40,
   "id": "00b0af86-d4ed-417d-99ba-8a45713d1d08",
   "metadata": {},
   "outputs": [
    {
     "name": "stdout",
     "output_type": "stream",
     "text": [
      "2022-01-08\n"
     ]
    }
   ],
   "source": [
    "print(today)"
   ]
  },
  {
   "cell_type": "code",
   "execution_count": 42,
   "id": "fed3e3ee-3892-4280-8344-026684d96a0a",
   "metadata": {},
   "outputs": [
    {
     "data": {
      "text/plain": [
       "'Sat Jan  8 00:00:00 2022'"
      ]
     },
     "execution_count": 42,
     "metadata": {},
     "output_type": "execute_result"
    }
   ],
   "source": [
    "today.ctime()"
   ]
  },
  {
   "cell_type": "code",
   "execution_count": 44,
   "id": "6e3e299a-befc-4eb3-aef9-16df7a538c74",
   "metadata": {},
   "outputs": [],
   "source": [
    "from datetime import datetime"
   ]
  },
  {
   "cell_type": "code",
   "execution_count": 67,
   "id": "7ff4feb7-592f-4976-9085-839fadd3cde6",
   "metadata": {},
   "outputs": [],
   "source": [
    "d = datetime(2022,1,8,12,20,1)"
   ]
  },
  {
   "cell_type": "code",
   "execution_count": 68,
   "id": "545571ea-8090-47c1-a0ca-b57ed021d65e",
   "metadata": {},
   "outputs": [
    {
     "name": "stdout",
     "output_type": "stream",
     "text": [
      "2022-01-08 12:20:01\n"
     ]
    }
   ],
   "source": [
    "print(d)"
   ]
  },
  {
   "cell_type": "code",
   "execution_count": 69,
   "id": "9735900a-f1cc-40e9-baca-e088ecbec9d6",
   "metadata": {},
   "outputs": [],
   "source": [
    "d2 = d.replace(year=2021,hour=11,minute=10)"
   ]
  },
  {
   "cell_type": "code",
   "execution_count": 70,
   "id": "7ec3ec5a-2e94-49d0-a094-288776639179",
   "metadata": {},
   "outputs": [
    {
     "name": "stdout",
     "output_type": "stream",
     "text": [
      "2021-01-08 11:10:01\n"
     ]
    }
   ],
   "source": [
    "print(d2)"
   ]
  },
  {
   "cell_type": "code",
   "execution_count": 73,
   "id": "dadcb3a3-d01b-4013-b273-5fd757fec6cc",
   "metadata": {},
   "outputs": [],
   "source": [
    "delta = d-d2"
   ]
  },
  {
   "cell_type": "code",
   "execution_count": 82,
   "id": "acc2f27b-4f0a-4ee4-b429-810fc772ce8d",
   "metadata": {},
   "outputs": [
    {
     "data": {
      "text/plain": [
       "datetime.timedelta(days=365, seconds=4200)"
      ]
     },
     "execution_count": 82,
     "metadata": {},
     "output_type": "execute_result"
    }
   ],
   "source": [
    "delta"
   ]
  },
  {
   "cell_type": "code",
   "execution_count": 74,
   "id": "26f4d134-735b-467e-88ff-4ca5733c1cb5",
   "metadata": {},
   "outputs": [
    {
     "data": {
      "text/plain": [
       "datetime.timedelta"
      ]
     },
     "execution_count": 74,
     "metadata": {},
     "output_type": "execute_result"
    }
   ],
   "source": [
    "type(delta)"
   ]
  },
  {
   "cell_type": "code",
   "execution_count": 75,
   "id": "073bc105-0bad-42ff-94de-c636b1297454",
   "metadata": {},
   "outputs": [
    {
     "name": "stdout",
     "output_type": "stream",
     "text": [
      "365 days, 1:10:00\n"
     ]
    }
   ],
   "source": [
    "print(d-d2)"
   ]
  },
  {
   "cell_type": "markdown",
   "id": "e5d6f9bc-8c89-415e-ad74-23bdf8ac1310",
   "metadata": {},
   "source": [
    "## Math and Random"
   ]
  },
  {
   "cell_type": "code",
   "execution_count": 86,
   "id": "8d95ab5c-0478-4bb7-a4c6-b0e39320da5e",
   "metadata": {},
   "outputs": [],
   "source": [
    "import math"
   ]
  },
  {
   "cell_type": "code",
   "execution_count": 100,
   "id": "c51cda7d-5283-4d7c-a4e6-b2b512ecc4fc",
   "metadata": {},
   "outputs": [],
   "source": [
    "v = 4.35"
   ]
  },
  {
   "cell_type": "code",
   "execution_count": 101,
   "id": "8efa5151-3ee8-42ae-9ecc-4a3241048a31",
   "metadata": {},
   "outputs": [
    {
     "data": {
      "text/plain": [
       "4"
      ]
     },
     "execution_count": 101,
     "metadata": {},
     "output_type": "execute_result"
    }
   ],
   "source": [
    "math.floor(v)"
   ]
  },
  {
   "cell_type": "code",
   "execution_count": 102,
   "id": "a5b64956-0f3c-499d-8eb8-8597afac0d4e",
   "metadata": {},
   "outputs": [
    {
     "data": {
      "text/plain": [
       "5"
      ]
     },
     "execution_count": 102,
     "metadata": {},
     "output_type": "execute_result"
    }
   ],
   "source": [
    "math.ceil(v)"
   ]
  },
  {
   "cell_type": "code",
   "execution_count": 103,
   "id": "ae64d3e8-c80c-4c86-a309-0be76d94a613",
   "metadata": {},
   "outputs": [
    {
     "data": {
      "text/plain": [
       "4"
      ]
     },
     "execution_count": 103,
     "metadata": {},
     "output_type": "execute_result"
    }
   ],
   "source": [
    "round(v)"
   ]
  },
  {
   "cell_type": "code",
   "execution_count": 104,
   "id": "59e4f1fa-8e04-436c-a620-e93a3d8dcde9",
   "metadata": {},
   "outputs": [
    {
     "data": {
      "text/plain": [
       "4"
      ]
     },
     "execution_count": 104,
     "metadata": {},
     "output_type": "execute_result"
    }
   ],
   "source": [
    "round(4.5)"
   ]
  },
  {
   "cell_type": "code",
   "execution_count": 105,
   "id": "e63f8224-17b1-4710-b83a-d09b94c7af6c",
   "metadata": {},
   "outputs": [
    {
     "data": {
      "text/plain": [
       "6"
      ]
     },
     "execution_count": 105,
     "metadata": {},
     "output_type": "execute_result"
    }
   ],
   "source": [
    "round(5.5)"
   ]
  },
  {
   "cell_type": "code",
   "execution_count": 106,
   "id": "29d45ac4-bc7a-41b7-b07f-fada8addca3f",
   "metadata": {},
   "outputs": [
    {
     "data": {
      "text/plain": [
       "3.141592653589793"
      ]
     },
     "execution_count": 106,
     "metadata": {},
     "output_type": "execute_result"
    }
   ],
   "source": [
    "math.pi"
   ]
  },
  {
   "cell_type": "code",
   "execution_count": 107,
   "id": "a2833c3f-186f-4615-9432-48331d621896",
   "metadata": {},
   "outputs": [
    {
     "data": {
      "text/plain": [
       "2.718281828459045"
      ]
     },
     "execution_count": 107,
     "metadata": {},
     "output_type": "execute_result"
    }
   ],
   "source": [
    "math.e"
   ]
  },
  {
   "cell_type": "code",
   "execution_count": 108,
   "id": "5abae64b-7b8a-408a-87ad-76fa68cd7f3c",
   "metadata": {},
   "outputs": [
    {
     "data": {
      "text/plain": [
       "inf"
      ]
     },
     "execution_count": 108,
     "metadata": {},
     "output_type": "execute_result"
    }
   ],
   "source": [
    "math.inf"
   ]
  },
  {
   "cell_type": "code",
   "execution_count": 109,
   "id": "ba4b191c-32b3-43f5-a48b-8e74b2146f3f",
   "metadata": {},
   "outputs": [
    {
     "data": {
      "text/plain": [
       "nan"
      ]
     },
     "execution_count": 109,
     "metadata": {},
     "output_type": "execute_result"
    }
   ],
   "source": [
    "math.nan"
   ]
  },
  {
   "cell_type": "code",
   "execution_count": 111,
   "id": "0b4d3271-9f09-4e3a-8c8d-7fb069e5013d",
   "metadata": {},
   "outputs": [
    {
     "data": {
      "text/plain": [
       "1.0"
      ]
     },
     "execution_count": 111,
     "metadata": {},
     "output_type": "execute_result"
    }
   ],
   "source": [
    "math.log(math.e)"
   ]
  },
  {
   "cell_type": "code",
   "execution_count": 113,
   "id": "3a070e9f-c669-432e-819a-9f1dad6337c5",
   "metadata": {},
   "outputs": [
    {
     "data": {
      "text/plain": [
       "2.0"
      ]
     },
     "execution_count": 113,
     "metadata": {},
     "output_type": "execute_result"
    }
   ],
   "source": [
    "math.log(100,10)"
   ]
  },
  {
   "cell_type": "code",
   "execution_count": 122,
   "id": "6ada53d8-dbda-426c-a54e-a1b9b9c63d30",
   "metadata": {},
   "outputs": [
    {
     "data": {
      "text/plain": [
       "-1.0"
      ]
     },
     "execution_count": 122,
     "metadata": {},
     "output_type": "execute_result"
    }
   ],
   "source": [
    "math.cos(math.pi)"
   ]
  },
  {
   "cell_type": "code",
   "execution_count": 124,
   "id": "6cdb302c-b319-4ce6-b0b8-836b56f4c0f6",
   "metadata": {},
   "outputs": [
    {
     "data": {
      "text/plain": [
       "180.0"
      ]
     },
     "execution_count": 124,
     "metadata": {},
     "output_type": "execute_result"
    }
   ],
   "source": [
    "math.degrees(math.pi)"
   ]
  },
  {
   "cell_type": "code",
   "execution_count": 125,
   "id": "c84264ea-6aa0-41a3-bf54-4bd7fa5420f0",
   "metadata": {},
   "outputs": [
    {
     "data": {
      "text/plain": [
       "3.141592653589793"
      ]
     },
     "execution_count": 125,
     "metadata": {},
     "output_type": "execute_result"
    }
   ],
   "source": [
    "math.radians(180)"
   ]
  },
  {
   "cell_type": "code",
   "execution_count": 126,
   "id": "06a4b551-cb19-4bd3-b125-76d78cc5aacc",
   "metadata": {},
   "outputs": [],
   "source": [
    "import random"
   ]
  },
  {
   "cell_type": "code",
   "execution_count": 136,
   "id": "4ed28f28-641e-45c8-bddc-412034e1e07b",
   "metadata": {},
   "outputs": [
    {
     "data": {
      "text/plain": [
       "8"
      ]
     },
     "execution_count": 136,
     "metadata": {},
     "output_type": "execute_result"
    }
   ],
   "source": [
    "random.randint(1,10)"
   ]
  },
  {
   "cell_type": "code",
   "execution_count": 150,
   "id": "97494b4f-71c2-493b-bcf4-5d3988cde6b5",
   "metadata": {},
   "outputs": [
    {
     "data": {
      "text/plain": [
       "81"
      ]
     },
     "execution_count": 150,
     "metadata": {},
     "output_type": "execute_result"
    }
   ],
   "source": [
    "random.seed(42)\n",
    "\n",
    "random.randint(0,100)"
   ]
  },
  {
   "cell_type": "code",
   "execution_count": 151,
   "id": "4d5fea20-c38c-4fde-a632-14f71799ac3a",
   "metadata": {},
   "outputs": [
    {
     "data": {
      "text/plain": [
       "14"
      ]
     },
     "execution_count": 151,
     "metadata": {},
     "output_type": "execute_result"
    }
   ],
   "source": [
    "random.randint(0,100)"
   ]
  },
  {
   "cell_type": "code",
   "execution_count": 152,
   "id": "ee3d09a6-9388-4f42-89f1-7f4084bade9b",
   "metadata": {},
   "outputs": [
    {
     "data": {
      "text/plain": [
       "3"
      ]
     },
     "execution_count": 152,
     "metadata": {},
     "output_type": "execute_result"
    }
   ],
   "source": [
    "random.randint(0,100)"
   ]
  },
  {
   "cell_type": "code",
   "execution_count": 154,
   "id": "1aab6707-d64d-45a7-9882-976e6ff27fd2",
   "metadata": {},
   "outputs": [
    {
     "name": "stdout",
     "output_type": "stream",
     "text": [
      "81\n",
      "14\n",
      "3\n"
     ]
    }
   ],
   "source": [
    "random.seed(42)\n",
    "print(random.randint(0,100))\n",
    "print(random.randint(0,100))\n",
    "print(random.randint(0,100))"
   ]
  },
  {
   "cell_type": "code",
   "execution_count": 156,
   "id": "5f727a91-06d0-4dd1-8778-ac7305624bb4",
   "metadata": {},
   "outputs": [],
   "source": [
    "l = list(range(0,20))"
   ]
  },
  {
   "cell_type": "code",
   "execution_count": 157,
   "id": "836a3fec-5f3f-442c-9b1c-11305f570345",
   "metadata": {},
   "outputs": [
    {
     "data": {
      "text/plain": [
       "[0, 1, 2, 3, 4, 5, 6, 7, 8, 9, 10, 11, 12, 13, 14, 15, 16, 17, 18, 19]"
      ]
     },
     "execution_count": 157,
     "metadata": {},
     "output_type": "execute_result"
    }
   ],
   "source": [
    "l"
   ]
  },
  {
   "cell_type": "code",
   "execution_count": 158,
   "id": "c2fe34c9-19e2-41b5-9dba-93d7ac0e3b64",
   "metadata": {},
   "outputs": [
    {
     "data": {
      "text/plain": [
       "8"
      ]
     },
     "execution_count": 158,
     "metadata": {},
     "output_type": "execute_result"
    }
   ],
   "source": [
    "random.choice(l)"
   ]
  },
  {
   "cell_type": "code",
   "execution_count": 159,
   "id": "b580c9a5-35e7-417a-a355-9f66e5aa4494",
   "metadata": {},
   "outputs": [
    {
     "data": {
      "text/plain": [
       "[0, 1, 2, 3, 4, 5, 6, 7, 8, 9, 10, 11, 12, 13, 14, 15, 16, 17, 18, 19]"
      ]
     },
     "execution_count": 159,
     "metadata": {},
     "output_type": "execute_result"
    }
   ],
   "source": [
    "l"
   ]
  },
  {
   "cell_type": "code",
   "execution_count": 160,
   "id": "839bee19-4952-4b4d-997e-5f4b6aedd669",
   "metadata": {},
   "outputs": [
    {
     "data": {
      "text/plain": [
       "[4, 2, 2, 14, 10, 11, 0, 1, 4, 12]"
      ]
     },
     "execution_count": 160,
     "metadata": {},
     "output_type": "execute_result"
    }
   ],
   "source": [
    "# Sample with replacement\n",
    "random.choices(population=l, k=10)"
   ]
  },
  {
   "cell_type": "code",
   "execution_count": 161,
   "id": "75af0fc7-5b2a-43b2-864d-48254822ce7a",
   "metadata": {},
   "outputs": [
    {
     "data": {
      "text/plain": [
       "[17, 6, 19, 13, 7, 15, 9, 4, 0, 2]"
      ]
     },
     "execution_count": 161,
     "metadata": {},
     "output_type": "execute_result"
    }
   ],
   "source": [
    "# Sample without replacement\n",
    "random.sample(population=l, k=10)"
   ]
  },
  {
   "cell_type": "code",
   "execution_count": 162,
   "id": "0ab2642f-ff10-449f-80e9-4023486d55db",
   "metadata": {},
   "outputs": [],
   "source": [
    "random.shuffle(l)"
   ]
  },
  {
   "cell_type": "code",
   "execution_count": 163,
   "id": "f6256478-fab7-4fcb-ac84-1b8ce53d14a1",
   "metadata": {},
   "outputs": [
    {
     "data": {
      "text/plain": [
       "[9, 18, 7, 3, 0, 2, 16, 17, 19, 11, 15, 14, 1, 5, 12, 6, 4, 8, 10, 13]"
      ]
     },
     "execution_count": 163,
     "metadata": {},
     "output_type": "execute_result"
    }
   ],
   "source": [
    "l"
   ]
  },
  {
   "cell_type": "code",
   "execution_count": 165,
   "id": "96fcc983-08c2-40f2-bf8f-264dc0f17f6e",
   "metadata": {},
   "outputs": [
    {
     "data": {
      "text/plain": [
       "37.853437720835345"
      ]
     },
     "execution_count": 165,
     "metadata": {},
     "output_type": "execute_result"
    }
   ],
   "source": [
    "random.uniform(0,100)"
   ]
  },
  {
   "cell_type": "code",
   "execution_count": 166,
   "id": "eaec2f0d-26f1-499e-83a1-2bf4fba6a1b1",
   "metadata": {},
   "outputs": [
    {
     "data": {
      "text/plain": [
       "-1.7810258028555621"
      ]
     },
     "execution_count": 166,
     "metadata": {},
     "output_type": "execute_result"
    }
   ],
   "source": [
    "random.gauss(0,1)"
   ]
  },
  {
   "cell_type": "markdown",
   "id": "6acbfe25-2c41-4f73-98b0-425fc9e227b4",
   "metadata": {},
   "source": [
    "## Debugger"
   ]
  },
  {
   "cell_type": "code",
   "execution_count": 172,
   "id": "c75b488a-b916-46e2-abf2-67fe83070ba6",
   "metadata": {},
   "outputs": [],
   "source": [
    "import pdb"
   ]
  },
  {
   "cell_type": "code",
   "execution_count": 174,
   "id": "10c510a9-1a47-4b77-8083-6cf0d4095324",
   "metadata": {},
   "outputs": [
    {
     "name": "stdout",
     "output_type": "stream",
     "text": [
      "--Return--\n",
      "None\n",
      "> \u001b[0;32m/var/folders/yq/lxkzwgxd39gbvyfxzc1vrvqr0000gn/T/ipykernel_80987/3320825643.py\u001b[0m(7)\u001b[0;36m<module>\u001b[0;34m()\u001b[0m\n",
      "\u001b[0;32m      5 \u001b[0;31m\u001b[0mres\u001b[0m \u001b[0;34m=\u001b[0m \u001b[0my\u001b[0m \u001b[0;34m+\u001b[0m \u001b[0mz\u001b[0m\u001b[0;34m\u001b[0m\u001b[0;34m\u001b[0m\u001b[0m\n",
      "\u001b[0m\u001b[0;32m      6 \u001b[0;31m\u001b[0;34m\u001b[0m\u001b[0m\n",
      "\u001b[0m\u001b[0;32m----> 7 \u001b[0;31m\u001b[0mpdb\u001b[0m\u001b[0;34m.\u001b[0m\u001b[0mset_trace\u001b[0m\u001b[0;34m(\u001b[0m\u001b[0;34m)\u001b[0m\u001b[0;34m\u001b[0m\u001b[0;34m\u001b[0m\u001b[0m\n",
      "\u001b[0m\u001b[0;32m      8 \u001b[0;31m\u001b[0;34m\u001b[0m\u001b[0m\n",
      "\u001b[0m\u001b[0;32m      9 \u001b[0;31m\u001b[0mres2\u001b[0m \u001b[0;34m=\u001b[0m \u001b[0mx\u001b[0m \u001b[0;34m+\u001b[0m \u001b[0my\u001b[0m\u001b[0;34m\u001b[0m\u001b[0;34m\u001b[0m\u001b[0m\n",
      "\u001b[0m\n"
     ]
    },
    {
     "name": "stdin",
     "output_type": "stream",
     "text": [
      "ipdb>  1\n"
     ]
    },
    {
     "name": "stdout",
     "output_type": "stream",
     "text": [
      "1\n"
     ]
    },
    {
     "name": "stdin",
     "output_type": "stream",
     "text": [
      "ipdb>  y\n"
     ]
    },
    {
     "name": "stdout",
     "output_type": "stream",
     "text": [
      "2\n"
     ]
    },
    {
     "name": "stdin",
     "output_type": "stream",
     "text": [
      "ipdb>  z\n"
     ]
    },
    {
     "name": "stdout",
     "output_type": "stream",
     "text": [
      "3\n"
     ]
    },
    {
     "name": "stdin",
     "output_type": "stream",
     "text": [
      "ipdb>  x\n"
     ]
    },
    {
     "name": "stdout",
     "output_type": "stream",
     "text": [
      "[1, 2, 3]\n"
     ]
    },
    {
     "name": "stdin",
     "output_type": "stream",
     "text": [
      "ipdb>  1\n"
     ]
    },
    {
     "name": "stdout",
     "output_type": "stream",
     "text": [
      "1\n"
     ]
    },
    {
     "name": "stdin",
     "output_type": "stream",
     "text": [
      "ipdb>  q\n"
     ]
    },
    {
     "ename": "BdbQuit",
     "evalue": "",
     "output_type": "error",
     "traceback": [
      "\u001b[0;31m---------------------------------------------------------------------------\u001b[0m",
      "\u001b[0;31mBdbQuit\u001b[0m                                   Traceback (most recent call last)",
      "\u001b[0;32m/var/folders/yq/lxkzwgxd39gbvyfxzc1vrvqr0000gn/T/ipykernel_80987/3320825643.py\u001b[0m in \u001b[0;36m<module>\u001b[0;34m\u001b[0m\n\u001b[1;32m      5\u001b[0m \u001b[0mres\u001b[0m \u001b[0;34m=\u001b[0m \u001b[0my\u001b[0m \u001b[0;34m+\u001b[0m \u001b[0mz\u001b[0m\u001b[0;34m\u001b[0m\u001b[0;34m\u001b[0m\u001b[0m\n\u001b[1;32m      6\u001b[0m \u001b[0;34m\u001b[0m\u001b[0m\n\u001b[0;32m----> 7\u001b[0;31m \u001b[0mpdb\u001b[0m\u001b[0;34m.\u001b[0m\u001b[0mset_trace\u001b[0m\u001b[0;34m(\u001b[0m\u001b[0;34m)\u001b[0m\u001b[0;34m\u001b[0m\u001b[0;34m\u001b[0m\u001b[0m\n\u001b[0m\u001b[1;32m      8\u001b[0m \u001b[0;34m\u001b[0m\u001b[0m\n\u001b[1;32m      9\u001b[0m \u001b[0mres2\u001b[0m \u001b[0;34m=\u001b[0m \u001b[0mx\u001b[0m \u001b[0;34m+\u001b[0m \u001b[0my\u001b[0m\u001b[0;34m\u001b[0m\u001b[0;34m\u001b[0m\u001b[0m\n",
      "\u001b[0;32m~/opt/anaconda3/envs/bc/lib/python3.9/bdb.py\u001b[0m in \u001b[0;36mtrace_dispatch\u001b[0;34m(self, frame, event, arg)\u001b[0m\n\u001b[1;32m     90\u001b[0m             \u001b[0;32mreturn\u001b[0m \u001b[0mself\u001b[0m\u001b[0;34m.\u001b[0m\u001b[0mdispatch_call\u001b[0m\u001b[0;34m(\u001b[0m\u001b[0mframe\u001b[0m\u001b[0;34m,\u001b[0m \u001b[0marg\u001b[0m\u001b[0;34m)\u001b[0m\u001b[0;34m\u001b[0m\u001b[0;34m\u001b[0m\u001b[0m\n\u001b[1;32m     91\u001b[0m         \u001b[0;32mif\u001b[0m \u001b[0mevent\u001b[0m \u001b[0;34m==\u001b[0m \u001b[0;34m'return'\u001b[0m\u001b[0;34m:\u001b[0m\u001b[0;34m\u001b[0m\u001b[0;34m\u001b[0m\u001b[0m\n\u001b[0;32m---> 92\u001b[0;31m             \u001b[0;32mreturn\u001b[0m \u001b[0mself\u001b[0m\u001b[0;34m.\u001b[0m\u001b[0mdispatch_return\u001b[0m\u001b[0;34m(\u001b[0m\u001b[0mframe\u001b[0m\u001b[0;34m,\u001b[0m \u001b[0marg\u001b[0m\u001b[0;34m)\u001b[0m\u001b[0;34m\u001b[0m\u001b[0;34m\u001b[0m\u001b[0m\n\u001b[0m\u001b[1;32m     93\u001b[0m         \u001b[0;32mif\u001b[0m \u001b[0mevent\u001b[0m \u001b[0;34m==\u001b[0m \u001b[0;34m'exception'\u001b[0m\u001b[0;34m:\u001b[0m\u001b[0;34m\u001b[0m\u001b[0;34m\u001b[0m\u001b[0m\n\u001b[1;32m     94\u001b[0m             \u001b[0;32mreturn\u001b[0m \u001b[0mself\u001b[0m\u001b[0;34m.\u001b[0m\u001b[0mdispatch_exception\u001b[0m\u001b[0;34m(\u001b[0m\u001b[0mframe\u001b[0m\u001b[0;34m,\u001b[0m \u001b[0marg\u001b[0m\u001b[0;34m)\u001b[0m\u001b[0;34m\u001b[0m\u001b[0;34m\u001b[0m\u001b[0m\n",
      "\u001b[0;32m~/opt/anaconda3/envs/bc/lib/python3.9/bdb.py\u001b[0m in \u001b[0;36mdispatch_return\u001b[0;34m(self, frame, arg)\u001b[0m\n\u001b[1;32m    152\u001b[0m             \u001b[0;32mfinally\u001b[0m\u001b[0;34m:\u001b[0m\u001b[0;34m\u001b[0m\u001b[0;34m\u001b[0m\u001b[0m\n\u001b[1;32m    153\u001b[0m                 \u001b[0mself\u001b[0m\u001b[0;34m.\u001b[0m\u001b[0mframe_returning\u001b[0m \u001b[0;34m=\u001b[0m \u001b[0;32mNone\u001b[0m\u001b[0;34m\u001b[0m\u001b[0;34m\u001b[0m\u001b[0m\n\u001b[0;32m--> 154\u001b[0;31m             \u001b[0;32mif\u001b[0m \u001b[0mself\u001b[0m\u001b[0;34m.\u001b[0m\u001b[0mquitting\u001b[0m\u001b[0;34m:\u001b[0m \u001b[0;32mraise\u001b[0m \u001b[0mBdbQuit\u001b[0m\u001b[0;34m\u001b[0m\u001b[0;34m\u001b[0m\u001b[0m\n\u001b[0m\u001b[1;32m    155\u001b[0m             \u001b[0;31m# The user issued a 'next' or 'until' command.\u001b[0m\u001b[0;34m\u001b[0m\u001b[0;34m\u001b[0m\u001b[0;34m\u001b[0m\u001b[0m\n\u001b[1;32m    156\u001b[0m             \u001b[0;32mif\u001b[0m \u001b[0mself\u001b[0m\u001b[0;34m.\u001b[0m\u001b[0mstopframe\u001b[0m \u001b[0;32mis\u001b[0m \u001b[0mframe\u001b[0m \u001b[0;32mand\u001b[0m \u001b[0mself\u001b[0m\u001b[0;34m.\u001b[0m\u001b[0mstoplineno\u001b[0m \u001b[0;34m!=\u001b[0m \u001b[0;34m-\u001b[0m\u001b[0;36m1\u001b[0m\u001b[0;34m:\u001b[0m\u001b[0;34m\u001b[0m\u001b[0;34m\u001b[0m\u001b[0m\n",
      "\u001b[0;31mBdbQuit\u001b[0m: "
     ]
    }
   ],
   "source": [
    "x = [1,2,3]\n",
    "y = 2\n",
    "z = 3 \n",
    "\n",
    "res = y + z \n",
    "\n",
    "pdb.set_trace()\n",
    "\n",
    "res2 = x + y"
   ]
  },
  {
   "cell_type": "markdown",
   "id": "f2b0fba9-5091-4744-b75d-ca1b49298425",
   "metadata": {},
   "source": [
    "## Regex"
   ]
  },
  {
   "cell_type": "code",
   "execution_count": 176,
   "id": "a6564da0-b90f-4013-8c16-39efca34edf0",
   "metadata": {},
   "outputs": [],
   "source": [
    "text = \"The agent's phone number is 408-555-1234. Cal soon!\""
   ]
  },
  {
   "cell_type": "code",
   "execution_count": 177,
   "id": "225d7cf6-3ab8-4263-8c87-62ae7dddd168",
   "metadata": {},
   "outputs": [
    {
     "data": {
      "text/plain": [
       "True"
      ]
     },
     "execution_count": 177,
     "metadata": {},
     "output_type": "execute_result"
    }
   ],
   "source": [
    "'phone' in text"
   ]
  },
  {
   "cell_type": "code",
   "execution_count": 178,
   "id": "ce475597-914f-4d90-a9ac-68c716749b67",
   "metadata": {},
   "outputs": [],
   "source": [
    "import re"
   ]
  },
  {
   "cell_type": "code",
   "execution_count": 187,
   "id": "3f4df467-f017-46b5-9f9e-7be69538a924",
   "metadata": {},
   "outputs": [],
   "source": [
    "pattern = 'phone'"
   ]
  },
  {
   "cell_type": "code",
   "execution_count": 193,
   "id": "bf5bd5f5-3edd-42b9-a514-7f316636b993",
   "metadata": {},
   "outputs": [],
   "source": [
    "match = re.search(pattern, text)"
   ]
  },
  {
   "cell_type": "code",
   "execution_count": 182,
   "id": "8e405aad-e9ce-48f7-9d4d-dfa76f3bd860",
   "metadata": {},
   "outputs": [
    {
     "data": {
      "text/plain": [
       "'phone'"
      ]
     },
     "execution_count": 182,
     "metadata": {},
     "output_type": "execute_result"
    }
   ],
   "source": [
    "text[12:17]"
   ]
  },
  {
   "cell_type": "code",
   "execution_count": 190,
   "id": "c64de956-45d9-45d5-bf86-46d4c9035ed0",
   "metadata": {},
   "outputs": [
    {
     "data": {
      "text/plain": [
       "(12, 17)"
      ]
     },
     "execution_count": 190,
     "metadata": {},
     "output_type": "execute_result"
    }
   ],
   "source": [
    "match.span()"
   ]
  },
  {
   "cell_type": "code",
   "execution_count": 191,
   "id": "de836930-c5c1-4463-94d4-62149ddd9873",
   "metadata": {},
   "outputs": [
    {
     "data": {
      "text/plain": [
       "12"
      ]
     },
     "execution_count": 191,
     "metadata": {},
     "output_type": "execute_result"
    }
   ],
   "source": [
    "match.start()"
   ]
  },
  {
   "cell_type": "code",
   "execution_count": 192,
   "id": "ec97c965-9c76-4e8d-9321-ef7061587b1d",
   "metadata": {},
   "outputs": [
    {
     "data": {
      "text/plain": [
       "17"
      ]
     },
     "execution_count": 192,
     "metadata": {},
     "output_type": "execute_result"
    }
   ],
   "source": [
    "match.end()"
   ]
  },
  {
   "cell_type": "code",
   "execution_count": 185,
   "id": "e3c004ca-b326-4f41-85f3-fa5f12e4534c",
   "metadata": {},
   "outputs": [],
   "source": [
    "pattern = 'NOT IN TEXT'"
   ]
  },
  {
   "cell_type": "code",
   "execution_count": 186,
   "id": "fd4e48a7-997c-4e88-a566-c78cf1a89c01",
   "metadata": {},
   "outputs": [],
   "source": [
    "re.search(pattern, text)"
   ]
  },
  {
   "cell_type": "markdown",
   "id": "94f5ad38-8089-4733-a7f8-9aad843ae80a",
   "metadata": {},
   "source": [
    "## Timeit"
   ]
  },
  {
   "cell_type": "code",
   "execution_count": null,
   "id": "13e0ebb3-76e2-4818-9732-44ae7a052cbb",
   "metadata": {},
   "outputs": [],
   "source": []
  }
 ],
 "metadata": {
  "kernelspec": {
   "display_name": "Python 3 (ipykernel)",
   "language": "python",
   "name": "python3"
  },
  "language_info": {
   "codemirror_mode": {
    "name": "ipython",
    "version": 3
   },
   "file_extension": ".py",
   "mimetype": "text/x-python",
   "name": "python",
   "nbconvert_exporter": "python",
   "pygments_lexer": "ipython3",
   "version": "3.9.6"
  }
 },
 "nbformat": 4,
 "nbformat_minor": 5
}
