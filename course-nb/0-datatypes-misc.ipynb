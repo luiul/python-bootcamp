{
 "cells": [
  {
   "cell_type": "markdown",
   "id": "aaf1b562-3a94-4360-8140-56542bf45a2a",
   "metadata": {},
   "source": [
    "# Datatypes"
   ]
  },
  {
   "cell_type": "code",
   "execution_count": null,
   "id": "1daca49f-7ddf-4ab0-86a1-e1f39bfe9de1",
   "metadata": {},
   "outputs": [
    {
     "name": "stdout",
     "output_type": "stream",
     "text": [
      "hello world-!papa"
     ]
    }
   ],
   "source": [
    "print('hello world','!',sep='-',end='papa')"
   ]
  },
  {
   "cell_type": "code",
   "execution_count": null,
   "id": "6592b4da-2fe3-4005-9378-2446aebf8941",
   "metadata": {},
   "outputs": [
    {
     "name": "stdout",
     "output_type": "stream",
     "text": [
      "3.9.6\n"
     ]
    }
   ],
   "source": [
    "from platform import python_version\n",
    "print(python_version())"
   ]
  },
  {
   "cell_type": "markdown",
   "id": "35ffc2ed-59bb-4e73-85f6-2289c7137bee",
   "metadata": {},
   "source": [
    "## Numbers"
   ]
  },
  {
   "cell_type": "code",
   "execution_count": null,
   "id": "e402ae89-a393-4a44-978a-050475141304",
   "metadata": {},
   "outputs": [
    {
     "data": {
      "text/plain": [
       "1.5"
      ]
     },
     "execution_count": 1,
     "metadata": {},
     "output_type": "execute_result"
    }
   ],
   "source": [
    "3/2"
   ]
  },
  {
   "cell_type": "code",
   "execution_count": null,
   "id": "7deb4778-b802-4504-8dad-240709e91edd",
   "metadata": {},
   "outputs": [
    {
     "data": {
      "text/plain": [
       "1"
      ]
     },
     "execution_count": 4,
     "metadata": {},
     "output_type": "execute_result"
    }
   ],
   "source": [
    "# mod operator\n",
    "3%2"
   ]
  },
  {
   "cell_type": "code",
   "execution_count": null,
   "id": "19303273-cdbb-4540-856c-aa9b38c506db",
   "metadata": {},
   "outputs": [
    {
     "data": {
      "text/plain": [
       "3"
      ]
     },
     "execution_count": 5,
     "metadata": {},
     "output_type": "execute_result"
    }
   ],
   "source": [
    "# caret opeartor\n",
    "1^2"
   ]
  },
  {
   "cell_type": "code",
   "execution_count": null,
   "id": "5a091363-0a51-4ffd-b50d-db987c6da80a",
   "metadata": {},
   "outputs": [],
   "source": [
    "a = 10"
   ]
  },
  {
   "cell_type": "code",
   "execution_count": null,
   "id": "46e2d433-7ed7-46e5-b808-01d2e2b76b37",
   "metadata": {},
   "outputs": [
    {
     "data": {
      "text/plain": [
       "int"
      ]
     },
     "execution_count": 7,
     "metadata": {},
     "output_type": "execute_result"
    }
   ],
   "source": [
    "type(a)"
   ]
  },
  {
   "cell_type": "code",
   "execution_count": null,
   "id": "a13b10bd-a63f-445b-9d56-7823e133ecfa",
   "metadata": {},
   "outputs": [],
   "source": [
    "my_income = 100\n",
    "tax_rate = 0.1\n",
    "my_taxes = my_income * tax_rate"
   ]
  },
  {
   "cell_type": "code",
   "execution_count": null,
   "id": "a95a2335-3646-4ae3-b060-ae33775a4143",
   "metadata": {},
   "outputs": [
    {
     "data": {
      "text/plain": [
       "10.0"
      ]
     },
     "execution_count": 11,
     "metadata": {},
     "output_type": "execute_result"
    }
   ],
   "source": [
    "my_taxes"
   ]
  },
  {
   "cell_type": "markdown",
   "id": "3ceae1dc-9ba3-486d-b4ff-2708dd9ac004",
   "metadata": {},
   "source": [
    "## Strings"
   ]
  },
  {
   "cell_type": "code",
   "execution_count": null,
   "id": "18877563-2395-42cb-8e51-47c317506bf4",
   "metadata": {},
   "outputs": [
    {
     "data": {
      "text/plain": [
       "'h'"
      ]
     },
     "execution_count": 17,
     "metadata": {},
     "output_type": "execute_result"
    }
   ],
   "source": [
    "'hello'[-5]"
   ]
  },
  {
   "cell_type": "code",
   "execution_count": null,
   "id": "2af504ed-c0ea-47d2-89c7-ff0d43895af9",
   "metadata": {},
   "outputs": [
    {
     "name": "stdout",
     "output_type": "stream",
     "text": [
      "hello \n",
      "world\n"
     ]
    }
   ],
   "source": [
    "# escape character\n",
    "print('hello \\nworld')"
   ]
  },
  {
   "cell_type": "code",
   "execution_count": null,
   "id": "440f29d4-2015-4e95-b0fc-e5cdd672d25a",
   "metadata": {},
   "outputs": [
    {
     "name": "stdout",
     "output_type": "stream",
     "text": [
      "hello \tworld\n"
     ]
    }
   ],
   "source": [
    "print('hello \\tworld')"
   ]
  },
  {
   "cell_type": "code",
   "execution_count": null,
   "id": "5f6ec35f-60f1-480f-ab87-039fbbb9d16d",
   "metadata": {},
   "outputs": [
    {
     "data": {
      "text/plain": [
       "5"
      ]
     },
     "execution_count": 21,
     "metadata": {},
     "output_type": "execute_result"
    }
   ],
   "source": [
    "len('hello')"
   ]
  },
  {
   "cell_type": "code",
   "execution_count": null,
   "id": "a6ca0658-2d65-4167-bf18-aa7591a61ddf",
   "metadata": {},
   "outputs": [],
   "source": [
    "my_string = 'Hello World'"
   ]
  },
  {
   "cell_type": "code",
   "execution_count": null,
   "id": "4f762022-7408-4e82-a043-208de08f10c1",
   "metadata": {},
   "outputs": [
    {
     "data": {
      "text/plain": [
       "'l'"
      ]
     },
     "execution_count": 26,
     "metadata": {},
     "output_type": "execute_result"
    }
   ],
   "source": [
    "my_string[-2]"
   ]
  },
  {
   "cell_type": "code",
   "execution_count": null,
   "id": "ecc4b27f-fa90-4f40-ba7f-d0df0be4ae9f",
   "metadata": {},
   "outputs": [
    {
     "data": {
      "text/plain": [
       "'Hello World'"
      ]
     },
     "execution_count": 27,
     "metadata": {},
     "output_type": "execute_result"
    }
   ],
   "source": [
    "my_string[0::]\n",
    "# my_string[0:]"
   ]
  },
  {
   "cell_type": "code",
   "execution_count": null,
   "id": "2e936756-def1-47fc-ab98-93ee5bb00ec6",
   "metadata": {},
   "outputs": [
    {
     "data": {
      "text/plain": [
       "'Hello'"
      ]
     },
     "execution_count": 31,
     "metadata": {},
     "output_type": "execute_result"
    }
   ],
   "source": [
    "my_string[0:5:]\n",
    "# my_string[:5]\n",
    "# up to (but not including) 5"
   ]
  },
  {
   "cell_type": "code",
   "execution_count": null,
   "id": "dcaba17e-0e1b-46f9-8f74-18af9f973055",
   "metadata": {},
   "outputs": [
    {
     "data": {
      "text/plain": [
       "'ello'"
      ]
     },
     "execution_count": 34,
     "metadata": {},
     "output_type": "execute_result"
    }
   ],
   "source": [
    "my_string[1:5:]\n",
    "# my_string[1:5]"
   ]
  },
  {
   "cell_type": "code",
   "execution_count": null,
   "id": "f19da240-e70e-4ed3-b9e9-5ceb9fbc5b24",
   "metadata": {},
   "outputs": [
    {
     "data": {
      "text/plain": [
       "'Hello World'"
      ]
     },
     "execution_count": 36,
     "metadata": {},
     "output_type": "execute_result"
    }
   ],
   "source": [
    "my_string[::]"
   ]
  },
  {
   "cell_type": "code",
   "execution_count": null,
   "id": "c51be4ca-f02e-4452-9ae9-a1c0b5209edc",
   "metadata": {},
   "outputs": [
    {
     "data": {
      "text/plain": [
       "'Hello World'"
      ]
     },
     "execution_count": 37,
     "metadata": {},
     "output_type": "execute_result"
    }
   ],
   "source": [
    "my_string[::1]"
   ]
  },
  {
   "cell_type": "code",
   "execution_count": null,
   "id": "e0cf3ef9-236a-47db-af76-8aafc551c804",
   "metadata": {},
   "outputs": [
    {
     "data": {
      "text/plain": [
       "'HloWrd'"
      ]
     },
     "execution_count": 38,
     "metadata": {},
     "output_type": "execute_result"
    }
   ],
   "source": [
    "my_string[::2]"
   ]
  },
  {
   "cell_type": "code",
   "execution_count": null,
   "id": "38ff8913-2e29-4c62-a846-eee6417b0f2c",
   "metadata": {},
   "outputs": [
    {
     "data": {
      "text/plain": [
       "'loWrd'"
      ]
     },
     "execution_count": 39,
     "metadata": {},
     "output_type": "execute_result"
    }
   ],
   "source": [
    "my_string[2::2]"
   ]
  },
  {
   "cell_type": "code",
   "execution_count": null,
   "id": "8303a8e7-1f73-433d-8b9d-e3d3b565b944",
   "metadata": {},
   "outputs": [
    {
     "data": {
      "text/plain": [
       "'dlroW olleH'"
      ]
     },
     "execution_count": 5,
     "metadata": {},
     "output_type": "execute_result"
    }
   ],
   "source": [
    "'Hello World'[::-1]"
   ]
  },
  {
   "cell_type": "code",
   "execution_count": null,
   "id": "0956a37b-728d-4f32-8474-6033d0b6537e",
   "metadata": {},
   "outputs": [],
   "source": [
    "for i in "
   ]
  },
  {
   "cell_type": "code",
   "execution_count": null,
   "id": "6fd14d49-b2a2-437b-a1ca-ce4cb265bac8",
   "metadata": {},
   "outputs": [
    {
     "name": "stdout",
     "output_type": "stream",
     "text": [
      "d\n",
      "l\n",
      "r\n",
      "o\n",
      "W\n",
      " \n",
      "o\n",
      "l\n",
      "l\n",
      "e\n",
      "H\n"
     ]
    }
   ],
   "source": [
    "for i in range(len(my_string)): \n",
    "    print(my_string[-(i+1)])"
   ]
  },
  {
   "cell_type": "code",
   "execution_count": null,
   "id": "b535539d-106e-47fe-a65b-b9228fd5b8d8",
   "metadata": {},
   "outputs": [
    {
     "name": "stdout",
     "output_type": "stream",
     "text": [
      "Element is present at index  3\n"
     ]
    }
   ],
   "source": [
    "# Iterative Binary Search Function\n",
    "# It returns index of x in given array arr if present,\n",
    "# else returns -1\n",
    "def binary_search(arr, x):\n",
    "    low = 0\n",
    "    high = len(arr) - 1\n",
    "    mid = 0\n",
    " \n",
    "    while low <= high:\n",
    " \n",
    "        mid = (high + low) // 2\n",
    " \n",
    "        # If x is greater, ignore left half\n",
    "        if arr[mid] < x:\n",
    "            low = mid + 1\n",
    " \n",
    "        # If x is smaller, ignore right half\n",
    "        elif arr[mid] > x:\n",
    "            high = mid - 1\n",
    " \n",
    "        # means x is present at mid\n",
    "        else:\n",
    "            return mid\n",
    " \n",
    "    # If we reach here, then the element was not present\n",
    "    return -1\n",
    " \n",
    " \n",
    "# Test array\n",
    "arr = [ 2, 3, 4, 10, 40 ]\n",
    "x = 10\n",
    " \n",
    "# Function call\n",
    "result = binary_search(arr, x)\n",
    " \n",
    "if result != -1:\n",
    "    print(\"Element is present at index\", str(result))\n",
    "else:\n",
    "    print(\"Element is not present in array\")"
   ]
  },
  {
   "cell_type": "code",
   "execution_count": null,
   "id": "829f7c42-788e-4e9f-91d0-08d83ba51de4",
   "metadata": {},
   "outputs": [],
   "source": [
    "a = [5,4,1,7,8,10,3]"
   ]
  },
  {
   "cell_type": "code",
   "execution_count": null,
   "id": "6974def8-0a4c-4a95-ae36-5724a6fd0f8a",
   "metadata": {},
   "outputs": [],
   "source": [
    "a.sort()"
   ]
  },
  {
   "cell_type": "code",
   "execution_count": null,
   "id": "26e84a9a-aa6a-4c9b-9388-a3df0b000a6a",
   "metadata": {},
   "outputs": [
    {
     "data": {
      "text/plain": [
       "[1, 3, 4, 5, 7, 8, 10]"
      ]
     },
     "execution_count": 49,
     "metadata": {},
     "output_type": "execute_result"
    }
   ],
   "source": [
    "a"
   ]
  },
  {
   "cell_type": "code",
   "execution_count": null,
   "id": "48beaa1b-4660-4e50-8d48-c8d3286ddaf5",
   "metadata": {},
   "outputs": [],
   "source": [
    "def binary_search(arr, sv): \n",
    "    low, mid, high = 0, 0, len(arr)-1\n",
    "    while low <= high: \n",
    "        mid = (high+low)//2\n",
    "        if arr[mid] < sv: \n",
    "            # look to the right\n",
    "            low = mid + 1\n",
    "        elif arr[mid] > sv: \n",
    "            # look to the left\n",
    "            high = mid - 1\n",
    "        else: \n",
    "            return print(f'Element is present at index {mid}')\n",
    "    return print('Element is not present in array')"
   ]
  },
  {
   "cell_type": "code",
   "execution_count": null,
   "id": "4273c62c-a489-4b79-8044-8a75aee73126",
   "metadata": {},
   "outputs": [
    {
     "name": "stdout",
     "output_type": "stream",
     "text": [
      "Element is not present in array\n"
     ]
    }
   ],
   "source": [
    "binary_search(a,11)"
   ]
  },
  {
   "cell_type": "code",
   "execution_count": null,
   "id": "88af432d-afc5-4834-8205-2ec4d03f7cf6",
   "metadata": {},
   "outputs": [],
   "source": [
    "name = 'Sam'"
   ]
  },
  {
   "cell_type": "code",
   "execution_count": null,
   "id": "70afc51b-fe22-4dac-93c7-ab367276a544",
   "metadata": {},
   "outputs": [
    {
     "data": {
      "text/plain": [
       "'Pam'"
      ]
     },
     "execution_count": 59,
     "metadata": {},
     "output_type": "execute_result"
    }
   ],
   "source": [
    "# string concatenation\n",
    "'P' + name[1:]"
   ]
  },
  {
   "cell_type": "code",
   "execution_count": null,
   "id": "eec8b4f9-f592-4bdc-81b9-14ebc2051bf8",
   "metadata": {},
   "outputs": [],
   "source": [
    "x = 'Hello world'"
   ]
  },
  {
   "cell_type": "code",
   "execution_count": null,
   "id": "2947c359-1618-465f-a3cc-f400380957b1",
   "metadata": {},
   "outputs": [],
   "source": [
    "x = x + \", it's beatiful outside\""
   ]
  },
  {
   "cell_type": "code",
   "execution_count": null,
   "id": "d2a6b766-8834-4b6a-9a07-9e84e6349cf4",
   "metadata": {},
   "outputs": [
    {
     "data": {
      "text/plain": [
       "\"Hello world, it's beatiful outside\""
      ]
     },
     "execution_count": 68,
     "metadata": {},
     "output_type": "execute_result"
    }
   ],
   "source": [
    "x"
   ]
  },
  {
   "cell_type": "code",
   "execution_count": null,
   "id": "d0de0950-c51f-4d20-876e-e8c0a8e2191b",
   "metadata": {},
   "outputs": [],
   "source": [
    "letter = 'z'"
   ]
  },
  {
   "cell_type": "code",
   "execution_count": null,
   "id": "0479efd0-567d-4fe4-a09b-3b7a765a2157",
   "metadata": {},
   "outputs": [
    {
     "data": {
      "text/plain": [
       "'zzzzzzzzzz'"
      ]
     },
     "execution_count": 70,
     "metadata": {},
     "output_type": "execute_result"
    }
   ],
   "source": [
    "10*letter"
   ]
  },
  {
   "cell_type": "code",
   "execution_count": null,
   "id": "4f6f8f73-7ba9-40eb-b3d8-d57bee825d7f",
   "metadata": {},
   "outputs": [
    {
     "data": {
      "text/plain": [
       "5"
      ]
     },
     "execution_count": 71,
     "metadata": {},
     "output_type": "execute_result"
    }
   ],
   "source": [
    "2 + 3"
   ]
  },
  {
   "cell_type": "code",
   "execution_count": null,
   "id": "ef2bc40c-399d-460b-8a1d-e57b9f21bc9a",
   "metadata": {},
   "outputs": [
    {
     "data": {
      "text/plain": [
       "'23'"
      ]
     },
     "execution_count": 72,
     "metadata": {},
     "output_type": "execute_result"
    }
   ],
   "source": [
    "'2' + '3'"
   ]
  },
  {
   "cell_type": "code",
   "execution_count": null,
   "id": "7c2fd97e-8f92-4881-96da-8740e5291953",
   "metadata": {},
   "outputs": [
    {
     "data": {
      "text/plain": [
       "\"HELLO WORLD, IT'S BEATIFUL OUTSIDE\""
      ]
     },
     "execution_count": 73,
     "metadata": {},
     "output_type": "execute_result"
    }
   ],
   "source": [
    "x.upper()\n",
    "# this method is not inplace -> does not affect the original string"
   ]
  },
  {
   "cell_type": "code",
   "execution_count": null,
   "id": "08d66a6b-dd1e-4eda-87ae-e86bb322a625",
   "metadata": {},
   "outputs": [
    {
     "data": {
      "text/plain": [
       "\"Hello world, it's beatiful outside\""
      ]
     },
     "execution_count": 74,
     "metadata": {},
     "output_type": "execute_result"
    }
   ],
   "source": [
    "x"
   ]
  },
  {
   "cell_type": "code",
   "execution_count": null,
   "id": "85b64eb2-d603-4c3c-94b1-87c19f22142f",
   "metadata": {},
   "outputs": [
    {
     "data": {
      "text/plain": [
       "\"hello world, it's beatiful outside\""
      ]
     },
     "execution_count": 75,
     "metadata": {},
     "output_type": "execute_result"
    }
   ],
   "source": [
    "x.lower()"
   ]
  },
  {
   "cell_type": "code",
   "execution_count": null,
   "id": "212d7c24-fddd-4197-b4cf-49c20cb23ad3",
   "metadata": {},
   "outputs": [],
   "source": [
    "y = x.split(sep=',', maxsplit=2)"
   ]
  },
  {
   "cell_type": "code",
   "execution_count": null,
   "id": "1fa2811c-e612-4860-8730-bd568408bd85",
   "metadata": {},
   "outputs": [
    {
     "ename": "SyntaxError",
     "evalue": "invalid syntax (1497071411.py, line 1)",
     "output_type": "error",
     "traceback": [
      "\u001b[0;36m  File \u001b[0;32m\"/var/folders/yq/lxkzwgxd39gbvyfxzc1vrvqr0000gn/T/ipykernel_42101/1497071411.py\"\u001b[0;36m, line \u001b[0;32m1\u001b[0m\n\u001b[0;31m    i in y:\u001b[0m\n\u001b[0m            ^\u001b[0m\n\u001b[0;31mSyntaxError\u001b[0m\u001b[0;31m:\u001b[0m invalid syntax\n"
     ]
    }
   ],
   "source": [
    "i in y: \n",
    "    print(i)"
   ]
  },
  {
   "cell_type": "code",
   "execution_count": null,
   "id": "fd3dee40-af9c-4bba-bc13-8fc389b84431",
   "metadata": {},
   "outputs": [],
   "source": []
  },
  {
   "cell_type": "code",
   "execution_count": null,
   "id": "81386f19-c20c-4341-b5be-bf0a907101b0",
   "metadata": {},
   "outputs": [],
   "source": []
  },
  {
   "cell_type": "code",
   "execution_count": null,
   "id": "77fa8dea-9297-43ec-bd38-e6b8d8b2811f",
   "metadata": {},
   "outputs": [
    {
     "data": {
      "text/plain": [
       "['hello']"
      ]
     },
     "execution_count": 82,
     "metadata": {},
     "output_type": "execute_result"
    }
   ],
   "source": [
    "\n",
    "'hello'.split()"
   ]
  },
  {
   "cell_type": "code",
   "execution_count": null,
   "id": "01b376c3-c2f3-476a-9850-6622adc565d4",
   "metadata": {},
   "outputs": [],
   "source": [
    "x = 'Hi this is a string'"
   ]
  },
  {
   "cell_type": "code",
   "execution_count": null,
   "id": "eb0a1963-fe0f-4167-bfc7-387de1127d64",
   "metadata": {},
   "outputs": [
    {
     "data": {
      "text/plain": [
       "['H', ' th', 's ', 's a str', 'ng']"
      ]
     },
     "execution_count": 86,
     "metadata": {},
     "output_type": "execute_result"
    }
   ],
   "source": [
    "x.split(sep='i')"
   ]
  },
  {
   "cell_type": "code",
   "execution_count": null,
   "id": "22a85622-f626-444f-99a6-63e121fb98a6",
   "metadata": {},
   "outputs": [
    {
     "data": {
      "text/plain": [
       "0.1287001287001287"
      ]
     },
     "execution_count": 94,
     "metadata": {},
     "output_type": "execute_result"
    }
   ],
   "source": [
    "result = 100/777\n",
    "result"
   ]
  },
  {
   "cell_type": "code",
   "execution_count": null,
   "id": "42905b24-ad68-41f4-af23-95bd54fe1502",
   "metadata": {},
   "outputs": [
    {
     "name": "stdout",
     "output_type": "stream",
     "text": [
      "The resulst was 0.129\n"
     ]
    }
   ],
   "source": [
    "# formated string literals\n",
    "print(f'The resulst was {result:.3f}')"
   ]
  },
  {
   "cell_type": "markdown",
   "id": "8781f42f-6f97-481e-a6f8-25ddb6e2549b",
   "metadata": {},
   "source": [
    "## Lists"
   ]
  },
  {
   "cell_type": "code",
   "execution_count": null,
   "id": "a16ee9ac-1c3e-456f-957b-b662884ef66c",
   "metadata": {},
   "outputs": [
    {
     "data": {
      "text/plain": [
       "[1, 2, 3]"
      ]
     },
     "execution_count": 106,
     "metadata": {},
     "output_type": "execute_result"
    }
   ],
   "source": [
    "l = [1,2,3]\n",
    "l"
   ]
  },
  {
   "cell_type": "code",
   "execution_count": null,
   "id": "5649a517-0272-4ec2-9ac7-6f6858d9415b",
   "metadata": {},
   "outputs": [
    {
     "data": {
      "text/plain": [
       "3"
      ]
     },
     "execution_count": 109,
     "metadata": {},
     "output_type": "execute_result"
    }
   ],
   "source": [
    "len(l)"
   ]
  },
  {
   "cell_type": "code",
   "execution_count": null,
   "id": "424d60e9-4d99-401f-959d-292747d23477",
   "metadata": {},
   "outputs": [],
   "source": [
    "l2 = ['four','five']"
   ]
  },
  {
   "cell_type": "code",
   "execution_count": null,
   "id": "d90c149a-35c0-4919-a091-d993ed063671",
   "metadata": {},
   "outputs": [
    {
     "data": {
      "text/plain": [
       "[1, 2, 3, 'four', 'five']"
      ]
     },
     "execution_count": 111,
     "metadata": {},
     "output_type": "execute_result"
    }
   ],
   "source": [
    "l + l2"
   ]
  },
  {
   "cell_type": "code",
   "execution_count": null,
   "id": "e5655763-b6aa-4aaa-87d8-80363b364f1c",
   "metadata": {},
   "outputs": [],
   "source": [
    "l[0] = 'ONE'"
   ]
  },
  {
   "cell_type": "code",
   "execution_count": null,
   "id": "098ec710-38e8-4098-a8ab-31953d911857",
   "metadata": {},
   "outputs": [
    {
     "data": {
      "text/plain": [
       "['ONE', 2, 3]"
      ]
     },
     "execution_count": 115,
     "metadata": {},
     "output_type": "execute_result"
    }
   ],
   "source": [
    "l"
   ]
  },
  {
   "cell_type": "code",
   "execution_count": null,
   "id": "5fd9c114-1863-4c32-bcb2-de7f4d3c100c",
   "metadata": {},
   "outputs": [],
   "source": [
    "l3 = l.append('FOUR')\n",
    "# the append method does not return anything (None); it affects the list in-place"
   ]
  },
  {
   "cell_type": "code",
   "execution_count": null,
   "id": "a5891fb1-dfd1-4602-b5b9-c4448d0c11c8",
   "metadata": {},
   "outputs": [
    {
     "data": {
      "text/plain": [
       "['ONE', 2, 3, 'FOUR', 'FOUR']"
      ]
     },
     "execution_count": 119,
     "metadata": {},
     "output_type": "execute_result"
    }
   ],
   "source": [
    "l"
   ]
  },
  {
   "cell_type": "code",
   "execution_count": null,
   "id": "a1b71686-c438-4b4d-8a84-c36559c84b76",
   "metadata": {},
   "outputs": [],
   "source": [
    "l3"
   ]
  },
  {
   "cell_type": "code",
   "execution_count": null,
   "id": "2351b23d-affe-415e-85f4-e9d9172f5670",
   "metadata": {},
   "outputs": [
    {
     "name": "stdout",
     "output_type": "stream",
     "text": [
      "['ONE', 2, 3, 'FOUR', 'FOUR']\n"
     ]
    }
   ],
   "source": [
    "print(l)"
   ]
  },
  {
   "cell_type": "code",
   "execution_count": null,
   "id": "5faec5f8-56e5-4b69-b3d9-23c53b54c66f",
   "metadata": {},
   "outputs": [
    {
     "name": "stdout",
     "output_type": "stream",
     "text": [
      "None\n"
     ]
    }
   ],
   "source": [
    "print(l3)"
   ]
  },
  {
   "cell_type": "code",
   "execution_count": null,
   "id": "a93644bc-17df-4ba5-8fbd-131453825532",
   "metadata": {},
   "outputs": [],
   "source": [
    "l_pop = l.pop()"
   ]
  },
  {
   "cell_type": "code",
   "execution_count": null,
   "id": "2f9e4c83-20b1-4e45-8ac7-42e94c02de1a",
   "metadata": {},
   "outputs": [
    {
     "data": {
      "text/plain": [
       "'FOUR'"
      ]
     },
     "execution_count": 127,
     "metadata": {},
     "output_type": "execute_result"
    }
   ],
   "source": [
    "l_pop"
   ]
  },
  {
   "cell_type": "code",
   "execution_count": null,
   "id": "0992b32a-e1ea-436a-95f3-79a60c3fb46f",
   "metadata": {},
   "outputs": [
    {
     "data": {
      "text/plain": [
       "['ONE', 2, 3]"
      ]
     },
     "execution_count": 128,
     "metadata": {},
     "output_type": "execute_result"
    }
   ],
   "source": [
    "l"
   ]
  },
  {
   "cell_type": "code",
   "execution_count": null,
   "id": "7e3dc041-d92d-45c5-b282-7715f824c1d1",
   "metadata": {},
   "outputs": [
    {
     "data": {
      "text/plain": [
       "2"
      ]
     },
     "execution_count": 129,
     "metadata": {},
     "output_type": "execute_result"
    }
   ],
   "source": [
    "l_two = l.pop(-2)\n",
    "l_two"
   ]
  },
  {
   "cell_type": "code",
   "execution_count": null,
   "id": "13622772-4fa7-4049-9d25-d4ddaeb5623b",
   "metadata": {},
   "outputs": [
    {
     "data": {
      "text/plain": [
       "['ONE', 3]"
      ]
     },
     "execution_count": 130,
     "metadata": {},
     "output_type": "execute_result"
    }
   ],
   "source": [
    "l"
   ]
  },
  {
   "cell_type": "code",
   "execution_count": null,
   "id": "a7f22979-2d4b-437a-b77d-036834060c21",
   "metadata": {},
   "outputs": [],
   "source": [
    "ll = ['a','e','x','b','c']\n",
    "nl = [5,3,4,6,2,1]"
   ]
  },
  {
   "cell_type": "code",
   "execution_count": null,
   "id": "03e2cd70-42da-4ae8-b9f8-87ee74f627a5",
   "metadata": {},
   "outputs": [
    {
     "data": {
      "text/plain": [
       "['a', 'b', 'c', 'e', 'x']"
      ]
     },
     "execution_count": 133,
     "metadata": {},
     "output_type": "execute_result"
    }
   ],
   "source": [
    "ll.sort()\n",
    "ll"
   ]
  },
  {
   "cell_type": "code",
   "execution_count": null,
   "id": "bab1760d-64f4-464b-ac4e-710297d410ef",
   "metadata": {},
   "outputs": [
    {
     "data": {
      "text/plain": [
       "['x', 'e', 'c', 'b', 'a']"
      ]
     },
     "execution_count": 136,
     "metadata": {},
     "output_type": "execute_result"
    }
   ],
   "source": [
    "ll.sort(reverse=True)\n",
    "ll"
   ]
  },
  {
   "cell_type": "code",
   "execution_count": null,
   "id": "2d6b2002-2e9f-4e63-9949-97c20734cd43",
   "metadata": {},
   "outputs": [
    {
     "data": {
      "text/plain": [
       "['x', 'e', 'c', 'b', 'a']"
      ]
     },
     "execution_count": 138,
     "metadata": {},
     "output_type": "execute_result"
    }
   ],
   "source": [
    "ll.reverse()\n",
    "ll"
   ]
  },
  {
   "cell_type": "code",
   "execution_count": null,
   "id": "e9420715-98cd-417d-8ffe-afd80a57d38c",
   "metadata": {},
   "outputs": [
    {
     "data": {
      "text/plain": [
       "[1, 2, 3, 4, 5, 6, 7, 8, 9, 10]"
      ]
     },
     "execution_count": 121,
     "metadata": {},
     "output_type": "execute_result"
    }
   ],
   "source": [
    "l"
   ]
  },
  {
   "cell_type": "code",
   "execution_count": null,
   "id": "9d27f55c-2761-4c17-94e3-eb9c46ebc5c6",
   "metadata": {},
   "outputs": [],
   "source": [
    "l = [i for i in range(0,11)]"
   ]
  },
  {
   "cell_type": "code",
   "execution_count": null,
   "id": "0730250f-5f31-4403-9be1-ad0c57573508",
   "metadata": {},
   "outputs": [],
   "source": [
    "l.remove(2)"
   ]
  },
  {
   "cell_type": "code",
   "execution_count": null,
   "id": "23645f7f-67f7-412d-af43-5c534e2fee49",
   "metadata": {},
   "outputs": [],
   "source": []
  },
  {
   "cell_type": "code",
   "execution_count": null,
   "id": "0cdcbd7a-98e0-4380-8d1d-bdc35238a633",
   "metadata": {},
   "outputs": [],
   "source": []
  },
  {
   "cell_type": "code",
   "execution_count": null,
   "id": "c660efba-d098-4e89-885d-502c46edc80f",
   "metadata": {},
   "outputs": [],
   "source": []
  },
  {
   "cell_type": "code",
   "execution_count": null,
   "id": "c8d093c3-7933-4c9c-8230-c6dfcc206c07",
   "metadata": {},
   "outputs": [
    {
     "data": {
      "text/plain": [
       "[range(0, 11)]"
      ]
     },
     "execution_count": 91,
     "metadata": {},
     "output_type": "execute_result"
    }
   ],
   "source": [
    "a"
   ]
  },
  {
   "cell_type": "code",
   "execution_count": null,
   "id": "153c3a23-d9fe-44e4-83ff-440c144d6799",
   "metadata": {},
   "outputs": [],
   "source": []
  },
  {
   "cell_type": "markdown",
   "id": "b4ae9aee-0ff8-469b-ab7b-b3b10a67ec3f",
   "metadata": {},
   "source": [
    "## Dictionaries"
   ]
  },
  {
   "cell_type": "code",
   "execution_count": null,
   "id": "59d81ed3-0c45-48c0-9817-ef15d5512c66",
   "metadata": {},
   "outputs": [],
   "source": [
    "d = {'key1':'value1','key2':'value2'}"
   ]
  },
  {
   "cell_type": "code",
   "execution_count": null,
   "id": "7236d15d-8d29-4474-8900-596eccf3194c",
   "metadata": {},
   "outputs": [
    {
     "data": {
      "text/plain": [
       "dict_keys(['key1', 'key2'])"
      ]
     },
     "execution_count": 187,
     "metadata": {},
     "output_type": "execute_result"
    }
   ],
   "source": [
    "d.keys()"
   ]
  },
  {
   "cell_type": "code",
   "execution_count": null,
   "id": "d14fb179-5018-4340-8d48-acb3a204e652",
   "metadata": {},
   "outputs": [
    {
     "data": {
      "text/plain": [
       "dict_values(['value1', 'value2'])"
      ]
     },
     "execution_count": 188,
     "metadata": {},
     "output_type": "execute_result"
    }
   ],
   "source": [
    "d.values()"
   ]
  },
  {
   "cell_type": "code",
   "execution_count": null,
   "id": "44296e62-8488-4fa4-ab58-f702a00e1acd",
   "metadata": {},
   "outputs": [
    {
     "ename": "ValueError",
     "evalue": "too many values to unpack (expected 2)",
     "output_type": "error",
     "traceback": [
      "\u001b[0;31m---------------------------------------------------------------------------\u001b[0m",
      "\u001b[0;31mValueError\u001b[0m                                Traceback (most recent call last)",
      "\u001b[0;32m/var/folders/yq/lxkzwgxd39gbvyfxzc1vrvqr0000gn/T/ipykernel_42101/1965951773.py\u001b[0m in \u001b[0;36m<module>\u001b[0;34m\u001b[0m\n\u001b[0;32m----> 1\u001b[0;31m \u001b[0;32mfor\u001b[0m \u001b[0mk\u001b[0m\u001b[0;34m,\u001b[0m \u001b[0mv\u001b[0m \u001b[0;32min\u001b[0m \u001b[0md\u001b[0m\u001b[0;34m:\u001b[0m\u001b[0;34m\u001b[0m\u001b[0;34m\u001b[0m\u001b[0m\n\u001b[0m\u001b[1;32m      2\u001b[0m     \u001b[0mprint\u001b[0m\u001b[0;34m(\u001b[0m\u001b[0mk\u001b[0m\u001b[0;34m,\u001b[0m\u001b[0mv\u001b[0m\u001b[0;34m)\u001b[0m\u001b[0;34m\u001b[0m\u001b[0;34m\u001b[0m\u001b[0m\n",
      "\u001b[0;31mValueError\u001b[0m: too many values to unpack (expected 2)"
     ]
    }
   ],
   "source": [
    "for k, v in d: \n",
    "    print(k,v)"
   ]
  },
  {
   "cell_type": "code",
   "execution_count": null,
   "id": "98b6aa2a-0dde-471c-a57d-e5977635d51b",
   "metadata": {},
   "outputs": [
    {
     "data": {
      "text/plain": [
       "'value1'"
      ]
     },
     "execution_count": 143,
     "metadata": {},
     "output_type": "execute_result"
    }
   ],
   "source": [
    "d['key1']"
   ]
  },
  {
   "cell_type": "markdown",
   "id": "8f001be3-ab25-43c7-8a22-2eb12d59a638",
   "metadata": {},
   "source": [
    "## Tuples"
   ]
  },
  {
   "cell_type": "code",
   "execution_count": null,
   "id": "067dee2d-5980-4864-b0fc-5ace282e36ff",
   "metadata": {},
   "outputs": [],
   "source": [
    "t = ('a','a','b')\n",
    "# -> data integrity"
   ]
  },
  {
   "cell_type": "code",
   "execution_count": null,
   "id": "8eec05da-4952-4f53-be19-e21574364262",
   "metadata": {},
   "outputs": [
    {
     "data": {
      "text/plain": [
       "2"
      ]
     },
     "execution_count": 147,
     "metadata": {},
     "output_type": "execute_result"
    }
   ],
   "source": [
    "t.count('a')"
   ]
  },
  {
   "cell_type": "code",
   "execution_count": null,
   "id": "04f99da9-e282-4fa9-bd75-608c30a67792",
   "metadata": {},
   "outputs": [
    {
     "data": {
      "text/plain": [
       "1"
      ]
     },
     "execution_count": 153,
     "metadata": {},
     "output_type": "execute_result"
    }
   ],
   "source": [
    "t.index('a',1)"
   ]
  },
  {
   "cell_type": "markdown",
   "id": "e7b507a3-e321-47e0-be71-6bf1d4943e08",
   "metadata": {},
   "source": [
    "## Sets"
   ]
  },
  {
   "cell_type": "code",
   "execution_count": null,
   "id": "c24c61b4-3247-4ffe-890e-ead3f014adc3",
   "metadata": {},
   "outputs": [],
   "source": [
    "s = set()"
   ]
  },
  {
   "cell_type": "code",
   "execution_count": null,
   "id": "c6d7e704-4361-4b7b-9b3e-df2c977ee36e",
   "metadata": {},
   "outputs": [
    {
     "data": {
      "text/plain": [
       "set()"
      ]
     },
     "execution_count": 155,
     "metadata": {},
     "output_type": "execute_result"
    }
   ],
   "source": [
    "s"
   ]
  },
  {
   "cell_type": "code",
   "execution_count": null,
   "id": "374e7fb0-db47-4c4c-84da-0bc2aee62c5e",
   "metadata": {},
   "outputs": [],
   "source": [
    "s.add(1)"
   ]
  },
  {
   "cell_type": "code",
   "execution_count": null,
   "id": "c528f688-f0b4-4bff-97cf-54897524585d",
   "metadata": {},
   "outputs": [
    {
     "data": {
      "text/plain": [
       "{1}"
      ]
     },
     "execution_count": 157,
     "metadata": {},
     "output_type": "execute_result"
    }
   ],
   "source": [
    "s"
   ]
  },
  {
   "cell_type": "code",
   "execution_count": null,
   "id": "d1fc863a-175b-4742-9cd5-16e8e38d7010",
   "metadata": {},
   "outputs": [],
   "source": [
    "s.update([2,3,4])"
   ]
  },
  {
   "cell_type": "code",
   "execution_count": null,
   "id": "92c74ca0-c2b2-4b51-8dbb-5dabafb1621f",
   "metadata": {},
   "outputs": [
    {
     "data": {
      "text/plain": [
       "{1, 2, 3, 4}"
      ]
     },
     "execution_count": 160,
     "metadata": {},
     "output_type": "execute_result"
    }
   ],
   "source": [
    "s"
   ]
  },
  {
   "cell_type": "code",
   "execution_count": null,
   "id": "59da765f-9f6d-4a35-9da2-72c6aa9b0718",
   "metadata": {},
   "outputs": [],
   "source": [
    "s.add(2)"
   ]
  },
  {
   "cell_type": "code",
   "execution_count": null,
   "id": "0a3b2257-1ea1-4180-b14b-a2c3da88b5c1",
   "metadata": {},
   "outputs": [
    {
     "data": {
      "text/plain": [
       "{1, 2, 3, 4}"
      ]
     },
     "execution_count": 162,
     "metadata": {},
     "output_type": "execute_result"
    }
   ],
   "source": [
    "s"
   ]
  },
  {
   "cell_type": "code",
   "execution_count": null,
   "id": "e05dc9eb-7dda-47c1-90a0-2c57451d25ea",
   "metadata": {},
   "outputs": [],
   "source": [
    "s.update({5,6})"
   ]
  },
  {
   "cell_type": "code",
   "execution_count": null,
   "id": "42cca1ea-e977-4a5b-bb6a-cc7d787e3c63",
   "metadata": {},
   "outputs": [
    {
     "data": {
      "text/plain": [
       "{1, 2, 3, 4, 5, 6}"
      ]
     },
     "execution_count": 164,
     "metadata": {},
     "output_type": "execute_result"
    }
   ],
   "source": [
    "s"
   ]
  },
  {
   "cell_type": "code",
   "execution_count": null,
   "id": "8f6d16e8-034e-44e1-9a5c-9da1bf813656",
   "metadata": {},
   "outputs": [],
   "source": [
    "# usefel when casting a list to a set\n",
    "l = [1,1,1,1,1,2,2,2,2,3,3,3,3]"
   ]
  },
  {
   "cell_type": "code",
   "execution_count": null,
   "id": "6e8aa28d-7efe-47da-a8a4-497f6d3f5f7c",
   "metadata": {},
   "outputs": [
    {
     "data": {
      "text/plain": [
       "[1, 2, 3]"
      ]
     },
     "execution_count": 205,
     "metadata": {},
     "output_type": "execute_result"
    }
   ],
   "source": [
    "# initialize array to store unique values\n",
    "unique_l = []\n",
    "\n",
    "# initialize memory variable to store seen values\n",
    "mem = 0\n",
    "\n",
    "# values in list with duplicates\n",
    "for value in l: \n",
    "    # if values hasn't been seen, update memory and append memory\n",
    "    if(value!=mem):\n",
    "        mem = value\n",
    "        unique_l.append(mem)\n",
    "\n",
    "unique_l"
   ]
  },
  {
   "cell_type": "code",
   "execution_count": null,
   "id": "a6f9deb1-c39c-45c1-bce5-d5e750c080bd",
   "metadata": {},
   "outputs": [
    {
     "data": {
      "text/plain": [
       "[1, 2, 3]"
      ]
     },
     "execution_count": 206,
     "metadata": {},
     "output_type": "execute_result"
    }
   ],
   "source": [
    "# the routine above can be done more elegantly with casting\n",
    "list(set(l))"
   ]
  },
  {
   "cell_type": "code",
   "execution_count": null,
   "id": "fcda39f0-0dc2-40a4-994e-3bcd5778a131",
   "metadata": {},
   "outputs": [
    {
     "data": {
      "text/plain": [
       "{1, 2, 3}"
      ]
     },
     "execution_count": 166,
     "metadata": {},
     "output_type": "execute_result"
    }
   ],
   "source": [
    "set(l)"
   ]
  },
  {
   "cell_type": "code",
   "execution_count": null,
   "id": "ebbf85db-eaa0-48fe-967d-63b976c0c2eb",
   "metadata": {},
   "outputs": [
    {
     "data": {
      "text/plain": [
       "[1, 2, 3]"
      ]
     },
     "execution_count": 167,
     "metadata": {},
     "output_type": "execute_result"
    }
   ],
   "source": [
    "list(set(l))"
   ]
  },
  {
   "cell_type": "code",
   "execution_count": null,
   "id": "b89e45ed-d1e8-4368-8597-e7349e69aa23",
   "metadata": {},
   "outputs": [
    {
     "data": {
      "text/plain": [
       "{'M', 'i', 'p', 's'}"
      ]
     },
     "execution_count": 193,
     "metadata": {},
     "output_type": "execute_result"
    }
   ],
   "source": [
    "set('Mississipi')"
   ]
  },
  {
   "cell_type": "markdown",
   "id": "2448eddb-4d4e-4fff-9a00-6f568e30d708",
   "metadata": {},
   "source": [
    "## Booleans"
   ]
  },
  {
   "cell_type": "code",
   "execution_count": null,
   "id": "a475733c-1518-4b58-9944-cf7d60aa5743",
   "metadata": {},
   "outputs": [
    {
     "data": {
      "text/plain": [
       "True"
      ]
     },
     "execution_count": 194,
     "metadata": {},
     "output_type": "execute_result"
    }
   ],
   "source": [
    "True"
   ]
  },
  {
   "cell_type": "code",
   "execution_count": null,
   "id": "d218d883-ece8-458b-b0fe-08e3ed5eded4",
   "metadata": {},
   "outputs": [
    {
     "data": {
      "text/plain": [
       "False"
      ]
     },
     "execution_count": 195,
     "metadata": {},
     "output_type": "execute_result"
    }
   ],
   "source": [
    "False"
   ]
  },
  {
   "cell_type": "code",
   "execution_count": null,
   "id": "a680edcb-7b82-44a7-a7e4-15b1cb8d43f7",
   "metadata": {},
   "outputs": [
    {
     "data": {
      "text/plain": [
       "bool"
      ]
     },
     "execution_count": 196,
     "metadata": {},
     "output_type": "execute_result"
    }
   ],
   "source": [
    "type(False)"
   ]
  },
  {
   "cell_type": "code",
   "execution_count": null,
   "id": "7cead532-aa40-4ace-bd7f-17d0a051d85c",
   "metadata": {},
   "outputs": [],
   "source": [
    "b = None"
   ]
  },
  {
   "cell_type": "code",
   "execution_count": null,
   "id": "5654fcef-3bf5-4c2c-a5af-b04a44473a94",
   "metadata": {},
   "outputs": [],
   "source": [
    "b"
   ]
  },
  {
   "cell_type": "code",
   "execution_count": null,
   "id": "e997232c-9599-48f9-8322-319cfa5488b5",
   "metadata": {},
   "outputs": [
    {
     "data": {
      "text/plain": [
       "NoneType"
      ]
     },
     "execution_count": 209,
     "metadata": {},
     "output_type": "execute_result"
    }
   ],
   "source": [
    "type(b)"
   ]
  },
  {
   "cell_type": "markdown",
   "id": "c3b4abd9-d82b-4252-ad6d-1c8824044d75",
   "metadata": {},
   "source": [
    "## I/O with Basic Files"
   ]
  },
  {
   "cell_type": "code",
   "execution_count": null,
   "id": "2545056d-c183-4556-986b-4b6a73d2d32e",
   "metadata": {},
   "outputs": [
    {
     "name": "stdout",
     "output_type": "stream",
     "text": [
      "Overwriting myfile.md\n"
     ]
    }
   ],
   "source": [
    "%%writefile myfile.md\n",
    "Hello this is a markdown file\n",
    "This is the second line of the file\n",
    "This is the third line of the file"
   ]
  },
  {
   "cell_type": "code",
   "execution_count": null,
   "id": "e57f87f9-5561-48c6-a697-531400f71543",
   "metadata": {},
   "outputs": [],
   "source": [
    "f = open('myfile.md')"
   ]
  },
  {
   "cell_type": "code",
   "execution_count": null,
   "id": "a76306ce-e616-4d0d-93f7-c1db4747b858",
   "metadata": {},
   "outputs": [
    {
     "data": {
      "text/plain": [
       "<_io.TextIOWrapper name='myfile.md' mode='r' encoding='UTF-8'>"
      ]
     },
     "execution_count": 213,
     "metadata": {},
     "output_type": "execute_result"
    }
   ],
   "source": [
    "f"
   ]
  },
  {
   "cell_type": "code",
   "execution_count": null,
   "id": "f9cb2fee-8c2d-422d-b9dc-38d9c1ae3585",
   "metadata": {},
   "outputs": [
    {
     "data": {
      "text/plain": [
       "'/Users/aceituno/Desktop/projects-ss21/python-bootcamp/course-nb'"
      ]
     },
     "execution_count": 214,
     "metadata": {},
     "output_type": "execute_result"
    }
   ],
   "source": [
    "pwd"
   ]
  },
  {
   "cell_type": "code",
   "execution_count": null,
   "id": "6c27862d-73d7-46aa-9df2-8854d910eb58",
   "metadata": {},
   "outputs": [
    {
     "data": {
      "text/plain": [
       "'Hello this is a markdown file\\nThis is the second file\\n'"
      ]
     },
     "execution_count": 217,
     "metadata": {},
     "output_type": "execute_result"
    }
   ],
   "source": [
    "f.read()"
   ]
  },
  {
   "cell_type": "code",
   "execution_count": null,
   "id": "6564709c-5460-431c-9fd8-00eb456c7bfe",
   "metadata": {},
   "outputs": [
    {
     "data": {
      "text/plain": [
       "''"
      ]
     },
     "execution_count": 218,
     "metadata": {},
     "output_type": "execute_result"
    }
   ],
   "source": [
    "f.read()"
   ]
  },
  {
   "cell_type": "code",
   "execution_count": null,
   "id": "d7faae08-a3a7-488b-a473-6a147e7a5e8f",
   "metadata": {},
   "outputs": [
    {
     "data": {
      "text/plain": [
       "0"
      ]
     },
     "execution_count": 227,
     "metadata": {},
     "output_type": "execute_result"
    }
   ],
   "source": [
    "f.seek(0)"
   ]
  },
  {
   "cell_type": "code",
   "execution_count": null,
   "id": "7312fd07-a9f1-45b5-87a5-75d4b2b8c1fe",
   "metadata": {},
   "outputs": [
    {
     "data": {
      "text/plain": [
       "['Hello this is a markdown file\\n', 'This is the second file\\n']"
      ]
     },
     "execution_count": 228,
     "metadata": {},
     "output_type": "execute_result"
    }
   ],
   "source": [
    "f.readlines()"
   ]
  },
  {
   "cell_type": "code",
   "execution_count": null,
   "id": "5a0afbbb-4388-49cc-9a0b-74ab444325da",
   "metadata": {},
   "outputs": [],
   "source": [
    "# we have to close the file to avoid errors outside out notebook\n",
    "f.close()"
   ]
  },
  {
   "cell_type": "code",
   "execution_count": null,
   "id": "2d8e4234-d3a4-457f-9461-c1736cec22aa",
   "metadata": {},
   "outputs": [],
   "source": [
    "with open('myfile.md') as f: \n",
    "    content = f.readlines()"
   ]
  },
  {
   "cell_type": "code",
   "execution_count": null,
   "id": "627e6cd2-251c-44f1-b3e9-456420ac700c",
   "metadata": {},
   "outputs": [
    {
     "data": {
      "text/plain": [
       "['Hello this is a markdown file\\n', 'This is the second file\\n']"
      ]
     },
     "execution_count": 231,
     "metadata": {},
     "output_type": "execute_result"
    }
   ],
   "source": [
    "content"
   ]
  },
  {
   "cell_type": "code",
   "execution_count": null,
   "id": "97893774-ad82-4320-8537-f24ed16f29c4",
   "metadata": {},
   "outputs": [
    {
     "name": "stdout",
     "output_type": "stream",
     "text": [
      "Hello this is a markdown file\n",
      "This is the second line of the file\n",
      "This is the third line of the file\n",
      "this is a new line\n"
     ]
    }
   ],
   "source": [
    "with open('myfile.md','r') as f: \n",
    "    print(f.read())"
   ]
  },
  {
   "cell_type": "code",
   "execution_count": null,
   "id": "4ba261de-dec2-4b85-9ef7-4d6321cf4465",
   "metadata": {},
   "outputs": [],
   "source": [
    "with open('myfile.md','a') as f: \n",
    "    f.write('this is a new line')"
   ]
  },
  {
   "cell_type": "code",
   "execution_count": null,
   "id": "7aa9413a-17b5-4c13-be48-2ec1cef6657d",
   "metadata": {},
   "outputs": [],
   "source": [
    "with open('myfile_readmode.md','w') as f: \n",
    "    f.write('i created this file inside readmode')"
   ]
  },
  {
   "cell_type": "code",
   "execution_count": null,
   "id": "874de6c5-7427-4635-80c6-d282618b5296",
   "metadata": {},
   "outputs": [
    {
     "name": "stdout",
     "output_type": "stream",
     "text": [
      "i created this file inside readmode\n"
     ]
    }
   ],
   "source": [
    "with open('myfile_readmode.md','r') as f: \n",
    "    print(f.read())"
   ]
  },
  {
   "cell_type": "markdown",
   "id": "49e433cf-64c3-438f-98ff-0abe85bedb72",
   "metadata": {},
   "source": [
    "## (Chaining) Comparison Operators"
   ]
  },
  {
   "cell_type": "code",
   "execution_count": null,
   "id": "5a4372dc-a79c-41d5-b100-d46355a62ce1",
   "metadata": {},
   "outputs": [
    {
     "name": "stdout",
     "output_type": "stream",
     "text": [
      "a = 0, b = 0\n",
      "a XOR b = False\n",
      "\n",
      "a = 0, b = 1\n",
      "a XOR b = True\n",
      "\n",
      "a = 1, b = 0\n",
      "a XOR b = True\n",
      "\n",
      "a = 1, b = 1\n",
      "a XOR b = False\n",
      "\n"
     ]
    }
   ],
   "source": [
    "#XOR: \n",
    "# bool(a) != bool(b)\n",
    "# bool(a) ^ bool(b)\n",
    "# from operator import xor; xor(bool(a), bool(b))\n",
    "\n",
    "for a in [0,1]:\n",
    "    for b in [0,1]: \n",
    "        print(f'a = {a}, b = {b}')\n",
    "        print(f'a XOR b = {bool(a) ^ bool(b)}\\n')"
   ]
  },
  {
   "cell_type": "code",
   "execution_count": null,
   "id": "b242d27b-f21f-4668-a121-a637d0f85bfe",
   "metadata": {},
   "outputs": [
    {
     "data": {
      "text/plain": [
       "False"
      ]
     },
     "execution_count": 12,
     "metadata": {},
     "output_type": "execute_result"
    }
   ],
   "source": [
    "True & False"
   ]
  },
  {
   "cell_type": "code",
   "execution_count": null,
   "id": "ac3491be-70e2-4c20-9004-49c3cffeb22a",
   "metadata": {},
   "outputs": [
    {
     "data": {
      "text/plain": [
       "False"
      ]
     },
     "execution_count": 15,
     "metadata": {},
     "output_type": "execute_result"
    }
   ],
   "source": [
    "True and False"
   ]
  },
  {
   "cell_type": "code",
   "execution_count": null,
   "id": "150e8007-2958-4a14-9312-f538ca0ab6e9",
   "metadata": {},
   "outputs": [
    {
     "data": {
      "text/plain": [
       "True"
      ]
     },
     "execution_count": 13,
     "metadata": {},
     "output_type": "execute_result"
    }
   ],
   "source": [
    "True | False"
   ]
  },
  {
   "cell_type": "code",
   "execution_count": null,
   "id": "cb946caf-67cd-407a-b6a0-6da32cb325da",
   "metadata": {},
   "outputs": [
    {
     "data": {
      "text/plain": [
       "True"
      ]
     },
     "execution_count": 16,
     "metadata": {},
     "output_type": "execute_result"
    }
   ],
   "source": [
    "True or False"
   ]
  },
  {
   "cell_type": "code",
   "execution_count": null,
   "id": "7098e679-c33e-43ac-9ee2-4756d2f0fae2",
   "metadata": {},
   "outputs": [],
   "source": [
    "a = not False & False"
   ]
  },
  {
   "cell_type": "code",
   "execution_count": null,
   "id": "1156124e-b896-44c3-aca6-e6dfe79ae5e6",
   "metadata": {},
   "outputs": [
    {
     "data": {
      "text/plain": [
       "True"
      ]
     },
     "execution_count": 31,
     "metadata": {},
     "output_type": "execute_result"
    }
   ],
   "source": [
    "a"
   ]
  },
  {
   "cell_type": "code",
   "execution_count": null,
   "id": "3ed02350-827b-4398-84e9-0798651659d9",
   "metadata": {},
   "outputs": [],
   "source": [
    "a = !True & True"
   ]
  },
  {
   "cell_type": "code",
   "execution_count": null,
   "id": "ca7c303f-1414-4588-812f-a87f7b236bf3",
   "metadata": {},
   "outputs": [
    {
     "data": {
      "text/plain": [
       "[]"
      ]
     },
     "execution_count": 29,
     "metadata": {},
     "output_type": "execute_result"
    }
   ],
   "source": [
    "a"
   ]
  },
  {
   "cell_type": "code",
   "execution_count": null,
   "id": "3ab56853-90e5-496b-91d6-62d47579f622",
   "metadata": {},
   "outputs": [
    {
     "data": {
      "text/plain": [
       "False"
      ]
     },
     "execution_count": 18,
     "metadata": {},
     "output_type": "execute_result"
    }
   ],
   "source": [
    "not True and False"
   ]
  },
  {
   "cell_type": "markdown",
   "id": "682a3b21-6fb9-4b90-9e6f-98f2d30ed114",
   "metadata": {},
   "source": [
    "## Bytes"
   ]
  },
  {
   "cell_type": "code",
   "execution_count": null,
   "id": "1f84f209-945a-4949-8e71-7f84544c3de3",
   "metadata": {},
   "outputs": [],
   "source": [
    "a = bytes('Häße','utf-8')\n",
    "# built-in byte-type can only handle ASCII codes"
   ]
  },
  {
   "cell_type": "code",
   "execution_count": null,
   "id": "7543eaa6-11e1-4ca4-b08f-c40d8ccfbc88",
   "metadata": {},
   "outputs": [
    {
     "name": "stdout",
     "output_type": "stream",
     "text": [
      "72\n",
      "195\n",
      "164\n",
      "195\n",
      "159\n",
      "101\n"
     ]
    }
   ],
   "source": [
    "for byte in a: \n",
    "    print(byte)"
   ]
  },
  {
   "cell_type": "markdown",
   "id": "d5522164-9f98-47ac-8151-b903eb88750e",
   "metadata": {},
   "source": [
    "## Number as Iterable"
   ]
  },
  {
   "cell_type": "code",
   "execution_count": null,
   "id": "526b6baa-92fb-4226-a9dc-4ab81cc2945e",
   "metadata": {},
   "outputs": [],
   "source": [
    "c = 123456789"
   ]
  },
  {
   "cell_type": "code",
   "execution_count": null,
   "id": "b016cddb-22b0-4886-a46e-719e09d78145",
   "metadata": {},
   "outputs": [],
   "source": [
    "a = [d for d in str(c)]"
   ]
  },
  {
   "cell_type": "code",
   "execution_count": null,
   "id": "fa515b82-e453-4cda-baa2-10fc86903e07",
   "metadata": {},
   "outputs": [],
   "source": [
    "a = [int(d) for d in str(c)]"
   ]
  },
  {
   "cell_type": "code",
   "execution_count": null,
   "id": "a2ad4e41-eacd-45ec-af4e-590f66367b5a",
   "metadata": {},
   "outputs": [
    {
     "data": {
      "text/plain": [
       "[1, 2, 3, 4, 5, 6, 7, 8, 9]"
      ]
     },
     "execution_count": 8,
     "metadata": {},
     "output_type": "execute_result"
    }
   ],
   "source": [
    "a"
   ]
  },
  {
   "cell_type": "markdown",
   "id": "0b203eea-cb18-4c80-8a0c-a6dc07c87dcf",
   "metadata": {},
   "source": [
    "DONE!"
   ]
  }
 ],
 "metadata": {
  "kernelspec": {
   "display_name": "Python 3 (ipykernel)",
   "language": "python",
   "name": "python3"
  },
  "language_info": {
   "codemirror_mode": {
    "name": "ipython",
    "version": 3
   },
   "file_extension": ".py",
   "mimetype": "text/x-python",
   "name": "python",
   "nbconvert_exporter": "python",
   "pygments_lexer": "ipython3",
   "version": "3.9.6"
  },
  "toc-autonumbering": true
 },
 "nbformat": 4,
 "nbformat_minor": 5
}
