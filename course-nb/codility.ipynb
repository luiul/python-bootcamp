{
 "cells": [
  {
   "cell_type": "code",
   "execution_count": 1,
   "id": "ca65c438-9f94-48ed-a9f3-3d25bcd5b07b",
   "metadata": {},
   "outputs": [
    {
     "data": {
      "text/plain": [
       "'0b10'"
      ]
     },
     "execution_count": 1,
     "metadata": {},
     "output_type": "execute_result"
    }
   ],
   "source": [
    "bin(2)"
   ]
  },
  {
   "cell_type": "code",
   "execution_count": null,
   "id": "ef5d5d3a-67cb-4deb-bf4f-983b884c60b2",
   "metadata": {},
   "outputs": [],
   "source": [
    "a = complex(1,1)"
   ]
  },
  {
   "cell_type": "code",
   "execution_count": null,
   "id": "4c56bd82-39e1-4024-b8c4-46e180f4256c",
   "metadata": {},
   "outputs": [
    {
     "data": {
      "text/plain": [
       "1.4142135623730951"
      ]
     },
     "execution_count": 15,
     "metadata": {},
     "output_type": "execute_result"
    }
   ],
   "source": [
    "abs(a)"
   ]
  },
  {
   "cell_type": "code",
   "execution_count": null,
   "id": "d6f3a6ac-fe2a-465b-917d-602439cb3c8c",
   "metadata": {},
   "outputs": [
    {
     "data": {
      "text/plain": [
       "(5, 1)"
      ]
     },
     "execution_count": 21,
     "metadata": {},
     "output_type": "execute_result"
    }
   ],
   "source": [
    "divmod(11,2)"
   ]
  },
  {
   "cell_type": "code",
   "execution_count": null,
   "id": "9c661506-b9d7-44cc-bf07-729d844608f9",
   "metadata": {},
   "outputs": [
    {
     "data": {
      "text/plain": [
       "5"
      ]
     },
     "execution_count": 29,
     "metadata": {},
     "output_type": "execute_result"
    }
   ],
   "source": [
    "int(11/2)"
   ]
  },
  {
   "cell_type": "code",
   "execution_count": null,
   "id": "d3218eac-5cc2-429e-92f7-d2959dcdac46",
   "metadata": {},
   "outputs": [],
   "source": [
    "v = ['a','b','c']"
   ]
  },
  {
   "cell_type": "code",
   "execution_count": null,
   "id": "06461038-b3fa-4f80-9c08-b6a35b565f49",
   "metadata": {},
   "outputs": [
    {
     "name": "stdout",
     "output_type": "stream",
     "text": [
      "0 a\n",
      "1 b\n",
      "2 c\n"
     ]
    }
   ],
   "source": [
    "for i, j in enumerate(v): \n",
    "    print(i,j)"
   ]
  },
  {
   "cell_type": "code",
   "execution_count": null,
   "id": "c2f145ce-3ea9-46d3-bb1e-e4e53e16699e",
   "metadata": {},
   "outputs": [],
   "source": [
    "A = [1,2,3,4,6]"
   ]
  },
  {
   "cell_type": "code",
   "execution_count": null,
   "id": "0b52c1eb-2d84-4571-b343-3e889da9bec8",
   "metadata": {},
   "outputs": [],
   "source": [
    "A = set(A)"
   ]
  },
  {
   "cell_type": "code",
   "execution_count": null,
   "id": "621f5cec-fd33-4a5d-900c-d60ba3ef8d00",
   "metadata": {},
   "outputs": [
    {
     "data": {
      "text/plain": [
       "-1"
      ]
     },
     "execution_count": 154,
     "metadata": {},
     "output_type": "execute_result"
    }
   ],
   "source": [
    "max(A)"
   ]
  },
  {
   "cell_type": "code",
   "execution_count": null,
   "id": "cacad0a7-fdd1-4afd-be25-54eaf4aef119",
   "metadata": {},
   "outputs": [],
   "source": [
    "B = set(range(1,max(A)+1))"
   ]
  },
  {
   "cell_type": "code",
   "execution_count": null,
   "id": "c020e382-114c-48fe-a383-e010946e2bfc",
   "metadata": {},
   "outputs": [
    {
     "data": {
      "text/plain": [
       "{1, 2, 3, 4, 5, 6}"
      ]
     },
     "execution_count": 143,
     "metadata": {},
     "output_type": "execute_result"
    }
   ],
   "source": [
    "B"
   ]
  },
  {
   "cell_type": "code",
   "execution_count": null,
   "id": "209305a2-c8fd-40a4-a87a-e679b74309b2",
   "metadata": {},
   "outputs": [],
   "source": [
    "def solution(A): \n",
    "    A = set(A)\n",
    "    if max(A) < 0: \n",
    "        return 1\n",
    "    B = set(range(1,max(A)+1))\n",
    "    C = B-A \n",
    "    if bool(C): \n",
    "        return min(C)\n",
    "    else:\n",
    "        return max(A)+1"
   ]
  },
  {
   "cell_type": "code",
   "execution_count": null,
   "id": "8e71684a-2031-48c6-813e-1f0ea2bd7381",
   "metadata": {},
   "outputs": [],
   "source": [
    "def solution(A):\n",
    "    A = set(A)\n",
    "    ans = 1\n",
    "    while ans in A:\n",
    "       ans += 1\n",
    "    return ans"
   ]
  },
  {
   "cell_type": "code",
   "execution_count": null,
   "id": "d35f5a14-8c62-4d61-998d-4ca1f1387df0",
   "metadata": {},
   "outputs": [
    {
     "data": {
      "text/plain": [
       "5"
      ]
     },
     "execution_count": 185,
     "metadata": {},
     "output_type": "execute_result"
    }
   ],
   "source": [
    "solution(A)"
   ]
  },
  {
   "cell_type": "code",
   "execution_count": null,
   "id": "66c5d011-6ad6-4ac0-a8ae-d33018dcc68d",
   "metadata": {},
   "outputs": [
    {
     "data": {
      "text/plain": [
       "[1, 2, 3, 4, 6]"
      ]
     },
     "execution_count": 183,
     "metadata": {},
     "output_type": "execute_result"
    }
   ],
   "source": [
    "A"
   ]
  },
  {
   "cell_type": "code",
   "execution_count": null,
   "id": "6b4b1d8d-03f5-4e81-9b0d-91ec67603b35",
   "metadata": {},
   "outputs": [],
   "source": [
    "tuple "
   ]
  },
  {
   "cell_type": "code",
   "execution_count": null,
   "id": "dfb91642-66ad-4e14-be5f-bfce5f47f040",
   "metadata": {},
   "outputs": [
    {
     "data": {
      "text/plain": [
       "\"'h\\\\xf6llo'\""
      ]
     },
     "execution_count": 162,
     "metadata": {},
     "output_type": "execute_result"
    }
   ],
   "source": [
    "ascii('höllo')"
   ]
  },
  {
   "cell_type": "code",
   "execution_count": null,
   "id": "226a1efe-5864-40fe-bf2b-60663a90e590",
   "metadata": {},
   "outputs": [
    {
     "data": {
      "text/plain": [
       "True"
      ]
     },
     "execution_count": 165,
     "metadata": {},
     "output_type": "execute_result"
    }
   ],
   "source": [
    "\n",
    "bool({1})"
   ]
  },
  {
   "cell_type": "code",
   "execution_count": null,
   "id": "1171f57d-eefa-4ad0-8202-734da51781c6",
   "metadata": {},
   "outputs": [
    {
     "name": "stdout",
     "output_type": "stream",
     "text": [
      "4\n"
     ]
    }
   ],
   "source": [
    "gap = 0\n",
    "for g in bin(529).split('1')[1:-1]:\n",
    "    if len(g) > gap:\n",
    "        gap = len(g)\n",
    "print(gap)"
   ]
  },
  {
   "cell_type": "code",
   "execution_count": null,
   "id": "2cbec18d-b3b2-485c-b717-72ecab753962",
   "metadata": {},
   "outputs": [],
   "source": [
    "def solution(N): \n",
    "    gap = 0\n",
    "    for g in bin(N).split('1')[1:-1]:\n",
    "        if len(g) > gap:\n",
    "            gap = len(g)\n",
    "    return gap"
   ]
  },
  {
   "cell_type": "code",
   "execution_count": null,
   "id": "92499904-1263-4058-be64-1832064d14ed",
   "metadata": {},
   "outputs": [
    {
     "data": {
      "text/plain": [
       "5"
      ]
     },
     "execution_count": 225,
     "metadata": {},
     "output_type": "execute_result"
    }
   ],
   "source": [
    "solution(1041)"
   ]
  },
  {
   "cell_type": "code",
   "execution_count": null,
   "id": "c2d21ecc-4e3a-44c8-9b9e-7a562785e8e3",
   "metadata": {},
   "outputs": [
    {
     "name": "stdout",
     "output_type": "stream",
     "text": [
      "5\n",
      "3\n"
     ]
    }
   ],
   "source": [
    "for g in bin(1041).split('1')[1:-1]:\n",
    "    print(len(g))"
   ]
  },
  {
   "cell_type": "code",
   "execution_count": null,
   "id": "ef36f36c-bf4b-4f21-ae3a-9811f4a53e81",
   "metadata": {},
   "outputs": [],
   "source": [
    "def solution(A, K): \n",
    "    if bool(A): \n",
    "        return A[-K%len(A):] + A[:-K%len(A)]\n",
    "    else: \n",
    "        return A"
   ]
  },
  {
   "cell_type": "code",
   "execution_count": null,
   "id": "2f33e8d8-7755-4451-b3a5-9b7f9a52061c",
   "metadata": {},
   "outputs": [
    {
     "data": {
      "text/plain": [
       "[]"
      ]
     },
     "execution_count": 270,
     "metadata": {},
     "output_type": "execute_result"
    }
   ],
   "source": [
    "A = []\n",
    "solution(A,0)"
   ]
  },
  {
   "cell_type": "code",
   "execution_count": null,
   "id": "ce4113b3-efbe-4103-b287-870a5499f109",
   "metadata": {},
   "outputs": [],
   "source": [
    "A = []"
   ]
  },
  {
   "cell_type": "code",
   "execution_count": null,
   "id": "bdd246bd-3a5f-4d52-a4cb-e14a394b36c6",
   "metadata": {},
   "outputs": [
    {
     "data": {
      "text/plain": [
       "False"
      ]
     },
     "execution_count": 266,
     "metadata": {},
     "output_type": "execute_result"
    }
   ],
   "source": [
    "bool(A)"
   ]
  },
  {
   "cell_type": "code",
   "execution_count": null,
   "id": "4ff24b86-edab-4eb7-bdff-efdcc3d7c545",
   "metadata": {},
   "outputs": [
    {
     "data": {
      "text/plain": [
       "[2]"
      ]
     },
     "execution_count": 259,
     "metadata": {},
     "output_type": "execute_result"
    }
   ],
   "source": [
    "A[-1%len(A):]"
   ]
  },
  {
   "cell_type": "code",
   "execution_count": null,
   "id": "891e87bd-b715-45a9-8761-d734f80be4f8",
   "metadata": {},
   "outputs": [
    {
     "data": {
      "text/plain": [
       "[0, 1]"
      ]
     },
     "execution_count": 252,
     "metadata": {},
     "output_type": "execute_result"
    }
   ],
   "source": [
    "A[:-1]"
   ]
  },
  {
   "cell_type": "code",
   "execution_count": null,
   "id": "e2d9fc19-46ff-479a-95de-f3dc020e54f1",
   "metadata": {},
   "outputs": [],
   "source": [
    "def solution(A): \n",
    "    seen = set()\n",
    "    for i in A:\n",
    "        if i not in seen: \n",
    "    fasd        seen.add(i)\n",
    "        else: \n",
    "            seen.remove(i)\n",
    "    print(list(seen)[0])    "
   ]
  },
  {
   "cell_type": "code",
   "execution_count": null,
   "id": "71600710-a68e-4499-a033-79f4e688ba81",
   "metadata": {},
   "outputs": [],
   "source": [
    "A = [9,3,9,3,9,7,9]"
   ]
  },
  {
   "cell_type": "code",
   "execution_count": null,
   "id": "abf947ff-8e90-4514-a748-3763b94d25a0",
   "metadata": {},
   "outputs": [
    {
     "name": "stdout",
     "output_type": "stream",
     "text": [
      "7\n"
     ]
    }
   ],
   "source": [
    "solution(A)"
   ]
  },
  {
   "cell_type": "code",
   "execution_count": null,
   "id": "1a01969e-62ac-400c-a76e-4963a354aefe",
   "metadata": {},
   "outputs": [],
   "source": [
    "def solution(A):\n",
    "    A = set(A)\n",
    "    missing = 1\n",
    "    while missing in A: \n",
    "        missing += 1\n",
    "    return missing"
   ]
  },
  {
   "cell_type": "code",
   "execution_count": null,
   "id": "c53e9e63-3f9f-4263-be33-05a4e057a60d",
   "metadata": {},
   "outputs": [],
   "source": [
    "A = [2,3,1,5]"
   ]
  },
  {
   "cell_type": "code",
   "execution_count": null,
   "id": "2322dcfe-b0c5-4567-b3f6-6458cedb97e1",
   "metadata": {},
   "outputs": [
    {
     "data": {
      "text/plain": [
       "4"
      ]
     },
     "execution_count": 308,
     "metadata": {},
     "output_type": "execute_result"
    }
   ],
   "source": [
    "solution(A)"
   ]
  },
  {
   "cell_type": "code",
   "execution_count": null,
   "id": "d294b5bb-c815-4863-b4a2-6757ec741ffa",
   "metadata": {},
   "outputs": [],
   "source": [
    "A = [3,1,2,4,3]"
   ]
  },
  {
   "cell_type": "code",
   "execution_count": null,
   "id": "60059b77-1bf1-421d-8766-499d5eb35bb1",
   "metadata": {},
   "outputs": [
    {
     "data": {
      "text/plain": [
       "[3]"
      ]
     },
     "execution_count": 319,
     "metadata": {},
     "output_type": "execute_result"
    }
   ],
   "source": [
    "A[:1]"
   ]
  },
  {
   "cell_type": "code",
   "execution_count": null,
   "id": "dea4107f-d0bd-4892-bb83-60c5219a9f76",
   "metadata": {},
   "outputs": [
    {
     "data": {
      "text/plain": [
       "[1, 2, 4, 3]"
      ]
     },
     "execution_count": 320,
     "metadata": {},
     "output_type": "execute_result"
    }
   ],
   "source": [
    "A[1:]"
   ]
  },
  {
   "cell_type": "code",
   "execution_count": null,
   "id": "abe514a8-d027-42e7-a6fb-ddefd021c246",
   "metadata": {},
   "outputs": [],
   "source": [
    "def solution(A): \n",
    "    min_d = abs(sum(A[:1]) - sum(A[1:]))\n",
    "    for p in range(2,len(A)): \n",
    "        d = abs(sum(A[:p]) - sum(A[p:]))\n",
    "        if d < min_d: \n",
    "            min_d = d\n",
    "    \n",
    "    return min_d"
   ]
  },
  {
   "cell_type": "code",
   "execution_count": null,
   "id": "3f5ffd3a-04c0-4464-a2eb-75b7b05618b5",
   "metadata": {},
   "outputs": [],
   "source": [
    "def solution(A): \n",
    "    l = A[0]\n",
    "    r = sum(A[1:])\n",
    "    min_d = abs(l-r)\n",
    "        \n",
    "    for p in range(1,len(A)): \n",
    "        d = abs(l-r)\n",
    "        if d < min_d: \n",
    "            min_d = d\n",
    "        l += A[p]\n",
    "        r -= A[p]\n",
    "    \n",
    "    return min_d"
   ]
  },
  {
   "cell_type": "code",
   "execution_count": null,
   "id": "e33138e0-dea3-464b-8ece-d59a358b5cae",
   "metadata": {},
   "outputs": [
    {
     "data": {
      "text/plain": [
       "1"
      ]
     },
     "execution_count": 342,
     "metadata": {},
     "output_type": "execute_result"
    }
   ],
   "source": [
    "solution(A)"
   ]
  },
  {
   "cell_type": "code",
   "execution_count": null,
   "id": "cc44794d-0d6b-4bb3-a7a6-31c7355a4e0e",
   "metadata": {},
   "outputs": [],
   "source": [
    "def solution(X, A):\n",
    "    r = set(range(1,X+1))\n",
    "    \n",
    "    for i, v in enumerate(A):\n",
    "        if v in r: \n",
    "            r.remove(v)\n",
    "        if not bool(r):\n",
    "            return i\n",
    "        \n",
    "    return -1"
   ]
  },
  {
   "cell_type": "code",
   "execution_count": null,
   "id": "38101893-8e98-4b80-9830-aa04f28b0295",
   "metadata": {},
   "outputs": [],
   "source": [
    "A = [1,3,1,4,2,3,4,4]\n",
    "X = 5"
   ]
  },
  {
   "cell_type": "code",
   "execution_count": null,
   "id": "9d6a17c1-8064-448b-b553-226ed04638f0",
   "metadata": {},
   "outputs": [
    {
     "data": {
      "text/plain": [
       "-1"
      ]
     },
     "execution_count": 380,
     "metadata": {},
     "output_type": "execute_result"
    }
   ],
   "source": [
    "solution(X,A)"
   ]
  },
  {
   "cell_type": "code",
   "execution_count": null,
   "id": "eb483c4b-367e-41a7-a1b6-e356bfbfc772",
   "metadata": {},
   "outputs": [],
   "source": [
    "def solution(A): \n",
    "    p = set(range(1,len(A)+1))\n",
    "    A = set(A)\n",
    "    return int(A == p)"
   ]
  },
  {
   "cell_type": "code",
   "execution_count": null,
   "id": "f34a5115-6716-47c1-81e5-86883a6e077d",
   "metadata": {},
   "outputs": [],
   "source": [
    "A = [1,2,3,4]"
   ]
  },
  {
   "cell_type": "code",
   "execution_count": null,
   "id": "6c665792-8c8a-4746-a7d3-953aa207d6b5",
   "metadata": {},
   "outputs": [
    {
     "data": {
      "text/plain": [
       "1"
      ]
     },
     "execution_count": 391,
     "metadata": {},
     "output_type": "execute_result"
    }
   ],
   "source": [
    "solution(A)"
   ]
  },
  {
   "cell_type": "code",
   "execution_count": null,
   "id": "3adc49f6-8b64-45be-98cc-4fe52ce63320",
   "metadata": {},
   "outputs": [],
   "source": [
    "c[3] += 1"
   ]
  },
  {
   "cell_type": "code",
   "execution_count": null,
   "id": "70ea564d-8e9e-471c-9aaf-7907688d0656",
   "metadata": {},
   "outputs": [
    {
     "data": {
      "text/plain": [
       "[0, 0, 1, 2, 0]"
      ]
     },
     "execution_count": 509,
     "metadata": {},
     "output_type": "execute_result"
    }
   ],
   "source": [
    "c"
   ]
  },
  {
   "cell_type": "code",
   "execution_count": null,
   "id": "5ebca1c8-3002-4d7b-aca1-b65adfec73b1",
   "metadata": {},
   "outputs": [],
   "source": [
    "A = [3,4,4,6,1,4,4]\n",
    "N = 5"
   ]
  },
  {
   "cell_type": "code",
   "execution_count": null,
   "id": "c1b4207f-0bf4-4815-9b4c-4a4f3a549936",
   "metadata": {},
   "outputs": [],
   "source": [
    "def solution(N,A):\n",
    "    counters = [0]*N\n",
    "    max_counter = 0\n",
    "    max_to_set = 0\n",
    "\n",
    "    for v in A:\n",
    "        x = v-1\n",
    "        # lazy max function\n",
    "        if x == N:\n",
    "            max_to_set = max_counter\n",
    "        # increment function\n",
    "        if 0 <= x < N:\n",
    "            # update counter value if (a) not maxxed or (b) maxxed previously\n",
    "            counters[x] = max(counters[x]+1, max_to_set+1)\n",
    "            # update lazy max function\n",
    "            max_counter = max(counters[x],max_counter)\n",
    "\n",
    "    result = list(map(lambda c : max(c,max_to_set), counters))\n",
    "    return result"
   ]
  },
  {
   "cell_type": "code",
   "execution_count": null,
   "id": "6b5fc4f5-5faa-46a9-a686-ce3c84f1a33d",
   "metadata": {},
   "outputs": [
    {
     "data": {
      "text/plain": [
       "[3, 2, 2, 4, 2]"
      ]
     },
     "execution_count": 535,
     "metadata": {},
     "output_type": "execute_result"
    }
   ],
   "source": [
    "solution(N,A)"
   ]
  },
  {
   "cell_type": "code",
   "execution_count": null,
   "id": "3bed69ba-5b84-4391-b408-a97395b356e8",
   "metadata": {},
   "outputs": [],
   "source": [
    "A = [1, 3, 6, 4, 1, 2]"
   ]
  },
  {
   "cell_type": "code",
   "execution_count": null,
   "id": "630f2912-ff2c-44d1-9904-94d78e564d34",
   "metadata": {},
   "outputs": [],
   "source": [
    "def solution(A): \n",
    "    A = set(A)\n",
    "    ans = 1 \n",
    "    while ans in A: \n",
    "        ans+=1\n",
    "    return ans"
   ]
  },
  {
   "cell_type": "code",
   "execution_count": null,
   "id": "92c813c7-07b4-4979-9dbd-f31ed0318c56",
   "metadata": {},
   "outputs": [
    {
     "data": {
      "text/plain": [
       "5"
      ]
     },
     "execution_count": 540,
     "metadata": {},
     "output_type": "execute_result"
    }
   ],
   "source": [
    "solution(A)"
   ]
  },
  {
   "cell_type": "code",
   "execution_count": null,
   "id": "89a9341f-aa3a-4ce0-9bc2-264ca5d5d4cd",
   "metadata": {},
   "outputs": [],
   "source": [
    "A = [0,1,0,1,1]"
   ]
  },
  {
   "cell_type": "code",
   "execution_count": null,
   "id": "ae7591fa-d050-4029-b5f9-c9c050588bda",
   "metadata": {},
   "outputs": [],
   "source": [
    "def solution(A): \n",
    "    counter = 0\n",
    "    for i, v in enumerate(A): \n",
    "        if i == len(A): \n",
    "            break\n",
    "        if v == 0: \n",
    "            counter = counter + sum(A[i:])\n",
    "            if counter > 10**9: \n",
    "                counter = -1 \n",
    "                break\n",
    "    return counter"
   ]
  },
  {
   "cell_type": "code",
   "execution_count": null,
   "id": "af0c5407-74a9-4e0e-b86c-fb138e2e1f16",
   "metadata": {},
   "outputs": [],
   "source": [
    "def solution(A):\n",
    "    n = len(A)\n",
    "    p, max_p = prefix_sum(A)\n",
    "    \n",
    "    if max_p > 10**9: \n",
    "        return -1 \n",
    "    \n",
    "    counter = 0 \n",
    "    for i in range(0,n): \n",
    "        if A[i]==0: \n",
    "            counter += count_total(p,i,n-1)\n",
    "            if counter > 10**9: \n",
    "                return -1\n",
    "    \n",
    "    return counter\n",
    "            \n",
    "    \n",
    "def prefix_sum(A): \n",
    "    n = len(A)\n",
    "    p = [0]*(n+1)\n",
    "    for i in range(1,n+1): \n",
    "        p[i]=p[i-1]+A[i-1]\n",
    "    return (p, max(p))\n",
    "\n",
    "def count_total(p,i,x): \n",
    "    return int(p[x+1] - p[i])"
   ]
  },
  {
   "cell_type": "code",
   "execution_count": null,
   "id": "99ff945e-bbc1-425f-acac-d941753756c4",
   "metadata": {},
   "outputs": [
    {
     "data": {
      "text/plain": [
       "5"
      ]
     },
     "execution_count": 630,
     "metadata": {},
     "output_type": "execute_result"
    }
   ],
   "source": [
    "solution(A)"
   ]
  },
  {
   "cell_type": "code",
   "execution_count": null,
   "id": "88bd463d-052d-4d7a-8c9d-33e9cfba2234",
   "metadata": {},
   "outputs": [],
   "source": [
    "def solution(A, B, K):\n",
    "    counter = 0 \n",
    "    for i in range(A,B+1): \n",
    "        if i % K == 0: \n",
    "            counter+=1\n",
    "    return counter"
   ]
  },
  {
   "cell_type": "code",
   "execution_count": null,
   "id": "1065afa6-437e-4d17-92b3-98d6aa394366",
   "metadata": {},
   "outputs": [
    {
     "data": {
      "text/plain": [
       "20"
      ]
     },
     "execution_count": 639,
     "metadata": {},
     "output_type": "execute_result"
    }
   ],
   "source": [
    "solution(11, 345, 17)"
   ]
  },
  {
   "cell_type": "code",
   "execution_count": null,
   "id": "20412c47-d904-4899-a54e-4e7e182f362f",
   "metadata": {},
   "outputs": [],
   "source": [
    "def solution(S, P, Q):\n",
    "    res = []\n",
    "    for i in range(len(P)):\n",
    "        if 'A' in S[P[i]:Q[i]+1]:\n",
    "            res.append(1)\n",
    "        elif 'C' in S[P[i]:Q[i]+1]:\n",
    "            res.append(2)\n",
    "        elif 'G' in S[P[i]:Q[i]+1]:\n",
    "            res.append(3)\n",
    "        else:\n",
    "            res.append(4)\n",
    "    return res"
   ]
  },
  {
   "cell_type": "code",
   "execution_count": null,
   "id": "4d66bee9-910e-431e-b325-96e5670e08a4",
   "metadata": {},
   "outputs": [],
   "source": [
    "S = 'CAGCCTA'\n",
    "P = [2,5,0]\n",
    "Q = [4,5,6]\n",
    "w = {'A':1, 'C':2, 'G':3, 'T':4}"
   ]
  },
  {
   "cell_type": "code",
   "execution_count": null,
   "id": "873ec759-7854-4f9c-af49-932120a48f26",
   "metadata": {},
   "outputs": [
    {
     "data": {
      "text/plain": [
       "[2, 4, 1]"
      ]
     },
     "execution_count": 758,
     "metadata": {},
     "output_type": "execute_result"
    }
   ],
   "source": [
    "solution(S,P,Q)"
   ]
  },
  {
   "cell_type": "code",
   "execution_count": null,
   "id": "fa93a331-eba8-4a80-b49e-550c9f6a2089",
   "metadata": {},
   "outputs": [],
   "source": [
    "SI = [char for char in S]"
   ]
  },
  {
   "cell_type": "code",
   "execution_count": null,
   "id": "b1fea10e-89b1-4dad-afc8-39ece429dd1c",
   "metadata": {},
   "outputs": [
    {
     "data": {
      "text/plain": [
       "['C', 'A', 'G', 'C', 'C', 'T', 'A']"
      ]
     },
     "execution_count": 706,
     "metadata": {},
     "output_type": "execute_result"
    }
   ],
   "source": [
    "SI"
   ]
  },
  {
   "cell_type": "code",
   "execution_count": null,
   "id": "7ac77c08-a728-41c4-850b-43f01de2d146",
   "metadata": {},
   "outputs": [],
   "source": [
    "WS = list(map(w.get, SI))"
   ]
  },
  {
   "cell_type": "code",
   "execution_count": null,
   "id": "e378be3a-c34b-48e2-b30a-23e9d112ade5",
   "metadata": {},
   "outputs": [],
   "source": [
    "A = [4,2,2,5,1,5,8]"
   ]
  },
  {
   "cell_type": "code",
   "execution_count": null,
   "id": "ed7437fc-cc71-461d-ba19-ed3fcc3763b1",
   "metadata": {},
   "outputs": [],
   "source": [
    "def solution(A): \n",
    "    smallest_slice = (A[0]+A[1])/2\n",
    "    smallest_slice_index = 0 \n",
    "    \n",
    "    for i in range(1,len(A[:-1])): \n",
    "        slice_value = (A[i]+A[i+1])/2\n",
    "        if slice_value < smallest_slice: \n",
    "            smallest_slice = slice_value\n",
    "            smallest_slice_index = i\n",
    "              \n",
    "    return smallest_slice_index    "
   ]
  },
  {
   "cell_type": "code",
   "execution_count": null,
   "id": "ed4f62c2-d3f5-4232-a467-149a9cda46d0",
   "metadata": {},
   "outputs": [
    {
     "data": {
      "text/plain": [
       "1"
      ]
     },
     "execution_count": 777,
     "metadata": {},
     "output_type": "execute_result"
    }
   ],
   "source": [
    "solution(A)"
   ]
  },
  {
   "cell_type": "code",
   "execution_count": null,
   "id": "033b5245-e8b8-4c61-9d16-ca5b94896a6b",
   "metadata": {},
   "outputs": [],
   "source": [
    "def solution(A):\n",
    "    n = len(A)\n",
    "    \n",
    "    # calculate prefix sum \n",
    "    p = [0]*(n+1)\n",
    "    for i in range(1,n+1):\n",
    "        p[i]=p[i-1]+A[i-1]\n",
    "        \n",
    "    avg_with_prev = 0 \n",
    "    \n",
    "    two_slice_avg = 0 \n",
    "    \n",
    "    # Initialize variables at the first possible slice\n",
    "    # Compute min avg of slice that ends at 1st element\n",
    "    # -- Index\n",
    "    left_index = 0 \n",
    "    min_left_index = left_index\n",
    "    # -- Avg values\n",
    "    avg_here = (A[left_index]+A[left_index+1])/2\n",
    "    min_avg = avg_here\n",
    "    \n",
    "    # Find min avg of every slice that ends at i-th element, \n",
    "    # starting with the slice that ends at 2nd element\n",
    "    for i in range(2,n): \n",
    "        # avg of A[left_index : i]\n",
    "        avg_with_prev = (p[i+1]-p[left_index])/(i-left_index+1)\n",
    "        two_slice_avg = (A[i-1]+A[i])/2\n",
    "        \n",
    "        if two_slice_avg < avg_with_prev: \n",
    "            avg_here = two_slice_avg\n",
    "            left_index = i -1 \n",
    "        else: \n",
    "            avg_here = avg_with_prev\n",
    "            \n",
    "        if avg_here < min_avg: \n",
    "            min_avg = avg_here\n",
    "            min_left_index = left_index\n",
    "    \n",
    "    return min_left_index"
   ]
  },
  {
   "cell_type": "code",
   "execution_count": null,
   "id": "fe211c7a-0f62-43d3-a665-feca551d801e",
   "metadata": {},
   "outputs": [
    {
     "data": {
      "text/plain": [
       "1"
      ]
     },
     "execution_count": 796,
     "metadata": {},
     "output_type": "execute_result"
    }
   ],
   "source": [
    "solution(A)"
   ]
  },
  {
   "cell_type": "code",
   "execution_count": null,
   "id": "63c06a04-5367-4247-9853-51b03c4ed4e4",
   "metadata": {},
   "outputs": [],
   "source": [
    "A = [2,1,1,2,3,1]"
   ]
  },
  {
   "cell_type": "code",
   "execution_count": null,
   "id": "f4bf0a2b-b1ea-4a0b-821b-d46b86ce43b8",
   "metadata": {},
   "outputs": [],
   "source": [
    "def solution(A): \n",
    "    return len(set(A))"
   ]
  },
  {
   "cell_type": "code",
   "execution_count": null,
   "id": "3cc2c551-4481-44bd-8a9d-f18afb173792",
   "metadata": {},
   "outputs": [
    {
     "data": {
      "text/plain": [
       "3"
      ]
     },
     "execution_count": 4,
     "metadata": {},
     "output_type": "execute_result"
    }
   ],
   "source": [
    "solution(A)"
   ]
  },
  {
   "cell_type": "code",
   "execution_count": null,
   "id": "b8c58b5a-7e3f-4b60-ac87-c0c0117d825a",
   "metadata": {},
   "outputs": [],
   "source": [
    "A = [-5, 5, -5, -4]"
   ]
  },
  {
   "cell_type": "code",
   "execution_count": null,
   "id": "0fb00a04-30bb-4536-a371-574f06692604",
   "metadata": {},
   "outputs": [],
   "source": [
    "A = [-3,1,2,-2,5,6]"
   ]
  },
  {
   "cell_type": "code",
   "execution_count": null,
   "id": "b6c08a02-201d-4e72-9c60-2e960dd18f99",
   "metadata": {},
   "outputs": [],
   "source": [
    "def solution(A):\n",
    "    A.sort(reverse=True)\n",
    "    options = []\n",
    "    # all elements are positive\n",
    "    options.append(A[0]*A[1]*A[2])\n",
    "    # at least one element is negative\n",
    "    options.append(A[-1]*A[-2]*A[0])\n",
    "    # all elements are negative\n",
    "    options.append(A[-1]*A[-2]*A[-3])\n",
    "    return max(options)"
   ]
  },
  {
   "cell_type": "code",
   "execution_count": null,
   "id": "109680c1-3855-4005-8709-5a61974e253a",
   "metadata": {},
   "outputs": [
    {
     "name": "stdout",
     "output_type": "stream",
     "text": [
      "[5, -4, -5, -5]\n"
     ]
    },
    {
     "data": {
      "text/plain": [
       "125"
      ]
     },
     "execution_count": 40,
     "metadata": {},
     "output_type": "execute_result"
    }
   ],
   "source": [
    "solution(A)"
   ]
  },
  {
   "cell_type": "code",
   "execution_count": null,
   "id": "b1bd1e5c-1cd5-4bf1-aa25-11e6fabfff81",
   "metadata": {},
   "outputs": [],
   "source": [
    "A = [10,2,5,1,8,20]"
   ]
  },
  {
   "cell_type": "code",
   "execution_count": null,
   "id": "31750c59-84d9-4eb6-85e9-5f7d6e22ab15",
   "metadata": {},
   "outputs": [],
   "source": [
    "A = [10,50,5,1]"
   ]
  },
  {
   "cell_type": "code",
   "execution_count": null,
   "id": "cbe418d7-e42f-4d3b-a5b2-3bfe5bd02034",
   "metadata": {},
   "outputs": [],
   "source": [
    "def solution(A): \n",
    "    A.sort()\n",
    "    for i in range(len(A)-2): \n",
    "        if A[i] + A[i+1] > A[i+2]: \n",
    "            return 1\n",
    "    return 0"
   ]
  },
  {
   "cell_type": "code",
   "execution_count": null,
   "id": "1e183f1d-1c21-422a-b458-8d21780eaf6e",
   "metadata": {},
   "outputs": [
    {
     "data": {
      "text/plain": [
       "0"
      ]
     },
     "execution_count": 52,
     "metadata": {},
     "output_type": "execute_result"
    }
   ],
   "source": [
    "solution(A)"
   ]
  },
  {
   "cell_type": "code",
   "execution_count": null,
   "id": "12b65e20-3843-4cb8-bb7f-a7411708894f",
   "metadata": {},
   "outputs": [],
   "source": []
  },
  {
   "cell_type": "code",
   "execution_count": null,
   "id": "a2f4567d-aa3d-477e-abc3-a2fe4e700a5e",
   "metadata": {},
   "outputs": [],
   "source": [
    "A = [1,5,2,1,4,0]"
   ]
  },
  {
   "cell_type": "code",
   "execution_count": null,
   "id": "d0a2d121-e742-461b-9150-561bfc6ccf6e",
   "metadata": {},
   "outputs": [],
   "source": [
    "# idea: draw the biggest circle first and then see if smaller circles intersect with it"
   ]
  },
  {
   "cell_type": "code",
   "execution_count": null,
   "id": "77241697-a077-4a9f-a77a-ccaa1f5c1055",
   "metadata": {},
   "outputs": [],
   "source": [
    "def solution(A): \n",
    "    n = len(A)\n",
    "    i = list(range(n))\n",
    "    tuples = list(zip(i,A))\n",
    "    tuples.sort(key=lambda tup:tup[1], reverse=True)    \n",
    "    \n",
    "    counter = 0\n",
    "    \n",
    "    # draw biggest circle\n",
    "    for i, t in enumerate(tuples): \n",
    "        c, r = t\n",
    "        u = c+r\n",
    "        l = c-r\n",
    "        a = [l,u]\n",
    "        # draw smallest circles\n",
    "        for j in range(i+1,len(tuples)): \n",
    "            sc, sr = tuples[j]\n",
    "            su = sc + sr\n",
    "            sl = sc - sr\n",
    "            b = [sl,su]\n",
    "            if get_overlap(a,b) > 0: \n",
    "                counter += 1\n",
    "    return counter\n",
    "            \n",
    "def get_overlap(x, y):\n",
    "    return bool(range(max(x[0], y[0]), min(x[-1], y[-1])+1))"
   ]
  },
  {
   "cell_type": "code",
   "execution_count": null,
   "id": "f29afbdb-35ff-4808-bd47-d4b3046195e6",
   "metadata": {},
   "outputs": [
    {
     "name": "stdout",
     "output_type": "stream",
     "text": [
      "[(0, 1), (1, 5), (2, 2), (3, 1), (4, 4), (5, 0)]\n",
      "[(1, 5), (4, 4), (2, 2), (0, 1), (3, 1), (5, 0)]\n",
      "0 [-4, 6]\n",
      "1 [0, 8]\n",
      "1\n",
      "2 [0, 4]\n",
      "2\n",
      "3 [-1, 1]\n",
      "3\n",
      "4 [2, 4]\n",
      "4\n",
      "5 [5, 5]\n",
      "5\n",
      "\n",
      "\n",
      "1 [0, 8]\n",
      "2 [0, 4]\n",
      "6\n",
      "3 [-1, 1]\n",
      "7\n",
      "4 [2, 4]\n",
      "8\n",
      "5 [5, 5]\n",
      "9\n",
      "\n",
      "\n",
      "2 [0, 4]\n",
      "3 [-1, 1]\n",
      "10\n",
      "4 [2, 4]\n",
      "11\n",
      "5 [5, 5]\n",
      "\n",
      "\n",
      "3 [-1, 1]\n",
      "4 [2, 4]\n",
      "5 [5, 5]\n",
      "\n",
      "\n",
      "4 [2, 4]\n",
      "5 [5, 5]\n",
      "\n",
      "\n",
      "5 [5, 5]\n",
      "\n",
      "\n"
     ]
    },
    {
     "data": {
      "text/plain": [
       "11"
      ]
     },
     "execution_count": 141,
     "metadata": {},
     "output_type": "execute_result"
    }
   ],
   "source": [
    "solution(A)"
   ]
  },
  {
   "cell_type": "code",
   "execution_count": null,
   "id": "186f5603-75c1-483c-b328-5f5f9c0ad3b0",
   "metadata": {},
   "outputs": [],
   "source": [
    "def solution(A):\n",
    "    lower_list = []\n",
    "    upper_list = []\n",
    "    \n",
    "    for center, radius in enumerate(A):\n",
    "        lower_list.append(center - radius)\n",
    "        upper_list.append(center + radius)\n",
    "    \n",
    "    lower_list.sort()\n",
    "    upper_list.sort()\n",
    "    \n",
    "    j = 0\n",
    "    counter = 0\n",
    "    total_len = len(A)\n",
    "    \n",
    "    for i in range(total_len):\n",
    "        while(j < total_len and lower_list[j] <= upper_list[i]):\n",
    "            # if circle not inside circle: in the first iteration we check its own lower limit \n",
    "            # if circle inside circle: in the last interation we check its own lower limit\n",
    "            # -> in both cases it cancels each other out -> there is no intersection\n",
    "            counter += j\n",
    "            counter -= i\n",
    "            # if next lower limit is left form the current upper limit -> there is an intersection\n",
    "            += 1j \n",
    "\n",
    "            if counter > 10000000:\n",
    "                return -1\n",
    "\n",
    "    return counter"
   ]
  },
  {
   "cell_type": "code",
   "execution_count": null,
   "id": "71496018-e8fb-4b1a-b494-241fe7c2364f",
   "metadata": {},
   "outputs": [
    {
     "data": {
      "text/plain": [
       "11"
      ]
     },
     "execution_count": 157,
     "metadata": {},
     "output_type": "execute_result"
    }
   ],
   "source": [
    "solution(A)"
   ]
  },
  {
   "cell_type": "code",
   "execution_count": null,
   "id": "7c8d4cc4-54b0-4d3b-b59a-01533936a175",
   "metadata": {},
   "outputs": [],
   "source": [
    "S = \"{[()()]}\""
   ]
  },
  {
   "cell_type": "code",
   "execution_count": null,
   "id": "4c278cc1-0fe6-461e-9449-dd56f721cebb",
   "metadata": {},
   "outputs": [
    {
     "data": {
      "text/plain": [
       "')'"
      ]
     },
     "execution_count": 201,
     "metadata": {},
     "output_type": "execute_result"
    }
   ],
   "source": [
    "matches = dict(['()', '[]', '{}'])\n",
    "matches['(']"
   ]
  },
  {
   "cell_type": "code",
   "execution_count": null,
   "id": "af76b74b-db7b-4cf2-a59e-9be5e9c6920e",
   "metadata": {},
   "outputs": [],
   "source": [
    "def solution(S):\n",
    "    # make dictionary with bracket pairs\n",
    "    matches = dict(['()', '[]', '{}'])\n",
    "    # make empty stack\n",
    "    # an empty string is nested by default\n",
    "    stack = []\n",
    "    \n",
    "    # iterate char of input string\n",
    "    for char in S:\n",
    "                    stack.pop()\n",
    "            else: \n",
    "                return 0 \n",
    "            \n",
    "    # an empty string is nested by default      # if char is oppening bracket, add it to the stack\n",
    "        if char in matches.keys(): \n",
    "            stack.append(char)\n",
    "        # if stack is not empty AND \n",
    "        # last bracket in stack is key of char (bracket pair)\n",
    "        # remove the last element\n",
    "        # if this fails -> string is not properly nested\n",
    "        if char in matches.values(): \n",
    "            if stack and matches[stack[-1]] == char:\n",
    "          \n",
    "    return int(not stack)"
   ]
  },
  {
   "cell_type": "code",
   "execution_count": null,
   "id": "c93fac15-42cc-4dfd-911b-37d0ec6a4bc5",
   "metadata": {},
   "outputs": [
    {
     "data": {
      "text/plain": [
       "1"
      ]
     },
     "execution_count": 209,
     "metadata": {},
     "output_type": "execute_result"
    }
   ],
   "source": [
    "solution(S)"
   ]
  },
  {
   "cell_type": "code",
   "execution_count": null,
   "id": "9c40770a-6386-4eb6-9336-f13aef7b524a",
   "metadata": {},
   "outputs": [],
   "source": [
    "A = [4,3,2,1,5]\n",
    "B = [0,1,0,0,0]"
   ]
  },
  {
   "cell_type": "code",
   "execution_count": null,
   "id": "0f4fb0c2-c311-420a-80c0-ddc6267b3c90",
   "metadata": {},
   "outputs": [],
   "source": [
    "def solution(A, B):\n",
    "    size, direction = A, B\n",
    "    # at the start all fishes are alive\n",
    "    fish_alive = len(size)\n",
    "    # empty list = no fishes alive\n",
    "    if fish_alive == 0: \n",
    "        return 0 \n",
    "    # make empty stack\n",
    "    stack = []\n",
    "    \n",
    "    # iterate all fish numbers\n",
    "    for fish_nr in range(fish_alive): \n",
    "        # store fishes swimming downstream in a stack\n",
    "        if direction[fish_nr] == 1: \n",
    "            stack.append(size[fish_nr])\n",
    "        \n",
    "        # make fishes swimming upstream fight with stack of fishes swimming upstream\n",
    "        if direction[fish_nr] == 0: \n",
    "            # new fish has to fight all fishes swimming downstream\n",
    "            while len(stack): \n",
    "                # fish in stack is bigger -> new fish gets eaten\n",
    "                if stack[-1] > size[fish_nr]: \n",
    "                    fish_alive -= 1\n",
    "                    break\n",
    "                # fish in stack is smaller -> new fish eats stack fish and fights next fish in stack\n",
    "                if stack[-1] < size[fish_nr]: \n",
    "                    fish_alive -= 1 \n",
    "                    stack.pop()\n",
    "    \n",
    "    return fish_alive    "
   ]
  },
  {
   "cell_type": "code",
   "execution_count": null,
   "id": "38527bc3-291f-4c7c-a374-a92a6dc23dde",
   "metadata": {},
   "outputs": [
    {
     "data": {
      "text/plain": [
       "2"
      ]
     },
     "execution_count": 238,
     "metadata": {},
     "output_type": "execute_result"
    }
   ],
   "source": [
    "solution(A, B)"
   ]
  },
  {
   "cell_type": "code",
   "execution_count": null,
   "id": "04172328-96f9-4105-be6f-9de9b3db3c04",
   "metadata": {},
   "outputs": [],
   "source": [
    "H = [8,8,5,7,9,8,7,4,8]"
   ]
  },
  {
   "cell_type": "code",
   "execution_count": null,
   "id": "4459a8ef-985a-43c2-a385-f65a03fe740a",
   "metadata": {},
   "outputs": [],
   "source": [
    "def solution(H):\n",
    "    req_height = H\n",
    "    block_h = 0\n",
    "    blocks = 0\n",
    "    stack = []\n",
    "    \n",
    "    if len(req_height) in (0,1): \n",
    "        return len(req_height)\n",
    "    \n",
    "    for i in range(len(req_height)): \n",
    "        if not stack: \n",
    "            stack.append(req_height[i])\n",
    "            block_h = req_height[i] - 0 \n",
    "            blocks += 1 \n",
    "        \n",
    "        if stack: \n",
    "            while req_height[i] < sum(stack): \n",
    "                stack.pop()\n",
    "            if req_height[i] == sum(stack): \n",
    "                pass \n",
    "            if req_height[i] > sum(stack): \n",
    "                delta_block = req_height[i] - sum(stack)\n",
    "                stack.append(delta_block)\n",
    "                blocks += 1 \n",
    "        \n",
    "    return blocks"
   ]
  },
  {
   "cell_type": "code",
   "execution_count": null,
   "id": "4d4fa6db-8016-41d6-a692-2e066fa8c1ee",
   "metadata": {},
   "outputs": [],
   "source": [
    "# remove the sum() statements to make it run faster\n",
    "def solution(H):\n",
    "    req_height = H\n",
    "    blocks = 0\n",
    "    stack = []\n",
    "    current_height = 0 \n",
    "    \n",
    "    if len(req_height) in (0,1): \n",
    "        return len(req_height)\n",
    "    \n",
    "    for i in range(len(req_height)): \n",
    "        if not stack: \n",
    "            stack.append(req_height[i])\n",
    "            blocks += 1 \n",
    "            current_height = req_height[i]\n",
    "        \n",
    "        if stack: \n",
    "            while req_height[i] < current_height: \n",
    "                current_height -= stack[-1]\n",
    "                stack.pop()\n",
    "            if req_height[i] == current_height: \n",
    "                pass \n",
    "            if req_height[i] > current_height: \n",
    "                delta_block = req_height[i] - current_height\n",
    "                stack.append(delta_block)\n",
    "                blocks += 1 \n",
    "                current_height = req_height[i]\n",
    "        \n",
    "    return blocks"
   ]
  },
  {
   "cell_type": "code",
   "execution_count": null,
   "id": "af755be1-2acb-4422-bacc-a8008392f9c2",
   "metadata": {},
   "outputs": [],
   "source": [
    "# build a stack from left to right\n",
    "    # if stack is not high enough -> add another block\n",
    "    # if stack is too high -> add another block and replace the last block with the new one (pop last block and append new one in it's plac)"
   ]
  },
  {
   "cell_type": "code",
   "execution_count": null,
   "id": "bca735e3-377b-438f-9f18-a9f9e12e63a1",
   "metadata": {},
   "outputs": [
    {
     "data": {
      "text/plain": [
       "7"
      ]
     },
     "execution_count": 296,
     "metadata": {},
     "output_type": "execute_result"
    }
   ],
   "source": [
    "solution(H)"
   ]
  },
  {
   "cell_type": "code",
   "execution_count": null,
   "id": "c6c0324f-e2ca-4cae-b021-90d22c74b7b9",
   "metadata": {},
   "outputs": [],
   "source": [
    "A = [1,1,3,2,1]"
   ]
  },
  {
   "cell_type": "code",
   "execution_count": null,
   "id": "02bee8de-2e74-4fe4-92b9-ef276adbac2b",
   "metadata": {},
   "outputs": [],
   "source": [
    "def solution(A):\n",
    "    n = len(A)\n",
    "    if n == 0: \n",
    "        return -1\n",
    "    \n",
    "    med = (n//2)\n",
    "    lead = sorted(A)[med]\n",
    "    count = 0 \n",
    "    \n",
    "    for i in range(n): \n",
    "        if lead == A[i]: \n",
    "            count += 1 \n",
    "        if count > med: \n",
    "            return i\n",
    "    \n",
    "    return -1"
   ]
  },
  {
   "cell_type": "code",
   "execution_count": null,
   "id": "7e1f3bfb-6650-4ccd-ac21-1a1d3b120809",
   "metadata": {},
   "outputs": [
    {
     "data": {
      "text/plain": [
       "4"
      ]
     },
     "execution_count": 345,
     "metadata": {},
     "output_type": "execute_result"
    }
   ],
   "source": [
    "solution(A)"
   ]
  },
  {
   "cell_type": "code",
   "execution_count": null,
   "id": "75a403e5-d5f8-43d8-9531-76eaf4e402c1",
   "metadata": {},
   "outputs": [],
   "source": [
    "A = [4,3,4,4,4,2]"
   ]
  },
  {
   "cell_type": "code",
   "execution_count": null,
   "id": "86180c63-b337-48ed-8162-6e44781b5c5f",
   "metadata": {},
   "outputs": [],
   "source": [
    "from collections import defaultdict\n",
    "\n",
    "def solution(A):\n",
    "    # make two dictionaries\n",
    "    # if they key does not exist, assign it to zero \n",
    "    marker_l = defaultdict(lambda : 0)\n",
    "    marker_r = defaultdict(lambda : 0)\n",
    "    \n",
    "    # right dict has (key=list_value : value=frequency)\n",
    "    for i in range(len(A)):\n",
    "        # in the first iteration we have 0 (default value in dict) + 1 = 1 \n",
    "        marker_r[A[i]] += 1\n",
    "        \n",
    "    # instatiate counter and default leader\n",
    "    n_equi_leader = 0\n",
    "    leader = A[0]\n",
    "    \n",
    "    for i in range(len(A)):\n",
    "        # reduce frequency of first list value in right marker\n",
    "        marker_r[A[i]] -= 1\n",
    "        # increase frequency of first list value in left marker (empty so far)\n",
    "        marker_l[A[i]] += 1\n",
    "        \n",
    "        # assign new leader if neccesary based on frequency\n",
    "        if marker_l[leader] < marker_l[A[i]]:\n",
    "            # assign new leader \n",
    "            leader = A[i]\n",
    "        \n",
    "        # equi leader condition\n",
    "        # the left dict is growing while the right dict is shrinking \n",
    "        if (i+1) // 2 < marker_l[leader] and (len(A) - (i+1)) // 2 < marker_r[leader]:\n",
    "            n_equi_leader += 1\n",
    "            \n",
    "    return n_equi_leader\n"
   ]
  },
  {
   "cell_type": "code",
   "execution_count": null,
   "id": "966e2cc4-7709-4b7c-b9a4-69b302aa1a39",
   "metadata": {},
   "outputs": [
    {
     "data": {
      "text/plain": [
       "2"
      ]
     },
     "execution_count": 417,
     "metadata": {},
     "output_type": "execute_result"
    }
   ],
   "source": [
    "solution(A)"
   ]
  },
  {
   "cell_type": "code",
   "execution_count": null,
   "id": "a265aa89-fe8c-4088-b058-58fd7160655f",
   "metadata": {},
   "outputs": [],
   "source": [
    "marker_l = defaultdict(lambda : 0)"
   ]
  },
  {
   "cell_type": "code",
   "execution_count": null,
   "id": "fee9fba5-0908-4071-aa66-ac38ddfd6bc3",
   "metadata": {},
   "outputs": [],
   "source": [
    "marker_l[1] = 2"
   ]
  },
  {
   "cell_type": "code",
   "execution_count": null,
   "id": "18645e5b-c1dd-4e87-9a61-b06861f1f995",
   "metadata": {},
   "outputs": [
    {
     "data": {
      "text/plain": [
       "0"
      ]
     },
     "execution_count": 392,
     "metadata": {},
     "output_type": "execute_result"
    }
   ],
   "source": [
    "marker_l[2]"
   ]
  },
  {
   "cell_type": "code",
   "execution_count": null,
   "id": "4aea7064-94a9-4f39-b985-01e546caebf0",
   "metadata": {},
   "outputs": [
    {
     "data": {
      "text/plain": [
       "defaultdict(<function __main__.<lambda>()>, {1: 2, 2: 0})"
      ]
     },
     "execution_count": 393,
     "metadata": {},
     "output_type": "execute_result"
    }
   ],
   "source": [
    "marker_l"
   ]
  },
  {
   "cell_type": "code",
   "execution_count": 472,
   "id": "c8a6c22a-3b17-4a73-b48a-4e7bca92065a",
   "metadata": {},
   "outputs": [],
   "source": [
    "A = B"
   ]
  },
  {
   "cell_type": "code",
   "execution_count": 520,
   "id": "b456d1bd-9145-43f3-a966-55cbe210a738",
   "metadata": {},
   "outputs": [],
   "source": [
    "A = [2171, 11, 123, 366, 13, 367]"
   ]
  },
  {
   "cell_type": "code",
   "execution_count": 524,
   "id": "05582da2-4cbc-459e-b18f-b02b74dc8b01",
   "metadata": {},
   "outputs": [],
   "source": [
    "# find max profit in the time series\n",
    "def solution(A): \n",
    "    n = len(A)\n",
    "    \n",
    "    # edge case\n",
    "    if n in (0,1): \n",
    "        return 0 \n",
    "\n",
    "    cummulative_profit = 0 \n",
    "    best_profit = 0 \n",
    "    \n",
    "    for i in range(1,n):\n",
    "        profit_today = A[i]-A[i-1]\n",
    "        cummulative_profit += profit_today\n",
    "        \n",
    "        if cummulative_profit < 0: \n",
    "            cummulative_profit = 0 \n",
    "            \n",
    "        best_profit = max(best_profit,cummulative_profit)\n",
    "        \n",
    "    return best_profit"
   ]
  },
  {
   "cell_type": "code",
   "execution_count": 525,
   "id": "5f48f1bb-9a79-4a53-b347-4f1b4c8bf0ce",
   "metadata": {},
   "outputs": [
    {
     "data": {
      "text/plain": [
       "356"
      ]
     },
     "execution_count": 525,
     "metadata": {},
     "output_type": "execute_result"
    }
   ],
   "source": [
    "solution(A)"
   ]
  },
  {
   "cell_type": "code",
   "execution_count": null,
   "id": "38a1ab36-0d9d-4972-945f-1ad6af9b351e",
   "metadata": {},
   "outputs": [],
   "source": [
    "B"
   ]
  },
  {
   "cell_type": "code",
   "execution_count": 580,
   "id": "f44c96ff-fb44-4a0f-be49-9f452d218cd8",
   "metadata": {},
   "outputs": [],
   "source": [
    "N = 25"
   ]
  },
  {
   "cell_type": "code",
   "execution_count": 591,
   "id": "c8455461-a78d-412e-8df4-c6e9dace2f87",
   "metadata": {},
   "outputs": [],
   "source": [
    "def solution(N):\n",
    "    i = 1\n",
    "    res = 0 \n",
    "    \n",
    "    while i*i < N: \n",
    "        print(res)\n",
    "        if N % i == 0: \n",
    "            res += 2\n",
    "        i += 1    \n",
    "    \n",
    "    if i * i == N: \n",
    "        res += 1\n",
    "    return res"
   ]
  },
  {
   "cell_type": "code",
   "execution_count": 592,
   "id": "8e0206d7-81aa-4fa1-8737-118aba484e65",
   "metadata": {},
   "outputs": [
    {
     "name": "stdout",
     "output_type": "stream",
     "text": [
      "0\n",
      "2\n",
      "2\n",
      "2\n"
     ]
    },
    {
     "data": {
      "text/plain": [
       "3"
      ]
     },
     "execution_count": 592,
     "metadata": {},
     "output_type": "execute_result"
    }
   ],
   "source": [
    "solution(N)"
   ]
  },
  {
   "cell_type": "code",
   "execution_count": null,
   "id": "87133abc-960d-4e61-b848-65a57174641b",
   "metadata": {},
   "outputs": [],
   "source": [
    "25 % 1"
   ]
  },
  {
   "cell_type": "code",
   "execution_count": 596,
   "id": "d6ed9466-99f5-4c69-883a-ccdca8a1673e",
   "metadata": {},
   "outputs": [],
   "source": [
    "A = [3,1,2,3,6]"
   ]
  },
  {
   "cell_type": "code",
   "execution_count": 605,
   "id": "8dac7e0a-ad01-4cc1-ad2b-3119f342042a",
   "metadata": {},
   "outputs": [],
   "source": [
    "def solution(A): \n",
    "    res = [0]*len(A)\n",
    "    for i in range(len(A)):\n",
    "        for j in range(len(A)): \n",
    "            if A[i] % A[j] != 0: \n",
    "                res[i] += 1\n",
    "    \n",
    "    return res"
   ]
  },
  {
   "cell_type": "code",
   "execution_count": 606,
   "id": "ac6c616f-98ad-458f-93b5-7be1315881bc",
   "metadata": {},
   "outputs": [
    {
     "data": {
      "text/plain": [
       "[2, 4, 3, 2, 0]"
      ]
     },
     "execution_count": 606,
     "metadata": {},
     "output_type": "execute_result"
    }
   ],
   "source": [
    "solution(A)"
   ]
  },
  {
   "cell_type": "code",
   "execution_count": 625,
   "id": "fd7516b5-1b6a-4cf7-84db-b4b2763565d0",
   "metadata": {},
   "outputs": [],
   "source": [
    "from collections import defaultdict\n",
    "\n",
    "def solution(A):\n",
    "    # make dict with value:frequency\n",
    "    counts = defaultdict(lambda : 0)\n",
    "    for i in range(len(A)):\n",
    "        counts[A[i]] += 1\n",
    "    print(counts)\n",
    "    \n",
    "    # make res list\n",
    "    N = len(A)\n",
    "    res = [0]*N\n",
    "    j = 1 \n",
    "    \n",
    "    # iterate input list\n",
    "    for i in range(N): \n",
    "        div = 0 \n",
    "        print(i, i)\n",
    "        while j*j <= A[i]: \n",
    "            print(j)\n",
    "            if A[i]%j == 0: \n",
    "                div += counts[j]\n",
    "                if A[i]/j != j: \n",
    "                    div += counts[A[i]/j]\n",
    "            j += 1 \n",
    "        res[i] = N - div\n",
    "        \n",
    "    return res"
   ]
  },
  {
   "cell_type": "code",
   "execution_count": 626,
   "id": "f93f87ff-9011-4242-99f9-f1593d926a33",
   "metadata": {},
   "outputs": [
    {
     "name": "stdout",
     "output_type": "stream",
     "text": [
      "defaultdict(<function solution.<locals>.<lambda> at 0x10eacb280>, {3: 2, 1: 1, 2: 1, 6: 1})\n",
      "0 0\n",
      "1\n",
      "1 1\n",
      "2 2\n",
      "3 3\n",
      "4 4\n",
      "2\n"
     ]
    },
    {
     "data": {
      "text/plain": [
       "[2, 5, 5, 5, 2]"
      ]
     },
     "execution_count": 626,
     "metadata": {},
     "output_type": "execute_result"
    }
   ],
   "source": [
    "solution(A)"
   ]
  },
  {
   "cell_type": "code",
   "execution_count": 629,
   "id": "b23f42a8-8a8d-4ec3-a0cd-c009bbd755f9",
   "metadata": {},
   "outputs": [],
   "source": [
    "def solution(N, M):\n",
    "    circle = [1]*N\n",
    "    res = 0 \n",
    "    i = 0 \n",
    "    \n",
    "    while circle[i] != 0: \n",
    "        circle[i] = 0 \n",
    "        res += 1 \n",
    "        i = (i + M) % N \n",
    "        \n",
    "    return res"
   ]
  },
  {
   "cell_type": "code",
   "execution_count": 630,
   "id": "b70126c1-29c4-42cb-aea1-f57c4a6cfffd",
   "metadata": {},
   "outputs": [
    {
     "data": {
      "text/plain": [
       "5"
      ]
     },
     "execution_count": 630,
     "metadata": {},
     "output_type": "execute_result"
    }
   ],
   "source": [
    "solution(10, 4)"
   ]
  },
  {
   "cell_type": "code",
   "execution_count": 750,
   "id": "3e6fdfbb-df38-4a17-842c-d86466b58bde",
   "metadata": {},
   "outputs": [],
   "source": [
    "A = []"
   ]
  },
  {
   "cell_type": "code",
   "execution_count": 744,
   "id": "97c6dabb-5f38-4833-ae56-6986e0372df8",
   "metadata": {},
   "outputs": [],
   "source": [
    "B = [0]*(len(A)+1)\n",
    "for i in range(len(A)): \n",
    "    if A[i]: \n",
    "        B[i] = i+1\n",
    "B[i+1]=len(A)+1\n",
    "B = [i for i in B if i!=0]\n",
    "B.sort(reverse=True)"
   ]
  },
  {
   "cell_type": "code",
   "execution_count": 745,
   "id": "10b7f1d7-a770-4dcc-aa81-f3c2c8355b17",
   "metadata": {},
   "outputs": [],
   "source": [
    "B.sort()"
   ]
  },
  {
   "cell_type": "code",
   "execution_count": 13,
   "id": "17d43e5d-da29-4767-a4dc-bc80f50bb2ed",
   "metadata": {},
   "outputs": [],
   "source": [
    "A = []"
   ]
  },
  {
   "cell_type": "code",
   "execution_count": 747,
   "id": "350b9953-b965-4c4c-817f-38bcdfac0fe2",
   "metadata": {},
   "outputs": [
    {
     "data": {
      "text/plain": [
       "4"
      ]
     },
     "execution_count": 747,
     "metadata": {},
     "output_type": "execute_result"
    }
   ],
   "source": [
    "len(A)"
   ]
  },
  {
   "cell_type": "code",
   "execution_count": 15,
   "id": "4759d68c-554d-4cee-a4c6-07bd38b4327a",
   "metadata": {},
   "outputs": [
    {
     "data": {
      "text/plain": [
       "1"
      ]
     },
     "execution_count": 15,
     "metadata": {},
     "output_type": "execute_result"
    }
   ],
   "source": [
    "solution(A)"
   ]
  },
  {
   "cell_type": "code",
   "execution_count": 16,
   "id": "a124d891-080b-4880-9267-ddf59a0aa79a",
   "metadata": {},
   "outputs": [],
   "source": [
    "def solution(A):\n",
    "    # get length of list\n",
    "    n = len(A)\n",
    "    if n < 3: \n",
    "        return 1\n",
    "    \n",
    "    # make relevant fibs\n",
    "    fib = [0,1]\n",
    "    i = 1\n",
    "    # relevant fibs \n",
    "    while fib[i] < n: \n",
    "        fib.append(fib[i] + fib[i-1])\n",
    "        i += 1 \n",
    "        \n",
    "    # relevant leaves\n",
    "    B = [0]*(len(A)+1)\n",
    "    for i in range(len(A)): \n",
    "        if A[i]: \n",
    "            B[i] = i+1\n",
    "    B[i+1]=len(A)+1\n",
    "    B = [i for i in B if i!=0]\n",
    "    B.sort(reverse=True)\n",
    "    \n",
    "    # make possible jumps, default res is -1\n",
    "    i = 0 \n",
    "    res = -1\n",
    "    \n",
    "    while B:\n",
    "        if i == len(B): \n",
    "            break\n",
    "        if B[i] not in fib: \n",
    "            pass \n",
    "        if B[i] in fib: \n",
    "            res += 1\n",
    "            C = [x-B[i] for x in B]\n",
    "            B = [i for i in C if i>0]\n",
    "            # print(B)\n",
    "            i = 0 \n",
    "            continue\n",
    "        i += 1 \n",
    "    \n",
    "    return res + 1 "
   ]
  },
  {
   "cell_type": "code",
   "execution_count": 776,
   "id": "7bbb8571-bdc8-45fb-be0d-6f6a4102e467",
   "metadata": {},
   "outputs": [],
   "source": [
    "def fib(n):\n",
    "    fib = [0,1]\n",
    "    i = 1\n",
    "    # relevant fibs \n",
    "    while fib[i] < n: \n",
    "        fib.append(fib[i] + fib[i-1])\n",
    "        i += 1 \n",
    "    return fib"
   ]
  },
  {
   "cell_type": "code",
   "execution_count": 777,
   "id": "6b70fc12-87c7-40fd-92de-1e143e839d78",
   "metadata": {},
   "outputs": [
    {
     "data": {
      "text/plain": [
       "[0, 1, 1, 2, 3, 5, 8, 13]"
      ]
     },
     "execution_count": 777,
     "metadata": {},
     "output_type": "execute_result"
    }
   ],
   "source": [
    "fib(11)"
   ]
  },
  {
   "cell_type": "code",
   "execution_count": 41,
   "id": "2e648568-fa6a-475d-8d58-19ab3d5d1206",
   "metadata": {},
   "outputs": [],
   "source": [
    "def fib(n):\n",
    "    fib = [0,1]\n",
    "    i = 1\n",
    "    # relevant fibs \n",
    "    while fib[i] < n: \n",
    "        fib.append(fib[i] + fib[i-1])\n",
    "        i += 1 \n",
    "    return fib\n",
    "\n",
    "def new_paths(A, n, last_pos, fn):\n",
    "    paths = []\n",
    "    for f in fn:\n",
    "        new_pos = last_pos + f\n",
    "        # print(new_pos)\n",
    "        if new_pos == n or (new_pos < n and A[new_pos]==1):\n",
    "            paths.append(new_pos)\n",
    "    # print(paths)\n",
    "    return paths\n",
    "\n",
    "\n",
    "def solution(A):\n",
    "    # get length of list\n",
    "    n = len(A)\n",
    "    # edge case\n",
    "    if n < 3:\n",
    "        return 1\n",
    "\n",
    "    # A.append(1) # mark final jump\n",
    "    fn = fib(n)[2:]\n",
    "    # print(fn)\n",
    "    \n",
    "    paths = set([-1]) # locate all the leaves that are one fib jump from the start position.\n",
    "    # print(paths)\n",
    "\n",
    "    jump = 1\n",
    "    while True:\n",
    "        # Considering each of the previous jump positions - How many leaves from there are one fib jump away\n",
    "        paths = set([idx for pos in paths for idx in new_paths(A, n, pos, fn)])\n",
    "        # print(paths)\n",
    "\n",
    "        # no new jumps means game over!\n",
    "        if not paths:\n",
    "            break\n",
    "\n",
    "        # If there was a result in the new jumps record that\n",
    "        if n in paths:\n",
    "            return jump\n",
    "            \n",
    "        jump += 1\n",
    "\n",
    "    return -1"
   ]
  },
  {
   "cell_type": "code",
   "execution_count": 42,
   "id": "24a8fd3f-d1f7-45a9-beb8-e46fe9b68e82",
   "metadata": {},
   "outputs": [
    {
     "data": {
      "text/plain": [
       "3"
      ]
     },
     "execution_count": 42,
     "metadata": {},
     "output_type": "execute_result"
    }
   ],
   "source": [
    "solution(A)"
   ]
  },
  {
   "cell_type": "code",
   "execution_count": 11,
   "id": "27f0143e-173a-46b6-b110-ff1c404f47d8",
   "metadata": {},
   "outputs": [],
   "source": [
    "A = [0, 0, 0, 1, 1, 1, 1, 0, 0, 0, 0]"
   ]
  },
  {
   "cell_type": "code",
   "execution_count": 646,
   "id": "3b9a462c-530c-48b4-9d45-5857a6b130d9",
   "metadata": {},
   "outputs": [
    {
     "data": {
      "text/plain": [
       "13"
      ]
     },
     "execution_count": 646,
     "metadata": {},
     "output_type": "execute_result"
    }
   ],
   "source": [
    "fib(7)"
   ]
  },
  {
   "cell_type": "code",
   "execution_count": 642,
   "id": "7a15eb8a-8930-4871-99f6-f8b4c46d5727",
   "metadata": {},
   "outputs": [],
   "source": [
    "def fib(n):\n",
    "    if (n <= 1): \n",
    "        return n\n",
    "    return fib(n - 1) + fib(n - 2)"
   ]
  },
  {
   "cell_type": "code",
   "execution_count": 643,
   "id": "8e9adfc2-b343-405d-b4eb-d9a7d341d845",
   "metadata": {},
   "outputs": [
    {
     "data": {
      "text/plain": [
       "2"
      ]
     },
     "execution_count": 643,
     "metadata": {},
     "output_type": "execute_result"
    }
   ],
   "source": [
    "fib(3)"
   ]
  },
  {
   "cell_type": "code",
   "execution_count": 18,
   "id": "84cdb156-aa80-41fe-a45f-3417c15e310e",
   "metadata": {},
   "outputs": [],
   "source": [
    "A = [0, 0, 0, 1, 1, 0, 1, 0, 0, 0, 0]"
   ]
  },
  {
   "cell_type": "code",
   "execution_count": 29,
   "id": "d5d476e8-051d-4694-9e40-6b330244b92f",
   "metadata": {},
   "outputs": [],
   "source": [
    "def solution(A):\n",
    "    # get length of list\n",
    "    n = len(A)\n",
    "    if n < 3:\n",
    "        return 1\n",
    "\n",
    "    # make relevant fibs\n",
    "    fib = [0,1]\n",
    "    i = 1\n",
    "    # relevant fibs\n",
    "    while fib[i] < n:\n",
    "        fib.append(fib[i] + fib[i-1])\n",
    "        i += 1\n",
    "\n",
    "    # relevant leaves\n",
    "    B = [0]*(len(A)+1)\n",
    "    for i in range(len(A)):\n",
    "        if A[i]:\n",
    "            B[i] = i+1\n",
    "    B[i+1]=len(A)+1\n",
    "    B = [i for i in B if i!=0]\n",
    "    B.sort(reverse=True)\n",
    "    # print(B)\n",
    "\n",
    "    # make possible jumps, default res is -1\n",
    "    i = 0\n",
    "    res = 0\n",
    "\n",
    "    while B:\n",
    "        if i == len(B):\n",
    "            break\n",
    "        if B[i] not in fib:\n",
    "            pass\n",
    "        if B[i] in fib:\n",
    "            res += 1\n",
    "            C = [x-B[i] for x in B]\n",
    "            B = [i for i in C if i>0]\n",
    "            # print(B)\n",
    "            i = 0\n",
    "            continue\n",
    "        i += 1\n",
    "\n",
    "    if res > 0: \n",
    "        return res\n",
    "    else: \n",
    "        return -1 "
   ]
  },
  {
   "cell_type": "code",
   "execution_count": 30,
   "id": "7f671d45-8724-4430-9256-0c3839d221f5",
   "metadata": {},
   "outputs": [
    {
     "data": {
      "text/plain": [
       "3"
      ]
     },
     "execution_count": 30,
     "metadata": {},
     "output_type": "execute_result"
    }
   ],
   "source": [
    "solution(A)"
   ]
  },
  {
   "cell_type": "code",
   "execution_count": 43,
   "id": "76c64a9d-ee6e-4340-962f-2de394367314",
   "metadata": {},
   "outputs": [
    {
     "name": "stdout",
     "output_type": "stream",
     "text": [
      "hello world\n"
     ]
    }
   ],
   "source": [
    "print('hello world')"
   ]
  },
  {
   "cell_type": "code",
   "execution_count": 47,
   "id": "0e798986-d9dd-4f9e-b7ba-8dbaef570ca9",
   "metadata": {},
   "outputs": [
    {
     "data": {
      "text/plain": [
       "5"
      ]
     },
     "execution_count": 47,
     "metadata": {},
     "output_type": "execute_result"
    }
   ],
   "source": [
    "# Binary search \n",
    "# Question: where should we insert N to make it the first N in the list? \n",
    "\n",
    "A = [2,3,3,4,6,7,8,9]\n",
    "\n",
    "def bisect(A, x): \n",
    "    lo = 0 \n",
    "    hi = len(A)\n",
    "    while lo < hi: \n",
    "        mid = (lo+hi)//2\n",
    "        if A[mid] < x: \n",
    "            lo = mid + 1\n",
    "        else: \n",
    "            hi = mid\n",
    "    return lo\n",
    "\n",
    "bisect(A,7)"
   ]
  }
 ],
 "metadata": {
  "kernelspec": {
   "display_name": "Python 3 (ipykernel)",
   "language": "python",
   "name": "python3"
  },
  "language_info": {
   "codemirror_mode": {
    "name": "ipython",
    "version": 3
   },
   "file_extension": ".py",
   "mimetype": "text/x-python",
   "name": "python",
   "nbconvert_exporter": "python",
   "pygments_lexer": "ipython3",
   "version": "3.9.6"
  }
 },
 "nbformat": 4,
 "nbformat_minor": 5
}
