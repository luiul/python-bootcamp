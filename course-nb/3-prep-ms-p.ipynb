{
 "cells": [
  {
   "cell_type": "markdown",
   "id": "6ba7b081-168b-4bb0-8f55-cecd51f7ed69",
   "metadata": {},
   "source": [
    "# Prep Milestone Project"
   ]
  },
  {
   "cell_type": "markdown",
   "id": "f1a974ac-80ad-4b73-9619-b300209edc05",
   "metadata": {},
   "source": [
    "## Displaying Information"
   ]
  },
  {
   "cell_type": "code",
   "execution_count": 24,
   "id": "2492049b-0c49-40a8-a6c2-a683e99d60db",
   "metadata": {},
   "outputs": [],
   "source": [
    "def disp(r1,r2,r3):\n",
    "    print(r1)\n",
    "    print(r2)\n",
    "    print(r3)"
   ]
  },
  {
   "cell_type": "code",
   "execution_count": 25,
   "id": "0b1ff7a7-f974-4617-bf31-629b7d231438",
   "metadata": {},
   "outputs": [],
   "source": [
    "r = [1,2,3]"
   ]
  },
  {
   "cell_type": "code",
   "execution_count": 26,
   "id": "0b3686af-d8e4-46ce-afea-2b0656606cb3",
   "metadata": {},
   "outputs": [
    {
     "name": "stdout",
     "output_type": "stream",
     "text": [
      "[1, 2, 3]\n",
      "[1, 2, 3]\n",
      "[1, 2, 3]\n"
     ]
    }
   ],
   "source": [
    "disp(r,r,r)"
   ]
  },
  {
   "cell_type": "code",
   "execution_count": 27,
   "id": "daea3b1a-2ed8-4758-abca-71c59e99c081",
   "metadata": {},
   "outputs": [],
   "source": [
    "r1 = [' ',' ',' ']\n",
    "r2 = [' ',' ',' ']\n",
    "r3 = [' ',' ',' ']"
   ]
  },
  {
   "cell_type": "code",
   "execution_count": 28,
   "id": "9398f7c9-108e-455f-8bb2-27ba0506247b",
   "metadata": {},
   "outputs": [
    {
     "name": "stdout",
     "output_type": "stream",
     "text": [
      "[' ', ' ', ' ']\n",
      "[' ', ' ', ' ']\n",
      "[' ', ' ', ' ']\n"
     ]
    }
   ],
   "source": [
    "disp(r1,r2,r3)"
   ]
  },
  {
   "cell_type": "code",
   "execution_count": 29,
   "id": "0e81eb9e-e614-48e6-946e-086a7379654c",
   "metadata": {},
   "outputs": [],
   "source": [
    "r2[1] = 'X'"
   ]
  },
  {
   "cell_type": "code",
   "execution_count": 30,
   "id": "f1e87481-81e7-43cf-9047-069e2629783f",
   "metadata": {},
   "outputs": [
    {
     "name": "stdout",
     "output_type": "stream",
     "text": [
      "[' ', ' ', ' ']\n",
      "[' ', 'X', ' ']\n",
      "[' ', ' ', ' ']\n"
     ]
    }
   ],
   "source": [
    "disp(r1,r2,r3)"
   ]
  },
  {
   "cell_type": "markdown",
   "id": "7101f9fd-c9f4-492a-a247-2c9f83b20faa",
   "metadata": {},
   "source": [
    "## Accepting User Input"
   ]
  },
  {
   "cell_type": "code",
   "execution_count": null,
   "id": "fdc535b9-776c-4904-84c4-5779079e45cb",
   "metadata": {},
   "outputs": [],
   "source": [
    "ui = input('Please enter a value:')\n",
    "type(ui)"
   ]
  },
  {
   "cell_type": "code",
   "execution_count": null,
   "id": "b2182bd8-03e2-42f3-933b-1ad109e7e184",
   "metadata": {},
   "outputs": [],
   "source": [
    "ui = int(input('Please enter a value:'))\n",
    "type(ui)"
   ]
  },
  {
   "cell_type": "markdown",
   "id": "ad291a3c-2fc2-449b-96b9-17507ee6d137",
   "metadata": {},
   "source": [
    "## Validating User Input"
   ]
  },
  {
   "cell_type": "code",
   "execution_count": null,
   "id": "9f27d226-2346-404f-bea4-e2e202f6d74f",
   "metadata": {},
   "outputs": [],
   "source": [
    "def user_choice(): \n",
    "    choice = input('Enter a number:')\n",
    "    return int(choice)\n",
    "# problems: string still produce an error that stops execution, number can be out of range -> validate datatype, check against expected range"
   ]
  },
  {
   "cell_type": "markdown",
   "id": "6f83c651-98f5-4769-a6a5-ede000fbf114",
   "metadata": {},
   "source": [
    "### Validate Datatype"
   ]
  },
  {
   "cell_type": "code",
   "execution_count": null,
   "id": "5799fead-68ce-4fdc-a9d0-1cff96a43960",
   "metadata": {},
   "outputs": [],
   "source": [
    "def user_choice(): \n",
    "    choice = ''\n",
    "    while(choice.isdigit() == False): \n",
    "        choice = input('Enter a number:')\n",
    "        if choice.isdigit() == False: \n",
    "            print('That is not a digit!')\n",
    "    return int(choice)"
   ]
  },
  {
   "cell_type": "code",
   "execution_count": null,
   "id": "f2075680-7c49-480e-98ae-da62d6808980",
   "metadata": {},
   "outputs": [],
   "source": [
    "user_choice()"
   ]
  },
  {
   "cell_type": "markdown",
   "id": "0d8f947f-cfd3-490c-8ada-ef67946e273a",
   "metadata": {},
   "source": [
    "### Validate Range"
   ]
  },
  {
   "cell_type": "code",
   "execution_count": null,
   "id": "8da9e5a7-9d42-4fcb-8344-ee45d4764eb7",
   "metadata": {},
   "outputs": [],
   "source": [
    "def user_choice(): \n",
    "    choice = ''\n",
    "    a_range = range(11)\n",
    "    in_range = False\n",
    "    \n",
    "    # check two conditions: digit or not in_range\n",
    "    while not choice.isdigit() or in_range == False: \n",
    "        choice = ''\n",
    "        choice = input('Enter a number between 0 and 10:')\n",
    "        \n",
    "        # digit check\n",
    "        if choice.isdigit() == False: \n",
    "            print('-> That is not a number!')\n",
    "            continue\n",
    "        \n",
    "        # range check\n",
    "        if int(choice) in a_range: \n",
    "            in_range = True\n",
    "        else:\n",
    "            print('-> Number not in range!')\n",
    "    \n",
    "    return int(choice)"
   ]
  },
  {
   "cell_type": "code",
   "execution_count": null,
   "id": "fb7d5a67-c730-4082-8cbf-65f4569c1e7e",
   "metadata": {},
   "outputs": [],
   "source": [
    "# alternative from video\n",
    "\n",
    "def user_choice2(): \n",
    "    c = 'WRONG'\n",
    "    a_r = range(11)\n",
    "    in_range = False\n",
    "    \n",
    "    while c.isdigit() == False or in_range == False: \n",
    "        c = input('Please enter a number between 0 and 10:')\n",
    "        if c.isdigit() == False: \n",
    "            print('-> That is not a number!')\n",
    "            \n",
    "        if c.isdigit() == True: \n",
    "            if int(c) in a_r: \n",
    "                in_range = True\n",
    "            else:\n",
    "                print('-> Number not in range!')\n",
    "                in_range = False"
   ]
  },
  {
   "cell_type": "code",
   "execution_count": null,
   "id": "587fb72c-9ad6-4bc2-ba93-cd30f4ad3dfb",
   "metadata": {},
   "outputs": [],
   "source": [
    "# from IPython.display import clear_output\n",
    "# clear_output()"
   ]
  },
  {
   "cell_type": "code",
   "execution_count": null,
   "id": "eab8ed39-9be7-465c-8e03-76728b9b56df",
   "metadata": {},
   "outputs": [],
   "source": [
    "user_choice()"
   ]
  },
  {
   "cell_type": "markdown",
   "id": "3abae6d5-f220-4374-907f-cbfd5b464d9c",
   "metadata": {},
   "source": [
    "# Simple User Interaction"
   ]
  },
  {
   "cell_type": "markdown",
   "id": "224836bd-f5cc-4f00-a450-91e3e9dd1b97",
   "metadata": {},
   "source": [
    "## Display Game"
   ]
  },
  {
   "cell_type": "code",
   "execution_count": 1,
   "id": "0abc7d98-4b54-4ffe-a238-fc157b3b661a",
   "metadata": {},
   "outputs": [],
   "source": [
    "l = list(range(3))"
   ]
  },
  {
   "cell_type": "code",
   "execution_count": 2,
   "id": "a304eb5b-54f8-435f-899d-07b3a2a355c7",
   "metadata": {},
   "outputs": [],
   "source": [
    "def display_game(l): \n",
    "    print(f'Here is the current list: {l}')"
   ]
  },
  {
   "cell_type": "code",
   "execution_count": 3,
   "id": "24e83514-3c10-4649-822c-3a8283431ca0",
   "metadata": {},
   "outputs": [
    {
     "name": "stdout",
     "output_type": "stream",
     "text": [
      "Here is the current list: [0, 1, 2]\n"
     ]
    }
   ],
   "source": [
    "display_game(l)"
   ]
  },
  {
   "cell_type": "markdown",
   "id": "44376367-31e1-4215-a213-3ce4df605152",
   "metadata": {},
   "source": [
    "## Player Choice"
   ]
  },
  {
   "cell_type": "code",
   "execution_count": 21,
   "id": "30043f9b-498a-4542-977e-058790336825",
   "metadata": {},
   "outputs": [],
   "source": [
    "def pos_choice():\n",
    "    ui = ''\n",
    "    \n",
    "    while not ui.isdigit(): \n",
    "        ui = input('Pick a position (0,1,2):')\n",
    "        if not ui.isdigit(): \n",
    "            print('-> Enter an integer')\n",
    "            ui = ''\n",
    "            continue\n",
    "        else: \n",
    "            if int(ui) in range(3): \n",
    "                return int(ui)\n",
    "            else: \n",
    "                print('-> Integer outside range')\n",
    "                ui = ''\n",
    "                continue"
   ]
  },
  {
   "cell_type": "code",
   "execution_count": 22,
   "id": "46e7e6e2-2ce6-4502-9842-dc5dbbf44c90",
   "metadata": {},
   "outputs": [
    {
     "name": "stdin",
     "output_type": "stream",
     "text": [
      "Pick a position (0,1,2): 1\n"
     ]
    },
    {
     "data": {
      "text/plain": [
       "1"
      ]
     },
     "execution_count": 22,
     "metadata": {},
     "output_type": "execute_result"
    }
   ],
   "source": [
    "pos_choice()"
   ]
  },
  {
   "cell_type": "code",
   "execution_count": 14,
   "id": "ef887ca0-9db6-4349-90fe-6fbd575161db",
   "metadata": {},
   "outputs": [],
   "source": [
    "def rep_choice(l, pos): \n",
    "    ui = input('Type a string to place at position:')\n",
    "    l[pos] = ui\n",
    "    return l"
   ]
  },
  {
   "cell_type": "code",
   "execution_count": 15,
   "id": "688e7fb5-6168-4957-bdac-adf353cdddb3",
   "metadata": {},
   "outputs": [
    {
     "name": "stdout",
     "output_type": "stream",
     "text": [
      "Type a string to place at position:new\n"
     ]
    },
    {
     "data": {
      "text/plain": [
       "[0, 'new', 2]"
      ]
     },
     "execution_count": 15,
     "metadata": {},
     "output_type": "execute_result"
    }
   ],
   "source": [
    "rep_choice(l,1)"
   ]
  },
  {
   "cell_type": "code",
   "execution_count": 16,
   "id": "ab31d5a8-3700-4bff-a9b3-028c18751b56",
   "metadata": {},
   "outputs": [],
   "source": [
    "def game_on_choice():\n",
    "    ui = ''\n",
    "    \n",
    "    while ui.lower() not in ['y','n']:\n",
    "        ui = input('Keep playing? (Y or N)')\n",
    "        if ui.lower() not in ['y','n']: \n",
    "            print('-> Enter Y or N')\n",
    "            ui = ''\n",
    "            continue\n",
    "        elif ui.lower() == 'y': \n",
    "            return True\n",
    "        else: \n",
    "            return False"
   ]
  },
  {
   "cell_type": "code",
   "execution_count": 17,
   "id": "a337b1a1-8bd1-41bd-861d-43869c2d96d6",
   "metadata": {},
   "outputs": [
    {
     "name": "stdout",
     "output_type": "stream",
     "text": [
      "Keep playing? (Y or N)y\n"
     ]
    },
    {
     "data": {
      "text/plain": [
       "True"
      ]
     },
     "execution_count": 17,
     "metadata": {},
     "output_type": "execute_result"
    }
   ],
   "source": [
    "game_on_choice()"
   ]
  },
  {
   "cell_type": "code",
   "execution_count": 23,
   "id": "82c4b701-c61f-42d8-9888-970b3f19a70d",
   "metadata": {},
   "outputs": [
    {
     "name": "stdout",
     "output_type": "stream",
     "text": [
      "Here is the current list: [0, 1, 2]\n"
     ]
    },
    {
     "name": "stdin",
     "output_type": "stream",
     "text": [
      "Pick a position (0,1,2): 1\n",
      "Type a string to place at position: tst\n"
     ]
    },
    {
     "name": "stdout",
     "output_type": "stream",
     "text": [
      "Here is the current list: [0, 'tst', 2]\n"
     ]
    },
    {
     "name": "stdin",
     "output_type": "stream",
     "text": [
      "Keep playing? (Y or N) n\n"
     ]
    }
   ],
   "source": [
    "game_on = True\n",
    "l = list(range(3))\n",
    "\n",
    "while game_on: \n",
    "    display_game(l)\n",
    "    pos = pos_choice()\n",
    "    l = rep_choice(l,pos)\n",
    "    display_game(l)\n",
    "    game_on = game_on_choice()"
   ]
  },
  {
   "cell_type": "code",
   "execution_count": null,
   "id": "ef7df52d-01be-4ae0-a9ed-1eda1e1f9ceb",
   "metadata": {},
   "outputs": [],
   "source": []
  }
 ],
 "metadata": {
  "kernelspec": {
   "display_name": "Python 3 (ipykernel)",
   "language": "python",
   "name": "python3"
  },
  "language_info": {
   "codemirror_mode": {
    "name": "ipython",
    "version": 3
   },
   "file_extension": ".py",
   "mimetype": "text/x-python",
   "name": "python",
   "nbconvert_exporter": "python",
   "pygments_lexer": "ipython3",
   "version": "3.9.6"
  }
 },
 "nbformat": 4,
 "nbformat_minor": 5
}
